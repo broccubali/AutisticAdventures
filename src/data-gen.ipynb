{
 "cells": [
  {
   "cell_type": "code",
   "execution_count": null,
   "id": "11a616f4",
   "metadata": {
    "_cell_guid": "1e6837f2-96e9-4d4f-b50e-b17c3471ac3d",
    "_uuid": "27edb060-b57e-42bc-bcd3-3ff35ba2bc3c",
    "collapsed": false,
    "execution": {
     "iopub.execute_input": "2025-04-24T15:30:55.144872Z",
     "iopub.status.busy": "2025-04-24T15:30:55.144575Z",
     "iopub.status.idle": "2025-04-24T15:31:01.529863Z",
     "shell.execute_reply": "2025-04-24T15:31:01.529145Z"
    },
    "jupyter": {
     "outputs_hidden": false
    },
    "papermill": {
     "duration": 6.390067,
     "end_time": "2025-04-24T15:31:01.531250",
     "exception": false,
     "start_time": "2025-04-24T15:30:55.141183",
     "status": "completed"
    },
    "tags": []
   },
   "outputs": [],
   "source": [
    "import numpy as np\n",
    "import nibabel as nib\n",
    "import matplotlib.pyplot as plt\n",
    "import seaborn as sns\n",
    "from nilearn import datasets\n",
    "from nilearn.input_data import NiftiLabelsMasker\n",
    "\n",
    "print(\"Fetching Schaefer atlas...\")\n",
    "atlas = datasets.fetch_atlas_schaefer_2018(n_rois=100, yeo_networks=7, resolution_mm=2)\n",
    "atlas_img = atlas.maps\n",
    "labels = atlas.labels"
   ]
  },
  {
   "cell_type": "code",
   "execution_count": 3,
   "id": "216c904c",
   "metadata": {
    "execution": {
     "iopub.execute_input": "2025-04-24T15:31:01.538527Z",
     "iopub.status.busy": "2025-04-24T15:31:01.538026Z",
     "iopub.status.idle": "2025-04-24T15:31:01.544173Z",
     "shell.execute_reply": "2025-04-24T15:31:01.543490Z"
    },
    "papermill": {
     "duration": 0.011308,
     "end_time": "2025-04-24T15:31:01.545675",
     "exception": false,
     "start_time": "2025-04-24T15:31:01.534367",
     "status": "completed"
    },
    "tags": []
   },
   "outputs": [],
   "source": [
    "import os\n",
    "import numpy as np\n",
    "from nilearn.input_data import NiftiLabelsMasker\n",
    "\n",
    "def corr(fmri_path):\n",
    "    try:\n",
    "        masker = NiftiLabelsMasker(\n",
    "            labels_img=atlas_img,\n",
    "            standardize=True,\n",
    "            detrend=True,\n",
    "            memory='nilearn_cache',\n",
    "            verbose=0\n",
    "        )\n",
    "        time_series = masker.fit_transform(fmri_path)\n",
    "        correlation_matrix = np.corrcoef(time_series.T)\n",
    "\n",
    "        base = os.path.basename(fmri_path).replace('.nii.gz', '')\n",
    "        output_dir = \"correlation_matrices\"\n",
    "        os.makedirs(output_dir, exist_ok=True)\n",
    "        out_filename = os.path.join(output_dir, f\"{base}_corr.npy\")\n",
    "\n",
    "        np.save(out_filename, correlation_matrix)\n",
    "        print(f\"Saved: {out_filename}\")\n",
    "\n",
    "    except Exception as e:\n",
    "        print(f\"Error processing {fmri_path}: {e}\")\n"
   ]
  },
  {
   "cell_type": "code",
   "execution_count": null,
   "id": "b1b85c71",
   "metadata": {},
   "outputs": [],
   "source": [
    "def corr1(fmri_path):\n",
    "    try:\n",
    "        masker = NiftiLabelsMasker(\n",
    "            labels_img=atlas_img,\n",
    "            standardize=True,\n",
    "            detrend=True,\n",
    "            memory=\"nilearn_cache\",\n",
    "            verbose=0,\n",
    "        )\n",
    "        time_series = masker.fit_transform(fmri_path)\n",
    "        corrs = []\n",
    "        for i in network_to_indices:\n",
    "            corrs.append(np.corrcoef(time_series[:, network_to_indices[i]].T))\n",
    "\n",
    "        base = os.path.basename(fmri_path).replace(\".nii.gz\", \"\")\n",
    "        output_dir = \"subnet_matrices\"\n",
    "        os.makedirs(output_dir, exist_ok=True)\n",
    "        out_filename = os.path.join(output_dir, f\"{base}_corr.npz\")\n",
    "\n",
    "        np.savez(out_filename, **{f\"arr_{i}\": arr for i, arr in enumerate(corrs)})\n",
    "        print(f\"Saved: {out_filename}\")\n",
    "\n",
    "    except Exception as e:\n",
    "        print(f\"Error processing {fmri_path}: {e}\")"
   ]
  },
  {
   "cell_type": "code",
   "execution_count": 4,
   "id": "ccd07959",
   "metadata": {
    "execution": {
     "iopub.execute_input": "2025-04-24T15:31:01.552607Z",
     "iopub.status.busy": "2025-04-24T15:31:01.552292Z",
     "iopub.status.idle": "2025-04-24T15:31:02.328965Z",
     "shell.execute_reply": "2025-04-24T15:31:02.328210Z"
    },
    "papermill": {
     "duration": 0.782156,
     "end_time": "2025-04-24T15:31:02.330757",
     "exception": false,
     "start_time": "2025-04-24T15:31:01.548601",
     "status": "completed"
    },
    "tags": []
   },
   "outputs": [],
   "source": [
    "import urllib.request as request\n",
    "s3_prefix = 'https://s3.amazonaws.com/fcp-indi/data/Projects/'\\\n",
    "                'ABIDE_Initiative'\n",
    "s3_pheno_path = '/'.join([s3_prefix, 'Phenotypic_V1_0b_preprocessed1.csv'])\n",
    "s3_pheno_file = request.urlopen(s3_pheno_path)\n",
    "pheno_list = s3_pheno_file.readlines()\n"
   ]
  },
  {
   "cell_type": "code",
   "execution_count": 5,
   "id": "b22ec10c",
   "metadata": {
    "execution": {
     "iopub.execute_input": "2025-04-24T15:31:02.338000Z",
     "iopub.status.busy": "2025-04-24T15:31:02.337378Z",
     "iopub.status.idle": "2025-04-24T15:31:02.341961Z",
     "shell.execute_reply": "2025-04-24T15:31:02.340834Z"
    },
    "papermill": {
     "duration": 0.009483,
     "end_time": "2025-04-24T15:31:02.343318",
     "exception": false,
     "start_time": "2025-04-24T15:31:02.333835",
     "status": "completed"
    },
    "tags": []
   },
   "outputs": [],
   "source": [
    "header = pheno_list[0].decode().split(',')\n",
    "file_idx = header.index('FILE_ID')"
   ]
  },
  {
   "cell_type": "code",
   "execution_count": 6,
   "id": "5bdc5a0c",
   "metadata": {
    "execution": {
     "iopub.execute_input": "2025-04-24T15:31:02.350547Z",
     "iopub.status.busy": "2025-04-24T15:31:02.350199Z",
     "iopub.status.idle": "2025-04-24T19:13:05.002864Z",
     "shell.execute_reply": "2025-04-24T19:13:05.001652Z"
    },
    "papermill": {
     "duration": 13322.658397,
     "end_time": "2025-04-24T19:13:05.004626",
     "exception": false,
     "start_time": "2025-04-24T15:31:02.346229",
     "status": "completed"
    },
    "tags": []
   },
   "outputs": [
    {
     "name": "stderr",
     "output_type": "stream",
     "text": [
      "Parallel Processing:   0%|          | 1/1112 [00:00<05:11,  3.57it/s]"
     ]
    },
    {
     "name": "stdout",
     "output_type": "stream",
     "text": [
      "Error: HTTP Error 404: Not Found\n"
     ]
    },
    {
     "name": "stderr",
     "output_type": "stream",
     "text": [
      "Parallel Processing:   0%|          | 2/1112 [00:53<9:38:45, 31.28s/it]"
     ]
    },
    {
     "name": "stdout",
     "output_type": "stream",
     "text": [
      "Saved: correlation_matrices/Pitt_0050003_func_preproc_corr.npy\n",
      "Saved: correlation_matrices/Pitt_0050005_func_preproc_corr.npy\n"
     ]
    },
    {
     "name": "stderr",
     "output_type": "stream",
     "text": [
      "Parallel Processing:   0%|          | 3/1112 [00:54<5:20:45, 17.35s/it]"
     ]
    },
    {
     "name": "stdout",
     "output_type": "stream",
     "text": [
      "Saved: correlation_matrices/Pitt_0050004_func_preproc_corr.npy\n"
     ]
    },
    {
     "name": "stderr",
     "output_type": "stream",
     "text": [
      "Parallel Processing:   0%|          | 5/1112 [00:54<2:22:25,  7.72s/it]"
     ]
    },
    {
     "name": "stdout",
     "output_type": "stream",
     "text": [
      "Saved: correlation_matrices/Pitt_0050006_func_preproc_corr.npy\n"
     ]
    },
    {
     "name": "stderr",
     "output_type": "stream",
     "text": [
      "Parallel Processing:   1%|          | 6/1112 [01:44<6:04:07, 19.75s/it]"
     ]
    },
    {
     "name": "stdout",
     "output_type": "stream",
     "text": [
      "Saved: correlation_matrices/Pitt_0050007_func_preproc_corr.npy\n"
     ]
    },
    {
     "name": "stderr",
     "output_type": "stream",
     "text": [
      "Parallel Processing:   1%|          | 7/1112 [01:44<4:21:17, 14.19s/it]"
     ]
    },
    {
     "name": "stdout",
     "output_type": "stream",
     "text": [
      "Saved: correlation_matrices/Pitt_0050008_func_preproc_corr.npy\n"
     ]
    },
    {
     "name": "stderr",
     "output_type": "stream",
     "text": [
      "Parallel Processing:   1%|          | 8/1112 [01:45<3:08:54, 10.27s/it]"
     ]
    },
    {
     "name": "stdout",
     "output_type": "stream",
     "text": [
      "Saved: correlation_matrices/Pitt_0050009_func_preproc_corr.npy\n"
     ]
    },
    {
     "name": "stderr",
     "output_type": "stream",
     "text": [
      "Parallel Processing:   1%|          | 9/1112 [01:46<2:15:41,  7.38s/it]"
     ]
    },
    {
     "name": "stdout",
     "output_type": "stream",
     "text": [
      "Saved: correlation_matrices/Pitt_0050010_func_preproc_corr.npy\n"
     ]
    },
    {
     "name": "stderr",
     "output_type": "stream",
     "text": [
      "Parallel Processing:   1%|          | 10/1112 [02:34<5:57:53, 19.49s/it]"
     ]
    },
    {
     "name": "stdout",
     "output_type": "stream",
     "text": [
      "Saved: correlation_matrices/Pitt_0050011_func_preproc_corr.npy\n",
      "Saved: correlation_matrices/Pitt_0050013_func_preproc_corr.npy\n"
     ]
    },
    {
     "name": "stderr",
     "output_type": "stream",
     "text": [
      "Parallel Processing:   1%|          | 11/1112 [02:37<4:26:46, 14.54s/it]"
     ]
    },
    {
     "name": "stdout",
     "output_type": "stream",
     "text": [
      "Saved: correlation_matrices/Pitt_0050012_func_preproc_corr.npy\n"
     ]
    },
    {
     "name": "stderr",
     "output_type": "stream",
     "text": [
      "Parallel Processing:   1%|          | 13/1112 [02:37<2:26:37,  8.01s/it]"
     ]
    },
    {
     "name": "stdout",
     "output_type": "stream",
     "text": [
      "Saved: correlation_matrices/Pitt_0050014_func_preproc_corr.npy\n"
     ]
    },
    {
     "name": "stderr",
     "output_type": "stream",
     "text": [
      "Parallel Processing:   1%|▏         | 14/1112 [03:25<5:26:34, 17.85s/it]"
     ]
    },
    {
     "name": "stdout",
     "output_type": "stream",
     "text": [
      "Saved: correlation_matrices/Pitt_0050015_func_preproc_corr.npy\n",
      "Saved: correlation_matrices/Pitt_0050017_func_preproc_corr.npy\n"
     ]
    },
    {
     "name": "stderr",
     "output_type": "stream",
     "text": [
      "Parallel Processing:   1%|▏         | 15/1112 [03:27<4:09:03, 13.62s/it]"
     ]
    },
    {
     "name": "stdout",
     "output_type": "stream",
     "text": [
      "Saved: correlation_matrices/Pitt_0050016_func_preproc_corr.npy\n"
     ]
    },
    {
     "name": "stderr",
     "output_type": "stream",
     "text": [
      "Parallel Processing:   2%|▏         | 17/1112 [03:27<2:24:27,  7.92s/it]"
     ]
    },
    {
     "name": "stdout",
     "output_type": "stream",
     "text": [
      "Saved: correlation_matrices/Pitt_0050019_func_preproc_corr.npy\n"
     ]
    },
    {
     "name": "stderr",
     "output_type": "stream",
     "text": [
      "Parallel Processing:   2%|▏         | 18/1112 [04:17<5:23:28, 17.74s/it]"
     ]
    },
    {
     "name": "stdout",
     "output_type": "stream",
     "text": [
      "Saved: correlation_matrices/Pitt_0050020_func_preproc_corr.npy\n"
     ]
    },
    {
     "name": "stderr",
     "output_type": "stream",
     "text": [
      "Parallel Processing:   2%|▏         | 19/1112 [04:18<4:06:33, 13.53s/it]"
     ]
    },
    {
     "name": "stdout",
     "output_type": "stream",
     "text": [
      "Saved: correlation_matrices/Pitt_0050022_func_preproc_corr.npy\n",
      "Saved: correlation_matrices/Pitt_0050024_func_preproc_corr.npy\n"
     ]
    },
    {
     "name": "stderr",
     "output_type": "stream",
     "text": [
      "Parallel Processing:   2%|▏         | 20/1112 [04:19<3:05:53, 10.21s/it]"
     ]
    },
    {
     "name": "stdout",
     "output_type": "stream",
     "text": [
      "Saved: correlation_matrices/Pitt_0050023_func_preproc_corr.npy\n",
      "Saved: correlation_matrices/Pitt_0050026_func_preproc_corr.npy\n"
     ]
    },
    {
     "name": "stderr",
     "output_type": "stream",
     "text": [
      "Parallel Processing:   2%|▏         | 22/1112 [05:38<6:51:38, 22.66s/it]"
     ]
    },
    {
     "name": "stdout",
     "output_type": "stream",
     "text": [
      "Saved: correlation_matrices/Pitt_0050025_func_preproc_corr.npy\n",
      "Saved: correlation_matrices/Pitt_0050028_func_preproc_corr.npy\n"
     ]
    },
    {
     "name": "stderr",
     "output_type": "stream",
     "text": [
      "Parallel Processing:   2%|▏         | 24/1112 [05:39<4:19:00, 14.28s/it]"
     ]
    },
    {
     "name": "stdout",
     "output_type": "stream",
     "text": [
      "Saved: correlation_matrices/Pitt_0050027_func_preproc_corr.npy\n",
      "Saved: correlation_matrices/Pitt_0050030_func_preproc_corr.npy\n",
      "Saved: correlation_matrices/Pitt_0050032_func_preproc_corr.npy\n"
     ]
    },
    {
     "name": "stderr",
     "output_type": "stream",
     "text": [
      "Parallel Processing:   2%|▏         | 26/1112 [06:34<5:42:09, 18.90s/it]"
     ]
    },
    {
     "name": "stdout",
     "output_type": "stream",
     "text": [
      "Saved: correlation_matrices/Pitt_0050029_func_preproc_corr.npy\n"
     ]
    },
    {
     "name": "stderr",
     "output_type": "stream",
     "text": [
      "Parallel Processing:   3%|▎         | 28/1112 [06:35<3:52:06, 12.85s/it]"
     ]
    },
    {
     "name": "stdout",
     "output_type": "stream",
     "text": [
      "Saved: correlation_matrices/Pitt_0050031_func_preproc_corr.npy\n",
      "Saved: correlation_matrices/Pitt_0050035_func_preproc_corr.npy\n",
      "Saved: correlation_matrices/Pitt_0050034_func_preproc_corr.npy\n"
     ]
    },
    {
     "name": "stderr",
     "output_type": "stream",
     "text": [
      "Parallel Processing:   3%|▎         | 30/1112 [07:27<5:08:31, 17.11s/it]"
     ]
    },
    {
     "name": "stdout",
     "output_type": "stream",
     "text": [
      "Saved: correlation_matrices/Pitt_0050033_func_preproc_corr.npy\n"
     ]
    },
    {
     "name": "stderr",
     "output_type": "stream",
     "text": [
      "Parallel Processing:   3%|▎         | 33/1112 [07:28<3:04:19, 10.25s/it]"
     ]
    },
    {
     "name": "stdout",
     "output_type": "stream",
     "text": [
      "Saved: correlation_matrices/Pitt_0050036_func_preproc_corr.npy\n"
     ]
    },
    {
     "name": "stderr",
     "output_type": "stream",
     "text": [
      "Parallel Processing:   3%|▎         | 34/1112 [08:18<4:58:15, 16.60s/it]"
     ]
    },
    {
     "name": "stdout",
     "output_type": "stream",
     "text": [
      "Saved: correlation_matrices/Pitt_0050037_func_preproc_corr.npy\n",
      "Saved: correlation_matrices/Pitt_0050039_func_preproc_corr.npy\n"
     ]
    },
    {
     "name": "stderr",
     "output_type": "stream",
     "text": [
      "Parallel Processing:   3%|▎         | 35/1112 [08:20<4:08:42, 13.86s/it]"
     ]
    },
    {
     "name": "stdout",
     "output_type": "stream",
     "text": [
      "Saved: correlation_matrices/Pitt_0050038_func_preproc_corr.npy\n"
     ]
    },
    {
     "name": "stderr",
     "output_type": "stream",
     "text": [
      "Parallel Processing:   3%|▎         | 37/1112 [08:20<2:42:43,  9.08s/it]"
     ]
    },
    {
     "name": "stdout",
     "output_type": "stream",
     "text": [
      "Saved: correlation_matrices/Pitt_0050040_func_preproc_corr.npy\n"
     ]
    },
    {
     "name": "stderr",
     "output_type": "stream",
     "text": [
      "Parallel Processing:   3%|▎         | 38/1112 [09:08<5:01:44, 16.86s/it]"
     ]
    },
    {
     "name": "stdout",
     "output_type": "stream",
     "text": [
      "Saved: correlation_matrices/Pitt_0050041_func_preproc_corr.npy\n",
      "Saved: correlation_matrices/Pitt_0050044_func_preproc_corr.npy\n"
     ]
    },
    {
     "name": "stderr",
     "output_type": "stream",
     "text": [
      "Parallel Processing:   4%|▎         | 39/1112 [09:11<4:07:32, 13.84s/it]"
     ]
    },
    {
     "name": "stdout",
     "output_type": "stream",
     "text": [
      "Saved: correlation_matrices/Pitt_0050042_func_preproc_corr.npy\n"
     ]
    },
    {
     "name": "stderr",
     "output_type": "stream",
     "text": [
      "Parallel Processing:   4%|▎         | 40/1112 [09:13<3:13:36, 10.84s/it]"
     ]
    },
    {
     "name": "stdout",
     "output_type": "stream",
     "text": [
      "Saved: correlation_matrices/Pitt_0050043_func_preproc_corr.npy\n"
     ]
    },
    {
     "name": "stderr",
     "output_type": "stream",
     "text": [
      "Parallel Processing:   4%|▍         | 42/1112 [09:54<4:25:18, 14.88s/it]"
     ]
    },
    {
     "name": "stdout",
     "output_type": "stream",
     "text": [
      "Saved: correlation_matrices/Pitt_0050045_func_preproc_corr.npy\n",
      "Saved: correlation_matrices/Pitt_0050047_func_preproc_corr.npy\n"
     ]
    },
    {
     "name": "stderr",
     "output_type": "stream",
     "text": [
      "Parallel Processing:   4%|▍         | 43/1112 [10:02<3:56:18, 13.26s/it]"
     ]
    },
    {
     "name": "stdout",
     "output_type": "stream",
     "text": [
      "Saved: correlation_matrices/Pitt_0050046_func_preproc_corr.npy\n"
     ]
    },
    {
     "name": "stderr",
     "output_type": "stream",
     "text": [
      "Parallel Processing:   4%|▍         | 45/1112 [10:04<2:30:44,  8.48s/it]"
     ]
    },
    {
     "name": "stdout",
     "output_type": "stream",
     "text": [
      "Saved: correlation_matrices/Pitt_0050048_func_preproc_corr.npy\n"
     ]
    },
    {
     "name": "stderr",
     "output_type": "stream",
     "text": [
      "Parallel Processing:   4%|▍         | 46/1112 [10:41<4:19:52, 14.63s/it]"
     ]
    },
    {
     "name": "stdout",
     "output_type": "stream",
     "text": [
      "Saved: correlation_matrices/Pitt_0050049_func_preproc_corr.npy\n"
     ]
    },
    {
     "name": "stderr",
     "output_type": "stream",
     "text": [
      "Parallel Processing:   4%|▍         | 47/1112 [10:51<4:02:34, 13.67s/it]"
     ]
    },
    {
     "name": "stdout",
     "output_type": "stream",
     "text": [
      "Saved: correlation_matrices/Pitt_0050050_func_preproc_corr.npy\n",
      "Saved: correlation_matrices/Pitt_0050052_func_preproc_corr.npy\n"
     ]
    },
    {
     "name": "stderr",
     "output_type": "stream",
     "text": [
      "Parallel Processing:   4%|▍         | 48/1112 [10:53<3:07:51, 10.59s/it]"
     ]
    },
    {
     "name": "stdout",
     "output_type": "stream",
     "text": [
      "Saved: correlation_matrices/Pitt_0050051_func_preproc_corr.npy\n"
     ]
    },
    {
     "name": "stderr",
     "output_type": "stream",
     "text": [
      "Parallel Processing:   4%|▍         | 50/1112 [11:26<3:51:30, 13.08s/it]"
     ]
    },
    {
     "name": "stdout",
     "output_type": "stream",
     "text": [
      "Saved: correlation_matrices/Pitt_0050053_func_preproc_corr.npy\n",
      "Saved: correlation_matrices/Pitt_0050055_func_preproc_corr.npy\n"
     ]
    },
    {
     "name": "stderr",
     "output_type": "stream",
     "text": [
      "Parallel Processing:   5%|▍         | 51/1112 [11:44<4:12:16, 14.27s/it]"
     ]
    },
    {
     "name": "stdout",
     "output_type": "stream",
     "text": [
      "Saved: correlation_matrices/Pitt_0050054_func_preproc_corr.npy\n"
     ]
    },
    {
     "name": "stderr",
     "output_type": "stream",
     "text": [
      "Parallel Processing:   5%|▍         | 53/1112 [11:45<2:33:40,  8.71s/it]"
     ]
    },
    {
     "name": "stdout",
     "output_type": "stream",
     "text": [
      "Saved: correlation_matrices/Pitt_0050056_func_preproc_corr.npy\n"
     ]
    },
    {
     "name": "stderr",
     "output_type": "stream",
     "text": [
      "Parallel Processing:   5%|▍         | 54/1112 [12:11<3:40:41, 12.52s/it]"
     ]
    },
    {
     "name": "stdout",
     "output_type": "stream",
     "text": [
      "Saved: correlation_matrices/Pitt_0050057_func_preproc_corr.npy\n"
     ]
    },
    {
     "name": "stderr",
     "output_type": "stream",
     "text": [
      "Parallel Processing:   5%|▍         | 55/1112 [12:32<4:17:55, 14.64s/it]"
     ]
    },
    {
     "name": "stdout",
     "output_type": "stream",
     "text": [
      "Saved: correlation_matrices/Pitt_0050058_func_preproc_corr.npy\n",
      "Saved: correlation_matrices/Pitt_0050060_func_preproc_corr.npy\n"
     ]
    },
    {
     "name": "stderr",
     "output_type": "stream",
     "text": [
      "Parallel Processing:   5%|▌         | 56/1112 [12:33<3:18:32, 11.28s/it]"
     ]
    },
    {
     "name": "stdout",
     "output_type": "stream",
     "text": [
      "Saved: correlation_matrices/Pitt_0050059_func_preproc_corr.npy\n"
     ]
    },
    {
     "name": "stderr",
     "output_type": "stream",
     "text": [
      "Parallel Processing:   5%|▌         | 58/1112 [12:59<3:29:36, 11.93s/it]"
     ]
    },
    {
     "name": "stdout",
     "output_type": "stream",
     "text": [
      "Saved: correlation_matrices/Olin_0050102_func_preproc_corr.npy\n"
     ]
    },
    {
     "name": "stderr",
     "output_type": "stream",
     "text": [
      "Parallel Processing:   5%|▌         | 59/1112 [13:28<4:36:47, 15.77s/it]"
     ]
    },
    {
     "name": "stdout",
     "output_type": "stream",
     "text": [
      "Saved: correlation_matrices/Olin_0050103_func_preproc_corr.npy\n",
      "Saved: correlation_matrices/Olin_0050105_func_preproc_corr.npy\n",
      "Error: HTTP Error 404: Not Found\n"
     ]
    },
    {
     "name": "stderr",
     "output_type": "stream",
     "text": [
      "Parallel Processing:   5%|▌         | 60/1112 [13:30<3:36:28, 12.35s/it]"
     ]
    },
    {
     "name": "stdout",
     "output_type": "stream",
     "text": [
      "Saved: correlation_matrices/Olin_0050104_func_preproc_corr.npy\n"
     ]
    },
    {
     "name": "stderr",
     "output_type": "stream",
     "text": [
      "Parallel Processing:   6%|▌         | 62/1112 [13:50<3:20:22, 11.45s/it]"
     ]
    },
    {
     "name": "stdout",
     "output_type": "stream",
     "text": [
      "Saved: correlation_matrices/Olin_0050106_func_preproc_corr.npy\n"
     ]
    },
    {
     "name": "stderr",
     "output_type": "stream",
     "text": [
      "Parallel Processing:   6%|▌         | 63/1112 [14:21<4:37:02, 15.85s/it]"
     ]
    },
    {
     "name": "stdout",
     "output_type": "stream",
     "text": [
      "Saved: correlation_matrices/Olin_0050107_func_preproc_corr.npy\n"
     ]
    },
    {
     "name": "stderr",
     "output_type": "stream",
     "text": [
      "Parallel Processing:   6%|▌         | 65/1112 [14:22<2:52:22,  9.88s/it]"
     ]
    },
    {
     "name": "stdout",
     "output_type": "stream",
     "text": [
      "Saved: correlation_matrices/Olin_0050109_func_preproc_corr.npy\n"
     ]
    },
    {
     "name": "stderr",
     "output_type": "stream",
     "text": [
      "Parallel Processing:   6%|▌         | 66/1112 [14:24<2:23:13,  8.22s/it]"
     ]
    },
    {
     "name": "stdout",
     "output_type": "stream",
     "text": [
      "Saved: correlation_matrices/Olin_0050110_func_preproc_corr.npy\n"
     ]
    },
    {
     "name": "stderr",
     "output_type": "stream",
     "text": [
      "Parallel Processing:   6%|▌         | 67/1112 [14:39<2:49:59,  9.76s/it]"
     ]
    },
    {
     "name": "stdout",
     "output_type": "stream",
     "text": [
      "Saved: correlation_matrices/Olin_0050111_func_preproc_corr.npy\n"
     ]
    },
    {
     "name": "stderr",
     "output_type": "stream",
     "text": [
      "Parallel Processing:   6%|▌         | 68/1112 [15:35<6:13:03, 21.44s/it]"
     ]
    },
    {
     "name": "stdout",
     "output_type": "stream",
     "text": [
      "Saved: correlation_matrices/Olin_0050112_func_preproc_corr.npy\n"
     ]
    },
    {
     "name": "stderr",
     "output_type": "stream",
     "text": [
      "Parallel Processing:   6%|▌         | 69/1112 [15:39<4:52:35, 16.83s/it]"
     ]
    },
    {
     "name": "stdout",
     "output_type": "stream",
     "text": [
      "Saved: correlation_matrices/Olin_0050113_func_preproc_corr.npy\n"
     ]
    },
    {
     "name": "stderr",
     "output_type": "stream",
     "text": [
      "Parallel Processing:   6%|▋         | 70/1112 [15:40<3:37:19, 12.51s/it]"
     ]
    },
    {
     "name": "stdout",
     "output_type": "stream",
     "text": [
      "Saved: correlation_matrices/Olin_0050114_func_preproc_corr.npy\n"
     ]
    },
    {
     "name": "stderr",
     "output_type": "stream",
     "text": [
      "Parallel Processing:   6%|▋         | 71/1112 [15:50<3:26:21, 11.89s/it]"
     ]
    },
    {
     "name": "stdout",
     "output_type": "stream",
     "text": [
      "Saved: correlation_matrices/Olin_0050115_func_preproc_corr.npy\n"
     ]
    },
    {
     "name": "stderr",
     "output_type": "stream",
     "text": [
      "Parallel Processing:   6%|▋         | 72/1112 [16:32<5:52:36, 20.34s/it]"
     ]
    },
    {
     "name": "stdout",
     "output_type": "stream",
     "text": [
      "Saved: correlation_matrices/Olin_0050116_func_preproc_corr.npy\n"
     ]
    },
    {
     "name": "stderr",
     "output_type": "stream",
     "text": [
      "Parallel Processing:   7%|▋         | 73/1112 [16:35<4:25:42, 15.34s/it]"
     ]
    },
    {
     "name": "stdout",
     "output_type": "stream",
     "text": [
      "Saved: correlation_matrices/Olin_0050117_func_preproc_corr.npy\n"
     ]
    },
    {
     "name": "stderr",
     "output_type": "stream",
     "text": [
      "Parallel Processing:   7%|▋         | 74/1112 [16:38<3:22:44, 11.72s/it]"
     ]
    },
    {
     "name": "stdout",
     "output_type": "stream",
     "text": [
      "Saved: correlation_matrices/Olin_0050118_func_preproc_corr.npy\n"
     ]
    },
    {
     "name": "stderr",
     "output_type": "stream",
     "text": [
      "Parallel Processing:   7%|▋         | 75/1112 [16:43<2:47:42,  9.70s/it]"
     ]
    },
    {
     "name": "stdout",
     "output_type": "stream",
     "text": [
      "Saved: correlation_matrices/Olin_0050119_func_preproc_corr.npy\n"
     ]
    },
    {
     "name": "stderr",
     "output_type": "stream",
     "text": [
      "Parallel Processing:   7%|▋         | 76/1112 [17:24<5:30:47, 19.16s/it]"
     ]
    },
    {
     "name": "stdout",
     "output_type": "stream",
     "text": [
      "Saved: correlation_matrices/Olin_0050120_func_preproc_corr.npy\n"
     ]
    },
    {
     "name": "stderr",
     "output_type": "stream",
     "text": [
      "Parallel Processing:   7%|▋         | 77/1112 [17:29<4:16:03, 14.84s/it]"
     ]
    },
    {
     "name": "stdout",
     "output_type": "stream",
     "text": [
      "Saved: correlation_matrices/Olin_0050121_func_preproc_corr.npy\n"
     ]
    },
    {
     "name": "stderr",
     "output_type": "stream",
     "text": [
      "Parallel Processing:   7%|▋         | 78/1112 [17:33<3:19:58, 11.60s/it]"
     ]
    },
    {
     "name": "stdout",
     "output_type": "stream",
     "text": [
      "Saved: correlation_matrices/Olin_0050122_func_preproc_corr.npy\n"
     ]
    },
    {
     "name": "stderr",
     "output_type": "stream",
     "text": [
      "Parallel Processing:   7%|▋         | 79/1112 [17:36<2:35:34,  9.04s/it]"
     ]
    },
    {
     "name": "stdout",
     "output_type": "stream",
     "text": [
      "Saved: correlation_matrices/Olin_0050123_func_preproc_corr.npy\n"
     ]
    },
    {
     "name": "stderr",
     "output_type": "stream",
     "text": [
      "Parallel Processing:   7%|▋         | 80/1112 [18:19<5:30:41, 19.23s/it]"
     ]
    },
    {
     "name": "stdout",
     "output_type": "stream",
     "text": [
      "Saved: correlation_matrices/Olin_0050124_func_preproc_corr.npy\n"
     ]
    },
    {
     "name": "stderr",
     "output_type": "stream",
     "text": [
      "Parallel Processing:   7%|▋         | 81/1112 [18:25<4:21:38, 15.23s/it]"
     ]
    },
    {
     "name": "stdout",
     "output_type": "stream",
     "text": [
      "Saved: correlation_matrices/Olin_0050125_func_preproc_corr.npy\n",
      "Saved: correlation_matrices/Olin_0050127_func_preproc_corr.npy\n"
     ]
    },
    {
     "name": "stderr",
     "output_type": "stream",
     "text": [
      "Parallel Processing:   7%|▋         | 82/1112 [18:31<3:32:07, 12.36s/it]"
     ]
    },
    {
     "name": "stdout",
     "output_type": "stream",
     "text": [
      "Saved: correlation_matrices/Olin_0050126_func_preproc_corr.npy\n"
     ]
    },
    {
     "name": "stderr",
     "output_type": "stream",
     "text": [
      "Parallel Processing:   8%|▊         | 84/1112 [19:11<4:33:47, 15.98s/it]"
     ]
    },
    {
     "name": "stdout",
     "output_type": "stream",
     "text": [
      "Saved: correlation_matrices/Olin_0050128_func_preproc_corr.npy\n"
     ]
    },
    {
     "name": "stderr",
     "output_type": "stream",
     "text": [
      "Parallel Processing:   8%|▊         | 85/1112 [19:19<4:01:32, 14.11s/it]"
     ]
    },
    {
     "name": "stdout",
     "output_type": "stream",
     "text": [
      "Saved: correlation_matrices/Olin_0050129_func_preproc_corr.npy\n"
     ]
    },
    {
     "name": "stderr",
     "output_type": "stream",
     "text": [
      "Parallel Processing:   8%|▊         | 86/1112 [19:24<3:20:20, 11.72s/it]"
     ]
    },
    {
     "name": "stdout",
     "output_type": "stream",
     "text": [
      "Saved: correlation_matrices/Olin_0050130_func_preproc_corr.npy\n"
     ]
    },
    {
     "name": "stderr",
     "output_type": "stream",
     "text": [
      "Parallel Processing:   8%|▊         | 87/1112 [19:25<2:28:34,  8.70s/it]"
     ]
    },
    {
     "name": "stdout",
     "output_type": "stream",
     "text": [
      "Saved: correlation_matrices/Olin_0050131_func_preproc_corr.npy\n"
     ]
    },
    {
     "name": "stderr",
     "output_type": "stream",
     "text": [
      "Parallel Processing:   8%|▊         | 88/1112 [20:02<4:44:22, 16.66s/it]"
     ]
    },
    {
     "name": "stdout",
     "output_type": "stream",
     "text": [
      "Saved: correlation_matrices/Olin_0050132_func_preproc_corr.npy\n"
     ]
    },
    {
     "name": "stderr",
     "output_type": "stream",
     "text": [
      "Parallel Processing:   8%|▊         | 89/1112 [20:15<4:27:02, 15.66s/it]"
     ]
    },
    {
     "name": "stdout",
     "output_type": "stream",
     "text": [
      "Saved: correlation_matrices/Olin_0050133_func_preproc_corr.npy\n",
      "Error: HTTP Error 404: Not Found\n"
     ]
    },
    {
     "name": "stderr",
     "output_type": "stream",
     "text": [
      "Parallel Processing:   8%|▊         | 90/1112 [20:17<3:15:52, 11.50s/it]"
     ]
    },
    {
     "name": "stdout",
     "output_type": "stream",
     "text": [
      "Saved: correlation_matrices/Olin_0050134_func_preproc_corr.npy\n"
     ]
    },
    {
     "name": "stderr",
     "output_type": "stream",
     "text": [
      "Parallel Processing:   8%|▊         | 91/1112 [20:19<2:30:42,  8.86s/it]"
     ]
    },
    {
     "name": "stdout",
     "output_type": "stream",
     "text": [
      "Saved: correlation_matrices/Olin_0050135_func_preproc_corr.npy\n",
      "Saved: correlation_matrices/OHSU_0050142_func_preproc_corr.npy\n",
      "Saved: correlation_matrices/OHSU_0050143_func_preproc_corr.npy\n",
      "Saved: correlation_matrices/OHSU_0050144_func_preproc_corr.npy\n"
     ]
    },
    {
     "name": "stderr",
     "output_type": "stream",
     "text": [
      "Parallel Processing:   8%|▊         | 92/1112 [20:45<3:55:11, 13.83s/it]"
     ]
    },
    {
     "name": "stdout",
     "output_type": "stream",
     "text": [
      "Saved: correlation_matrices/Olin_0050136_func_preproc_corr.npy\n"
     ]
    },
    {
     "name": "stderr",
     "output_type": "stream",
     "text": [
      "Parallel Processing:   9%|▊         | 97/1112 [20:58<1:46:03,  6.27s/it]"
     ]
    },
    {
     "name": "stdout",
     "output_type": "stream",
     "text": [
      "Saved: correlation_matrices/OHSU_0050145_func_preproc_corr.npy\n"
     ]
    },
    {
     "name": "stderr",
     "output_type": "stream",
     "text": [
      "Parallel Processing:   9%|▉         | 98/1112 [21:00<1:33:18,  5.52s/it]"
     ]
    },
    {
     "name": "stdout",
     "output_type": "stream",
     "text": [
      "Saved: correlation_matrices/OHSU_0050146_func_preproc_corr.npy\n"
     ]
    },
    {
     "name": "stderr",
     "output_type": "stream",
     "text": [
      "Parallel Processing:   9%|▉         | 99/1112 [21:01<1:20:09,  4.75s/it]"
     ]
    },
    {
     "name": "stdout",
     "output_type": "stream",
     "text": [
      "Saved: correlation_matrices/OHSU_0050147_func_preproc_corr.npy\n"
     ]
    },
    {
     "name": "stderr",
     "output_type": "stream",
     "text": [
      "Parallel Processing:   9%|▉         | 100/1112 [21:04<1:12:46,  4.31s/it]"
     ]
    },
    {
     "name": "stdout",
     "output_type": "stream",
     "text": [
      "Saved: correlation_matrices/OHSU_0050148_func_preproc_corr.npy\n"
     ]
    },
    {
     "name": "stderr",
     "output_type": "stream",
     "text": [
      "Parallel Processing:   9%|▉         | 101/1112 [21:18<1:49:14,  6.48s/it]"
     ]
    },
    {
     "name": "stdout",
     "output_type": "stream",
     "text": [
      "Saved: correlation_matrices/OHSU_0050149_func_preproc_corr.npy\n",
      "Error: HTTP Error 404: Not Found\n"
     ]
    },
    {
     "name": "stderr",
     "output_type": "stream",
     "text": [
      "Parallel Processing:   9%|▉         | 102/1112 [21:21<1:36:58,  5.76s/it]"
     ]
    },
    {
     "name": "stdout",
     "output_type": "stream",
     "text": [
      "Saved: correlation_matrices/OHSU_0050150_func_preproc_corr.npy\n"
     ]
    },
    {
     "name": "stderr",
     "output_type": "stream",
     "text": [
      "Parallel Processing:   9%|▉         | 103/1112 [21:22<1:15:27,  4.49s/it]"
     ]
    },
    {
     "name": "stdout",
     "output_type": "stream",
     "text": [
      "Saved: correlation_matrices/OHSU_0050152_func_preproc_corr.npy\n"
     ]
    },
    {
     "name": "stderr",
     "output_type": "stream",
     "text": [
      "Parallel Processing:   9%|▉         | 104/1112 [21:24<1:01:56,  3.69s/it]"
     ]
    },
    {
     "name": "stdout",
     "output_type": "stream",
     "text": [
      "Saved: correlation_matrices/OHSU_0050153_func_preproc_corr.npy\n"
     ]
    },
    {
     "name": "stderr",
     "output_type": "stream",
     "text": [
      "Parallel Processing:  10%|▉         | 106/1112 [21:36<1:20:49,  4.82s/it]"
     ]
    },
    {
     "name": "stdout",
     "output_type": "stream",
     "text": [
      "Saved: correlation_matrices/OHSU_0050156_func_preproc_corr.npy\n"
     ]
    },
    {
     "name": "stderr",
     "output_type": "stream",
     "text": [
      "Parallel Processing:  10%|▉         | 107/1112 [21:43<1:26:57,  5.19s/it]"
     ]
    },
    {
     "name": "stdout",
     "output_type": "stream",
     "text": [
      "Saved: correlation_matrices/OHSU_0050157_func_preproc_corr.npy\n"
     ]
    },
    {
     "name": "stderr",
     "output_type": "stream",
     "text": [
      "Parallel Processing:  10%|▉         | 108/1112 [21:44<1:10:16,  4.20s/it]"
     ]
    },
    {
     "name": "stdout",
     "output_type": "stream",
     "text": [
      "Saved: correlation_matrices/OHSU_0050158_func_preproc_corr.npy\n"
     ]
    },
    {
     "name": "stderr",
     "output_type": "stream",
     "text": [
      "Parallel Processing:  10%|▉         | 109/1112 [21:44<53:11,  3.18s/it]  "
     ]
    },
    {
     "name": "stdout",
     "output_type": "stream",
     "text": [
      "Saved: correlation_matrices/OHSU_0050159_func_preproc_corr.npy\n"
     ]
    },
    {
     "name": "stderr",
     "output_type": "stream",
     "text": [
      "Parallel Processing:  10%|▉         | 110/1112 [21:54<1:24:47,  5.08s/it]"
     ]
    },
    {
     "name": "stdout",
     "output_type": "stream",
     "text": [
      "Saved: correlation_matrices/OHSU_0050160_func_preproc_corr.npy\n"
     ]
    },
    {
     "name": "stderr",
     "output_type": "stream",
     "text": [
      "Parallel Processing:  10%|▉         | 111/1112 [22:04<1:45:34,  6.33s/it]"
     ]
    },
    {
     "name": "stdout",
     "output_type": "stream",
     "text": [
      "Saved: correlation_matrices/OHSU_0050161_func_preproc_corr.npy\n",
      "Error: HTTP Error 404: Not Found\n"
     ]
    },
    {
     "name": "stderr",
     "output_type": "stream",
     "text": [
      "Parallel Processing:  10%|█         | 112/1112 [22:05<1:20:34,  4.83s/it]"
     ]
    },
    {
     "name": "stdout",
     "output_type": "stream",
     "text": [
      "Saved: correlation_matrices/OHSU_0050162_func_preproc_corr.npy\n"
     ]
    },
    {
     "name": "stderr",
     "output_type": "stream",
     "text": [
      "Parallel Processing:  10%|█         | 113/1112 [22:05<58:57,  3.54s/it]  "
     ]
    },
    {
     "name": "stdout",
     "output_type": "stream",
     "text": [
      "Saved: correlation_matrices/OHSU_0050163_func_preproc_corr.npy\n"
     ]
    },
    {
     "name": "stderr",
     "output_type": "stream",
     "text": [
      "Parallel Processing:  10%|█         | 114/1112 [22:13<1:19:28,  4.78s/it]"
     ]
    },
    {
     "name": "stdout",
     "output_type": "stream",
     "text": [
      "Saved: correlation_matrices/OHSU_0050164_func_preproc_corr.npy\n"
     ]
    },
    {
     "name": "stderr",
     "output_type": "stream",
     "text": [
      "Parallel Processing:  10%|█         | 116/1112 [22:26<1:33:27,  5.63s/it]"
     ]
    },
    {
     "name": "stdout",
     "output_type": "stream",
     "text": [
      "Saved: correlation_matrices/OHSU_0050166_func_preproc_corr.npy\n"
     ]
    },
    {
     "name": "stderr",
     "output_type": "stream",
     "text": [
      "Parallel Processing:  11%|█         | 117/1112 [22:27<1:12:16,  4.36s/it]"
     ]
    },
    {
     "name": "stdout",
     "output_type": "stream",
     "text": [
      "Saved: correlation_matrices/OHSU_0050167_func_preproc_corr.npy\n"
     ]
    },
    {
     "name": "stderr",
     "output_type": "stream",
     "text": [
      "Parallel Processing:  11%|█         | 118/1112 [22:27<54:52,  3.31s/it]  "
     ]
    },
    {
     "name": "stdout",
     "output_type": "stream",
     "text": [
      "Saved: correlation_matrices/OHSU_0050168_func_preproc_corr.npy\n"
     ]
    },
    {
     "name": "stderr",
     "output_type": "stream",
     "text": [
      "Parallel Processing:  11%|█         | 119/1112 [22:31<56:56,  3.44s/it]"
     ]
    },
    {
     "name": "stdout",
     "output_type": "stream",
     "text": [
      "Saved: correlation_matrices/OHSU_0050169_func_preproc_corr.npy\n"
     ]
    },
    {
     "name": "stderr",
     "output_type": "stream",
     "text": [
      "Parallel Processing:  11%|█         | 120/1112 [22:47<1:55:42,  7.00s/it]"
     ]
    },
    {
     "name": "stdout",
     "output_type": "stream",
     "text": [
      "Saved: correlation_matrices/OHSU_0050170_func_preproc_corr.npy\n"
     ]
    },
    {
     "name": "stderr",
     "output_type": "stream",
     "text": [
      "Parallel Processing:  11%|█         | 121/1112 [22:47<1:24:19,  5.11s/it]"
     ]
    },
    {
     "name": "stdout",
     "output_type": "stream",
     "text": [
      "Saved: correlation_matrices/OHSU_0050171_func_preproc_corr.npy\n"
     ]
    },
    {
     "name": "stderr",
     "output_type": "stream",
     "text": [
      "Parallel Processing:  11%|█         | 122/1112 [23:10<2:48:20, 10.20s/it]"
     ]
    },
    {
     "name": "stdout",
     "output_type": "stream",
     "text": [
      "Saved: correlation_matrices/SDSU_0050182_func_preproc_corr.npy\n"
     ]
    },
    {
     "name": "stderr",
     "output_type": "stream",
     "text": [
      "Parallel Processing:  11%|█         | 123/1112 [23:14<2:18:52,  8.43s/it]"
     ]
    },
    {
     "name": "stdout",
     "output_type": "stream",
     "text": [
      "Saved: correlation_matrices/SDSU_0050183_func_preproc_corr.npy\n"
     ]
    },
    {
     "name": "stderr",
     "output_type": "stream",
     "text": [
      "/usr/local/lib/python3.11/dist-packages/numpy/lib/function_base.py:2897: RuntimeWarning: divide by zero encountered in divide\n",
      "  c /= stddev[:, None]\n",
      "/usr/local/lib/python3.11/dist-packages/numpy/lib/function_base.py:2897: RuntimeWarning: invalid value encountered in divide\n",
      "  c /= stddev[:, None]\n",
      "/usr/local/lib/python3.11/dist-packages/numpy/lib/function_base.py:2898: RuntimeWarning: divide by zero encountered in divide\n",
      "  c /= stddev[None, :]\n",
      "/usr/local/lib/python3.11/dist-packages/numpy/lib/function_base.py:2898: RuntimeWarning: invalid value encountered in divide\n",
      "  c /= stddev[None, :]\n",
      "Parallel Processing:  11%|█         | 124/1112 [23:28<2:46:09, 10.09s/it]"
     ]
    },
    {
     "name": "stdout",
     "output_type": "stream",
     "text": [
      "Saved: correlation_matrices/SDSU_0050184_func_preproc_corr.npy\n"
     ]
    },
    {
     "name": "stderr",
     "output_type": "stream",
     "text": [
      "Parallel Processing:  11%|█         | 125/1112 [23:31<2:07:34,  7.76s/it]"
     ]
    },
    {
     "name": "stdout",
     "output_type": "stream",
     "text": [
      "Saved: correlation_matrices/SDSU_0050185_func_preproc_corr.npy\n"
     ]
    },
    {
     "name": "stderr",
     "output_type": "stream",
     "text": [
      "Parallel Processing:  11%|█▏        | 126/1112 [23:53<3:20:07, 12.18s/it]"
     ]
    },
    {
     "name": "stdout",
     "output_type": "stream",
     "text": [
      "Saved: correlation_matrices/SDSU_0050186_func_preproc_corr.npy\n"
     ]
    },
    {
     "name": "stderr",
     "output_type": "stream",
     "text": [
      "Parallel Processing:  11%|█▏        | 127/1112 [23:56<2:32:50,  9.31s/it]"
     ]
    },
    {
     "name": "stdout",
     "output_type": "stream",
     "text": [
      "Saved: correlation_matrices/SDSU_0050187_func_preproc_corr.npy\n"
     ]
    },
    {
     "name": "stderr",
     "output_type": "stream",
     "text": [
      "Parallel Processing:  12%|█▏        | 128/1112 [24:11<2:59:10, 10.93s/it]"
     ]
    },
    {
     "name": "stdout",
     "output_type": "stream",
     "text": [
      "Saved: correlation_matrices/SDSU_0050188_func_preproc_corr.npy\n"
     ]
    },
    {
     "name": "stderr",
     "output_type": "stream",
     "text": [
      "Parallel Processing:  12%|█▏        | 129/1112 [24:12<2:12:13,  8.07s/it]"
     ]
    },
    {
     "name": "stdout",
     "output_type": "stream",
     "text": [
      "Saved: correlation_matrices/SDSU_0050189_func_preproc_corr.npy\n"
     ]
    },
    {
     "name": "stderr",
     "output_type": "stream",
     "text": [
      "Parallel Processing:  12%|█▏        | 130/1112 [24:34<3:22:15, 12.36s/it]"
     ]
    },
    {
     "name": "stdout",
     "output_type": "stream",
     "text": [
      "Saved: correlation_matrices/SDSU_0050190_func_preproc_corr.npy\n"
     ]
    },
    {
     "name": "stderr",
     "output_type": "stream",
     "text": [
      "Parallel Processing:  12%|█▏        | 131/1112 [24:37<2:35:32,  9.51s/it]"
     ]
    },
    {
     "name": "stdout",
     "output_type": "stream",
     "text": [
      "Saved: correlation_matrices/SDSU_0050191_func_preproc_corr.npy\n"
     ]
    },
    {
     "name": "stderr",
     "output_type": "stream",
     "text": [
      "/usr/local/lib/python3.11/dist-packages/numpy/lib/function_base.py:2897: RuntimeWarning: divide by zero encountered in divide\n",
      "  c /= stddev[:, None]\n",
      "/usr/local/lib/python3.11/dist-packages/numpy/lib/function_base.py:2897: RuntimeWarning: invalid value encountered in divide\n",
      "  c /= stddev[:, None]\n",
      "/usr/local/lib/python3.11/dist-packages/numpy/lib/function_base.py:2898: RuntimeWarning: divide by zero encountered in divide\n",
      "  c /= stddev[None, :]\n",
      "/usr/local/lib/python3.11/dist-packages/numpy/lib/function_base.py:2898: RuntimeWarning: invalid value encountered in divide\n",
      "  c /= stddev[None, :]\n",
      "Parallel Processing:  12%|█▏        | 132/1112 [24:56<3:21:30, 12.34s/it]"
     ]
    },
    {
     "name": "stdout",
     "output_type": "stream",
     "text": [
      "Saved: correlation_matrices/SDSU_0050192_func_preproc_corr.npy\n"
     ]
    },
    {
     "name": "stderr",
     "output_type": "stream",
     "text": [
      "Parallel Processing:  12%|█▏        | 133/1112 [24:59<2:36:08,  9.57s/it]"
     ]
    },
    {
     "name": "stdout",
     "output_type": "stream",
     "text": [
      "Saved: correlation_matrices/SDSU_0050193_func_preproc_corr.npy\n"
     ]
    },
    {
     "name": "stderr",
     "output_type": "stream",
     "text": [
      "Parallel Processing:  12%|█▏        | 134/1112 [25:23<3:45:14, 13.82s/it]"
     ]
    },
    {
     "name": "stdout",
     "output_type": "stream",
     "text": [
      "Saved: correlation_matrices/SDSU_0050194_func_preproc_corr.npy\n"
     ]
    },
    {
     "name": "stderr",
     "output_type": "stream",
     "text": [
      "/usr/local/lib/python3.11/dist-packages/numpy/lib/function_base.py:2897: RuntimeWarning: divide by zero encountered in divide\n",
      "  c /= stddev[:, None]\n",
      "/usr/local/lib/python3.11/dist-packages/numpy/lib/function_base.py:2897: RuntimeWarning: invalid value encountered in divide\n",
      "  c /= stddev[:, None]\n",
      "/usr/local/lib/python3.11/dist-packages/numpy/lib/function_base.py:2898: RuntimeWarning: divide by zero encountered in divide\n",
      "  c /= stddev[None, :]\n",
      "/usr/local/lib/python3.11/dist-packages/numpy/lib/function_base.py:2898: RuntimeWarning: invalid value encountered in divide\n",
      "  c /= stddev[None, :]\n",
      "Parallel Processing:  12%|█▏        | 135/1112 [25:25<2:49:14, 10.39s/it]"
     ]
    },
    {
     "name": "stdout",
     "output_type": "stream",
     "text": [
      "Saved: correlation_matrices/SDSU_0050195_func_preproc_corr.npy\n",
      "Saved: correlation_matrices/SDSU_0050196_func_preproc_corr.npy\n"
     ]
    },
    {
     "name": "stderr",
     "output_type": "stream",
     "text": [
      "Parallel Processing:  12%|█▏        | 137/1112 [26:03<3:40:51, 13.59s/it]"
     ]
    },
    {
     "name": "stdout",
     "output_type": "stream",
     "text": [
      "Saved: correlation_matrices/SDSU_0050197_func_preproc_corr.npy\n"
     ]
    },
    {
     "name": "stderr",
     "output_type": "stream",
     "text": [
      "Parallel Processing:  12%|█▏        | 138/1112 [26:37<5:19:06, 19.66s/it]"
     ]
    },
    {
     "name": "stdout",
     "output_type": "stream",
     "text": [
      "Saved: correlation_matrices/SDSU_0050198_func_preproc_corr.npy\n"
     ]
    },
    {
     "name": "stderr",
     "output_type": "stream",
     "text": [
      "Parallel Processing:  12%|█▎        | 139/1112 [26:38<3:46:57, 14.00s/it]"
     ]
    },
    {
     "name": "stdout",
     "output_type": "stream",
     "text": [
      "Saved: correlation_matrices/SDSU_0050199_func_preproc_corr.npy\n"
     ]
    },
    {
     "name": "stderr",
     "output_type": "stream",
     "text": [
      "Parallel Processing:  13%|█▎        | 140/1112 [26:47<3:24:12, 12.61s/it]"
     ]
    },
    {
     "name": "stdout",
     "output_type": "stream",
     "text": [
      "Saved: correlation_matrices/SDSU_0050200_func_preproc_corr.npy\n"
     ]
    },
    {
     "name": "stderr",
     "output_type": "stream",
     "text": [
      "Parallel Processing:  13%|█▎        | 141/1112 [26:50<2:36:03,  9.64s/it]"
     ]
    },
    {
     "name": "stdout",
     "output_type": "stream",
     "text": [
      "Saved: correlation_matrices/SDSU_0050201_func_preproc_corr.npy\n"
     ]
    },
    {
     "name": "stderr",
     "output_type": "stream",
     "text": [
      "Parallel Processing:  13%|█▎        | 142/1112 [27:22<4:24:21, 16.35s/it]"
     ]
    },
    {
     "name": "stdout",
     "output_type": "stream",
     "text": [
      "Saved: correlation_matrices/SDSU_0050202_func_preproc_corr.npy\n"
     ]
    },
    {
     "name": "stderr",
     "output_type": "stream",
     "text": [
      "Parallel Processing:  13%|█▎        | 143/1112 [27:23<3:09:04, 11.71s/it]"
     ]
    },
    {
     "name": "stdout",
     "output_type": "stream",
     "text": [
      "Saved: correlation_matrices/SDSU_0050203_func_preproc_corr.npy\n"
     ]
    },
    {
     "name": "stderr",
     "output_type": "stream",
     "text": [
      "Parallel Processing:  13%|█▎        | 144/1112 [27:31<2:54:41, 10.83s/it]"
     ]
    },
    {
     "name": "stdout",
     "output_type": "stream",
     "text": [
      "Saved: correlation_matrices/SDSU_0050204_func_preproc_corr.npy\n"
     ]
    },
    {
     "name": "stderr",
     "output_type": "stream",
     "text": [
      "Parallel Processing:  13%|█▎        | 145/1112 [27:33<2:09:13,  8.02s/it]"
     ]
    },
    {
     "name": "stdout",
     "output_type": "stream",
     "text": [
      "Saved: correlation_matrices/SDSU_0050205_func_preproc_corr.npy\n"
     ]
    },
    {
     "name": "stderr",
     "output_type": "stream",
     "text": [
      "Parallel Processing:  13%|█▎        | 146/1112 [28:06<4:10:20, 15.55s/it]"
     ]
    },
    {
     "name": "stdout",
     "output_type": "stream",
     "text": [
      "Saved: correlation_matrices/SDSU_0050206_func_preproc_corr.npy\n"
     ]
    },
    {
     "name": "stderr",
     "output_type": "stream",
     "text": [
      "Parallel Processing:  13%|█▎        | 147/1112 [28:06<2:56:20, 10.96s/it]"
     ]
    },
    {
     "name": "stdout",
     "output_type": "stream",
     "text": [
      "Saved: correlation_matrices/SDSU_0050207_func_preproc_corr.npy\n"
     ]
    },
    {
     "name": "stderr",
     "output_type": "stream",
     "text": [
      "Parallel Processing:  13%|█▎        | 148/1112 [28:14<2:39:01,  9.90s/it]"
     ]
    },
    {
     "name": "stdout",
     "output_type": "stream",
     "text": [
      "Saved: correlation_matrices/SDSU_0050208_func_preproc_corr.npy\n"
     ]
    },
    {
     "name": "stderr",
     "output_type": "stream",
     "text": [
      "/usr/local/lib/python3.11/dist-packages/numpy/lib/function_base.py:2897: RuntimeWarning: divide by zero encountered in divide\n",
      "  c /= stddev[:, None]\n",
      "/usr/local/lib/python3.11/dist-packages/numpy/lib/function_base.py:2897: RuntimeWarning: invalid value encountered in divide\n",
      "  c /= stddev[:, None]\n",
      "/usr/local/lib/python3.11/dist-packages/numpy/lib/function_base.py:2898: RuntimeWarning: divide by zero encountered in divide\n",
      "  c /= stddev[None, :]\n",
      "/usr/local/lib/python3.11/dist-packages/numpy/lib/function_base.py:2898: RuntimeWarning: invalid value encountered in divide\n",
      "  c /= stddev[None, :]\n",
      "Parallel Processing:  13%|█▎        | 149/1112 [28:14<1:54:00,  7.10s/it]"
     ]
    },
    {
     "name": "stdout",
     "output_type": "stream",
     "text": [
      "Saved: correlation_matrices/SDSU_0050209_func_preproc_corr.npy\n"
     ]
    },
    {
     "name": "stderr",
     "output_type": "stream",
     "text": [
      "Parallel Processing:  13%|█▎        | 150/1112 [28:49<4:08:25, 15.49s/it]"
     ]
    },
    {
     "name": "stdout",
     "output_type": "stream",
     "text": [
      "Saved: correlation_matrices/SDSU_0050210_func_preproc_corr.npy\n"
     ]
    },
    {
     "name": "stderr",
     "output_type": "stream",
     "text": [
      "Parallel Processing:  14%|█▎        | 151/1112 [28:50<2:58:29, 11.14s/it]"
     ]
    },
    {
     "name": "stdout",
     "output_type": "stream",
     "text": [
      "Saved: correlation_matrices/SDSU_0050211_func_preproc_corr.npy\n"
     ]
    },
    {
     "name": "stderr",
     "output_type": "stream",
     "text": [
      "Parallel Processing:  14%|█▎        | 152/1112 [28:56<2:32:48,  9.55s/it]"
     ]
    },
    {
     "name": "stdout",
     "output_type": "stream",
     "text": [
      "Saved: correlation_matrices/SDSU_0050212_func_preproc_corr.npy\n"
     ]
    },
    {
     "name": "stderr",
     "output_type": "stream",
     "text": [
      "Parallel Processing:  14%|█▍        | 153/1112 [28:57<1:53:01,  7.07s/it]"
     ]
    },
    {
     "name": "stdout",
     "output_type": "stream",
     "text": [
      "Saved: correlation_matrices/SDSU_0050213_func_preproc_corr.npy\n"
     ]
    },
    {
     "name": "stderr",
     "output_type": "stream",
     "text": [
      "Parallel Processing:  14%|█▍        | 154/1112 [29:34<4:13:45, 15.89s/it]"
     ]
    },
    {
     "name": "stdout",
     "output_type": "stream",
     "text": [
      "Saved: correlation_matrices/SDSU_0050214_func_preproc_corr.npy\n"
     ]
    },
    {
     "name": "stderr",
     "output_type": "stream",
     "text": [
      "Parallel Processing:  14%|█▍        | 155/1112 [29:34<2:59:45, 11.27s/it]"
     ]
    },
    {
     "name": "stdout",
     "output_type": "stream",
     "text": [
      "Saved: correlation_matrices/SDSU_0050215_func_preproc_corr.npy\n"
     ]
    },
    {
     "name": "stderr",
     "output_type": "stream",
     "text": [
      "/usr/local/lib/python3.11/dist-packages/numpy/lib/function_base.py:2897: RuntimeWarning: divide by zero encountered in divide\n",
      "  c /= stddev[:, None]\n",
      "/usr/local/lib/python3.11/dist-packages/numpy/lib/function_base.py:2897: RuntimeWarning: invalid value encountered in divide\n",
      "  c /= stddev[:, None]\n",
      "/usr/local/lib/python3.11/dist-packages/numpy/lib/function_base.py:2898: RuntimeWarning: divide by zero encountered in divide\n",
      "  c /= stddev[None, :]\n",
      "/usr/local/lib/python3.11/dist-packages/numpy/lib/function_base.py:2898: RuntimeWarning: invalid value encountered in divide\n",
      "  c /= stddev[None, :]\n",
      "Parallel Processing:  14%|█▍        | 156/1112 [29:40<2:31:58,  9.54s/it]"
     ]
    },
    {
     "name": "stdout",
     "output_type": "stream",
     "text": [
      "Saved: correlation_matrices/SDSU_0050216_func_preproc_corr.npy\n"
     ]
    },
    {
     "name": "stderr",
     "output_type": "stream",
     "text": [
      "Parallel Processing:  14%|█▍        | 157/1112 [29:41<1:51:37,  7.01s/it]"
     ]
    },
    {
     "name": "stdout",
     "output_type": "stream",
     "text": [
      "Saved: correlation_matrices/SDSU_0050217_func_preproc_corr.npy\n",
      "Saved: correlation_matrices/Trinity_0050233_func_preproc_corr.npy\n"
     ]
    },
    {
     "name": "stderr",
     "output_type": "stream",
     "text": [
      "Parallel Processing:  14%|█▍        | 158/1112 [30:13<3:48:32, 14.37s/it]"
     ]
    },
    {
     "name": "stdout",
     "output_type": "stream",
     "text": [
      "Saved: correlation_matrices/Trinity_0050232_func_preproc_corr.npy\n",
      "Saved: correlation_matrices/Trinity_0050235_func_preproc_corr.npy\n"
     ]
    },
    {
     "name": "stderr",
     "output_type": "stream",
     "text": [
      "Parallel Processing:  14%|█▍        | 160/1112 [30:16<2:14:26,  8.47s/it]"
     ]
    },
    {
     "name": "stdout",
     "output_type": "stream",
     "text": [
      "Saved: correlation_matrices/Trinity_0050234_func_preproc_corr.npy\n",
      "Error: HTTP Error 404: Not Found\n"
     ]
    },
    {
     "name": "stderr",
     "output_type": "stream",
     "text": [
      "Parallel Processing:  15%|█▍        | 162/1112 [30:43<2:46:43, 10.53s/it]"
     ]
    },
    {
     "name": "stdout",
     "output_type": "stream",
     "text": [
      "Saved: correlation_matrices/Trinity_0050236_func_preproc_corr.npy\n"
     ]
    },
    {
     "name": "stderr",
     "output_type": "stream",
     "text": [
      "Parallel Processing:  15%|█▍        | 163/1112 [30:43<2:11:09,  8.29s/it]"
     ]
    },
    {
     "name": "stdout",
     "output_type": "stream",
     "text": [
      "Saved: correlation_matrices/Trinity_0050237_func_preproc_corr.npy\n"
     ]
    },
    {
     "name": "stderr",
     "output_type": "stream",
     "text": [
      "Parallel Processing:  15%|█▍        | 165/1112 [30:49<1:36:28,  6.11s/it]"
     ]
    },
    {
     "name": "stdout",
     "output_type": "stream",
     "text": [
      "Saved: correlation_matrices/Trinity_0050239_func_preproc_corr.npy\n"
     ]
    },
    {
     "name": "stderr",
     "output_type": "stream",
     "text": [
      "Parallel Processing:  15%|█▍        | 166/1112 [31:00<1:54:53,  7.29s/it]"
     ]
    },
    {
     "name": "stdout",
     "output_type": "stream",
     "text": [
      "Saved: correlation_matrices/Trinity_0050240_func_preproc_corr.npy\n",
      "Error: HTTP Error 404: Not Found\n"
     ]
    },
    {
     "name": "stderr",
     "output_type": "stream",
     "text": [
      "Parallel Processing:  15%|█▌        | 167/1112 [31:20<2:39:25, 10.12s/it]"
     ]
    },
    {
     "name": "stdout",
     "output_type": "stream",
     "text": [
      "Saved: correlation_matrices/Trinity_0050241_func_preproc_corr.npy\n"
     ]
    },
    {
     "name": "stderr",
     "output_type": "stream",
     "text": [
      "Parallel Processing:  15%|█▌        | 168/1112 [31:22<2:07:11,  8.08s/it]"
     ]
    },
    {
     "name": "stdout",
     "output_type": "stream",
     "text": [
      "Saved: correlation_matrices/Trinity_0050242_func_preproc_corr.npy\n"
     ]
    },
    {
     "name": "stderr",
     "output_type": "stream",
     "text": [
      "Parallel Processing:  15%|█▌        | 169/1112 [31:25<1:47:47,  6.86s/it]"
     ]
    },
    {
     "name": "stdout",
     "output_type": "stream",
     "text": [
      "Saved: correlation_matrices/Trinity_0050243_func_preproc_corr.npy\n"
     ]
    },
    {
     "name": "stderr",
     "output_type": "stream",
     "text": [
      "Parallel Processing:  15%|█▌        | 171/1112 [31:33<1:26:27,  5.51s/it]"
     ]
    },
    {
     "name": "stdout",
     "output_type": "stream",
     "text": [
      "Saved: correlation_matrices/Trinity_0050245_func_preproc_corr.npy\n"
     ]
    },
    {
     "name": "stderr",
     "output_type": "stream",
     "text": [
      "Parallel Processing:  15%|█▌        | 172/1112 [31:55<2:29:10,  9.52s/it]"
     ]
    },
    {
     "name": "stdout",
     "output_type": "stream",
     "text": [
      "Saved: correlation_matrices/Trinity_0050246_func_preproc_corr.npy\n"
     ]
    },
    {
     "name": "stderr",
     "output_type": "stream",
     "text": [
      "Parallel Processing:  16%|█▌        | 173/1112 [31:59<2:06:34,  8.09s/it]"
     ]
    },
    {
     "name": "stdout",
     "output_type": "stream",
     "text": [
      "Saved: correlation_matrices/Trinity_0050247_func_preproc_corr.npy\n",
      "Saved: correlation_matrices/Trinity_0050248_func_preproc_corr.npy\n"
     ]
    },
    {
     "name": "stderr",
     "output_type": "stream",
     "text": [
      "Parallel Processing:  16%|█▌        | 174/1112 [32:01<1:42:09,  6.53s/it]"
     ]
    },
    {
     "name": "stdout",
     "output_type": "stream",
     "text": [
      "Saved: correlation_matrices/Trinity_0050249_func_preproc_corr.npy\n"
     ]
    },
    {
     "name": "stderr",
     "output_type": "stream",
     "text": [
      "Parallel Processing:  16%|█▌        | 176/1112 [32:31<2:56:29, 11.31s/it]"
     ]
    },
    {
     "name": "stdout",
     "output_type": "stream",
     "text": [
      "Saved: correlation_matrices/Trinity_0050250_func_preproc_corr.npy\n"
     ]
    },
    {
     "name": "stderr",
     "output_type": "stream",
     "text": [
      "Parallel Processing:  16%|█▌        | 177/1112 [32:37<2:35:13,  9.96s/it]"
     ]
    },
    {
     "name": "stdout",
     "output_type": "stream",
     "text": [
      "Saved: correlation_matrices/Trinity_0050251_func_preproc_corr.npy\n"
     ]
    },
    {
     "name": "stderr",
     "output_type": "stream",
     "text": [
      "Parallel Processing:  16%|█▌        | 178/1112 [32:39<1:56:25,  7.48s/it]"
     ]
    },
    {
     "name": "stdout",
     "output_type": "stream",
     "text": [
      "Saved: correlation_matrices/Trinity_0050252_func_preproc_corr.npy\n"
     ]
    },
    {
     "name": "stderr",
     "output_type": "stream",
     "text": [
      "Parallel Processing:  16%|█▌        | 179/1112 [32:40<1:29:02,  5.73s/it]"
     ]
    },
    {
     "name": "stdout",
     "output_type": "stream",
     "text": [
      "Saved: correlation_matrices/Trinity_0050253_func_preproc_corr.npy\n"
     ]
    },
    {
     "name": "stderr",
     "output_type": "stream",
     "text": [
      "Parallel Processing:  16%|█▌        | 180/1112 [33:05<2:55:17, 11.29s/it]"
     ]
    },
    {
     "name": "stdout",
     "output_type": "stream",
     "text": [
      "Saved: correlation_matrices/Trinity_0050254_func_preproc_corr.npy\n"
     ]
    },
    {
     "name": "stderr",
     "output_type": "stream",
     "text": [
      "Parallel Processing:  16%|█▋        | 181/1112 [33:15<2:48:38, 10.87s/it]"
     ]
    },
    {
     "name": "stdout",
     "output_type": "stream",
     "text": [
      "Saved: correlation_matrices/Trinity_0050255_func_preproc_corr.npy\n"
     ]
    },
    {
     "name": "stderr",
     "output_type": "stream",
     "text": [
      "Parallel Processing:  16%|█▋        | 182/1112 [33:17<2:07:59,  8.26s/it]"
     ]
    },
    {
     "name": "stdout",
     "output_type": "stream",
     "text": [
      "Saved: correlation_matrices/Trinity_0050257_func_preproc_corr.npy\n"
     ]
    },
    {
     "name": "stderr",
     "output_type": "stream",
     "text": [
      "Parallel Processing:  16%|█▋        | 183/1112 [33:17<1:31:45,  5.93s/it]"
     ]
    },
    {
     "name": "stdout",
     "output_type": "stream",
     "text": [
      "Saved: correlation_matrices/Trinity_0050259_func_preproc_corr.npy\n"
     ]
    },
    {
     "name": "stderr",
     "output_type": "stream",
     "text": [
      "Parallel Processing:  17%|█▋        | 184/1112 [33:36<2:29:29,  9.67s/it]"
     ]
    },
    {
     "name": "stdout",
     "output_type": "stream",
     "text": [
      "Saved: correlation_matrices/Trinity_0050260_func_preproc_corr.npy\n"
     ]
    },
    {
     "name": "stderr",
     "output_type": "stream",
     "text": [
      "Parallel Processing:  17%|█▋        | 185/1112 [33:50<2:52:32, 11.17s/it]"
     ]
    },
    {
     "name": "stdout",
     "output_type": "stream",
     "text": [
      "Saved: correlation_matrices/Trinity_0050261_func_preproc_corr.npy\n"
     ]
    },
    {
     "name": "stderr",
     "output_type": "stream",
     "text": [
      "Parallel Processing:  17%|█▋        | 186/1112 [33:54<2:19:16,  9.02s/it]"
     ]
    },
    {
     "name": "stdout",
     "output_type": "stream",
     "text": [
      "Saved: correlation_matrices/Trinity_0050262_func_preproc_corr.npy\n"
     ]
    },
    {
     "name": "stderr",
     "output_type": "stream",
     "text": [
      "Parallel Processing:  17%|█▋        | 187/1112 [33:55<1:40:32,  6.52s/it]"
     ]
    },
    {
     "name": "stdout",
     "output_type": "stream",
     "text": [
      "Saved: correlation_matrices/Trinity_0050263_func_preproc_corr.npy\n"
     ]
    },
    {
     "name": "stderr",
     "output_type": "stream",
     "text": [
      "Parallel Processing:  17%|█▋        | 188/1112 [34:07<2:06:39,  8.22s/it]"
     ]
    },
    {
     "name": "stdout",
     "output_type": "stream",
     "text": [
      "Saved: correlation_matrices/Trinity_0050264_func_preproc_corr.npy\n"
     ]
    },
    {
     "name": "stderr",
     "output_type": "stream",
     "text": [
      "Parallel Processing:  17%|█▋        | 189/1112 [34:29<3:08:00, 12.22s/it]"
     ]
    },
    {
     "name": "stdout",
     "output_type": "stream",
     "text": [
      "Saved: correlation_matrices/Trinity_0050265_func_preproc_corr.npy\n"
     ]
    },
    {
     "name": "stderr",
     "output_type": "stream",
     "text": [
      "Parallel Processing:  17%|█▋        | 190/1112 [34:32<2:24:25,  9.40s/it]"
     ]
    },
    {
     "name": "stdout",
     "output_type": "stream",
     "text": [
      "Saved: correlation_matrices/Trinity_0050266_func_preproc_corr.npy\n"
     ]
    },
    {
     "name": "stderr",
     "output_type": "stream",
     "text": [
      "Parallel Processing:  17%|█▋        | 191/1112 [34:32<1:42:11,  6.66s/it]"
     ]
    },
    {
     "name": "stdout",
     "output_type": "stream",
     "text": [
      "Saved: correlation_matrices/Trinity_0050267_func_preproc_corr.npy\n"
     ]
    },
    {
     "name": "stderr",
     "output_type": "stream",
     "text": [
      "Parallel Processing:  17%|█▋        | 192/1112 [34:39<1:45:35,  6.89s/it]"
     ]
    },
    {
     "name": "stdout",
     "output_type": "stream",
     "text": [
      "Saved: correlation_matrices/Trinity_0050268_func_preproc_corr.npy\n"
     ]
    },
    {
     "name": "stderr",
     "output_type": "stream",
     "text": [
      "Parallel Processing:  17%|█▋        | 193/1112 [35:04<3:08:02, 12.28s/it]"
     ]
    },
    {
     "name": "stdout",
     "output_type": "stream",
     "text": [
      "Saved: correlation_matrices/Trinity_0050269_func_preproc_corr.npy\n",
      "Saved: correlation_matrices/Trinity_0050271_func_preproc_corr.npy\n",
      "Saved: correlation_matrices/Trinity_0050270_func_preproc_corr.npy\n"
     ]
    },
    {
     "name": "stderr",
     "output_type": "stream",
     "text": [
      "Parallel Processing:  18%|█▊        | 196/1112 [36:01<4:27:21, 17.51s/it]"
     ]
    },
    {
     "name": "stdout",
     "output_type": "stream",
     "text": [
      "Saved: correlation_matrices/UM_1_0050272_func_preproc_corr.npy\n"
     ]
    },
    {
     "name": "stderr",
     "output_type": "stream",
     "text": [
      "Parallel Processing:  18%|█▊        | 197/1112 [36:32<5:19:35, 20.96s/it]"
     ]
    },
    {
     "name": "stdout",
     "output_type": "stream",
     "text": [
      "Saved: correlation_matrices/UM_1_0050273_func_preproc_corr.npy\n"
     ]
    },
    {
     "name": "stderr",
     "output_type": "stream",
     "text": [
      "Parallel Processing:  18%|█▊        | 198/1112 [36:45<4:44:32, 18.68s/it]"
     ]
    },
    {
     "name": "stdout",
     "output_type": "stream",
     "text": [
      "Saved: correlation_matrices/UM_1_0050274_func_preproc_corr.npy\n"
     ]
    },
    {
     "name": "stderr",
     "output_type": "stream",
     "text": [
      "Parallel Processing:  18%|█▊        | 199/1112 [36:47<3:36:30, 14.23s/it]"
     ]
    },
    {
     "name": "stdout",
     "output_type": "stream",
     "text": [
      "Saved: correlation_matrices/UM_1_0050275_func_preproc_corr.npy\n"
     ]
    },
    {
     "name": "stderr",
     "output_type": "stream",
     "text": [
      "Parallel Processing:  18%|█▊        | 200/1112 [37:30<5:36:57, 22.17s/it]"
     ]
    },
    {
     "name": "stdout",
     "output_type": "stream",
     "text": [
      "Saved: correlation_matrices/UM_1_0050276_func_preproc_corr.npy\n"
     ]
    },
    {
     "name": "stderr",
     "output_type": "stream",
     "text": [
      "Parallel Processing:  18%|█▊        | 201/1112 [37:46<5:11:40, 20.53s/it]"
     ]
    },
    {
     "name": "stdout",
     "output_type": "stream",
     "text": [
      "Saved: correlation_matrices/UM_1_0050277_func_preproc_corr.npy\n",
      "Saved: correlation_matrices/UM_1_0050279_func_preproc_corr.npy\n"
     ]
    },
    {
     "name": "stderr",
     "output_type": "stream",
     "text": [
      "Parallel Processing:  18%|█▊        | 202/1112 [38:12<5:36:33, 22.19s/it]"
     ]
    },
    {
     "name": "stdout",
     "output_type": "stream",
     "text": [
      "Saved: correlation_matrices/UM_1_0050278_func_preproc_corr.npy\n"
     ]
    },
    {
     "name": "stderr",
     "output_type": "stream",
     "text": [
      "Parallel Processing:  18%|█▊        | 204/1112 [38:36<4:23:43, 17.43s/it]"
     ]
    },
    {
     "name": "stdout",
     "output_type": "stream",
     "text": [
      "Saved: correlation_matrices/UM_1_0050280_func_preproc_corr.npy\n"
     ]
    },
    {
     "name": "stderr",
     "output_type": "stream",
     "text": [
      "Parallel Processing:  18%|█▊        | 205/1112 [38:54<4:25:36, 17.57s/it]"
     ]
    },
    {
     "name": "stdout",
     "output_type": "stream",
     "text": [
      "Saved: correlation_matrices/UM_1_0050281_func_preproc_corr.npy\n"
     ]
    },
    {
     "name": "stderr",
     "output_type": "stream",
     "text": [
      "Parallel Processing:  19%|█▊        | 206/1112 [39:14<4:34:48, 18.20s/it]"
     ]
    },
    {
     "name": "stdout",
     "output_type": "stream",
     "text": [
      "Saved: correlation_matrices/UM_1_0050282_func_preproc_corr.npy\n"
     ]
    },
    {
     "name": "stderr",
     "output_type": "stream",
     "text": [
      "Parallel Processing:  19%|█▊        | 207/1112 [39:21<3:49:37, 15.22s/it]"
     ]
    },
    {
     "name": "stdout",
     "output_type": "stream",
     "text": [
      "Saved: correlation_matrices/UM_1_0050283_func_preproc_corr.npy\n"
     ]
    },
    {
     "name": "stderr",
     "output_type": "stream",
     "text": [
      "Parallel Processing:  19%|█▊        | 208/1112 [39:47<4:34:43, 18.23s/it]"
     ]
    },
    {
     "name": "stdout",
     "output_type": "stream",
     "text": [
      "Saved: correlation_matrices/UM_1_0050284_func_preproc_corr.npy\n"
     ]
    },
    {
     "name": "stderr",
     "output_type": "stream",
     "text": [
      "Parallel Processing:  19%|█▉        | 209/1112 [40:00<4:13:17, 16.83s/it]"
     ]
    },
    {
     "name": "stdout",
     "output_type": "stream",
     "text": [
      "Saved: correlation_matrices/UM_1_0050285_func_preproc_corr.npy\n",
      "Saved: correlation_matrices/UM_1_0050287_func_preproc_corr.npy\n"
     ]
    },
    {
     "name": "stderr",
     "output_type": "stream",
     "text": [
      "Parallel Processing:  19%|█▉        | 210/1112 [40:29<5:05:54, 20.35s/it]"
     ]
    },
    {
     "name": "stdout",
     "output_type": "stream",
     "text": [
      "Saved: correlation_matrices/UM_1_0050286_func_preproc_corr.npy\n"
     ]
    },
    {
     "name": "stderr",
     "output_type": "stream",
     "text": [
      "Parallel Processing:  19%|█▉        | 212/1112 [40:54<4:12:25, 16.83s/it]"
     ]
    },
    {
     "name": "stdout",
     "output_type": "stream",
     "text": [
      "Saved: correlation_matrices/UM_1_0050288_func_preproc_corr.npy\n"
     ]
    },
    {
     "name": "stderr",
     "output_type": "stream",
     "text": [
      "Parallel Processing:  19%|█▉        | 213/1112 [41:09<4:06:02, 16.42s/it]"
     ]
    },
    {
     "name": "stdout",
     "output_type": "stream",
     "text": [
      "Saved: correlation_matrices/UM_1_0050289_func_preproc_corr.npy\n"
     ]
    },
    {
     "name": "stderr",
     "output_type": "stream",
     "text": [
      "Parallel Processing:  19%|█▉        | 214/1112 [41:39<4:57:33, 19.88s/it]"
     ]
    },
    {
     "name": "stdout",
     "output_type": "stream",
     "text": [
      "Saved: correlation_matrices/UM_1_0050290_func_preproc_corr.npy\n"
     ]
    },
    {
     "name": "stderr",
     "output_type": "stream",
     "text": [
      "Parallel Processing:  19%|█▉        | 215/1112 [41:40<3:40:11, 14.73s/it]"
     ]
    },
    {
     "name": "stdout",
     "output_type": "stream",
     "text": [
      "Saved: correlation_matrices/UM_1_0050291_func_preproc_corr.npy\n"
     ]
    },
    {
     "name": "stderr",
     "output_type": "stream",
     "text": [
      "Parallel Processing:  19%|█▉        | 216/1112 [42:04<4:16:30, 17.18s/it]"
     ]
    },
    {
     "name": "stdout",
     "output_type": "stream",
     "text": [
      "Saved: correlation_matrices/UM_1_0050292_func_preproc_corr.npy\n"
     ]
    },
    {
     "name": "stderr",
     "output_type": "stream",
     "text": [
      "Parallel Processing:  20%|█▉        | 217/1112 [42:18<4:06:05, 16.50s/it]"
     ]
    },
    {
     "name": "stdout",
     "output_type": "stream",
     "text": [
      "Saved: correlation_matrices/UM_1_0050293_func_preproc_corr.npy\n",
      "Saved: correlation_matrices/UM_1_0050295_func_preproc_corr.npy\n"
     ]
    },
    {
     "name": "stderr",
     "output_type": "stream",
     "text": [
      "Parallel Processing:  20%|█▉        | 218/1112 [42:51<5:16:13, 21.22s/it]"
     ]
    },
    {
     "name": "stdout",
     "output_type": "stream",
     "text": [
      "Saved: correlation_matrices/UM_1_0050294_func_preproc_corr.npy\n"
     ]
    },
    {
     "name": "stderr",
     "output_type": "stream",
     "text": [
      "Parallel Processing:  20%|█▉        | 220/1112 [43:14<4:09:25, 16.78s/it]"
     ]
    },
    {
     "name": "stdout",
     "output_type": "stream",
     "text": [
      "Saved: correlation_matrices/UM_1_0050296_func_preproc_corr.npy\n"
     ]
    },
    {
     "name": "stderr",
     "output_type": "stream",
     "text": [
      "Parallel Processing:  20%|█▉        | 221/1112 [43:26<3:52:14, 15.64s/it]"
     ]
    },
    {
     "name": "stdout",
     "output_type": "stream",
     "text": [
      "Saved: correlation_matrices/UM_1_0050297_func_preproc_corr.npy\n"
     ]
    },
    {
     "name": "stderr",
     "output_type": "stream",
     "text": [
      "Parallel Processing:  20%|█▉        | 222/1112 [44:00<5:01:21, 20.32s/it]"
     ]
    },
    {
     "name": "stdout",
     "output_type": "stream",
     "text": [
      "Saved: correlation_matrices/UM_1_0050298_func_preproc_corr.npy\n",
      "Saved: correlation_matrices/UM_1_0050299_func_preproc_corr.npy\n"
     ]
    },
    {
     "name": "stderr",
     "output_type": "stream",
     "text": [
      "Parallel Processing:  20%|██        | 224/1112 [44:25<4:20:05, 17.57s/it]"
     ]
    },
    {
     "name": "stdout",
     "output_type": "stream",
     "text": [
      "Saved: correlation_matrices/UM_1_0050300_func_preproc_corr.npy\n"
     ]
    },
    {
     "name": "stderr",
     "output_type": "stream",
     "text": [
      "Parallel Processing:  20%|██        | 225/1112 [44:33<3:36:35, 14.65s/it]"
     ]
    },
    {
     "name": "stdout",
     "output_type": "stream",
     "text": [
      "Saved: correlation_matrices/UM_1_0050301_func_preproc_corr.npy\n"
     ]
    },
    {
     "name": "stderr",
     "output_type": "stream",
     "text": [
      "Parallel Processing:  20%|██        | 226/1112 [45:11<5:17:57, 21.53s/it]"
     ]
    },
    {
     "name": "stdout",
     "output_type": "stream",
     "text": [
      "Saved: correlation_matrices/UM_1_0050302_func_preproc_corr.npy\n"
     ]
    },
    {
     "name": "stderr",
     "output_type": "stream",
     "text": [
      "Parallel Processing:  20%|██        | 227/1112 [45:14<3:56:47, 16.05s/it]"
     ]
    },
    {
     "name": "stdout",
     "output_type": "stream",
     "text": [
      "Saved: correlation_matrices/UM_1_0050303_func_preproc_corr.npy\n"
     ]
    },
    {
     "name": "stderr",
     "output_type": "stream",
     "text": [
      "Parallel Processing:  21%|██        | 228/1112 [45:37<4:27:03, 18.13s/it]"
     ]
    },
    {
     "name": "stdout",
     "output_type": "stream",
     "text": [
      "Saved: correlation_matrices/UM_1_0050304_func_preproc_corr.npy\n"
     ]
    },
    {
     "name": "stderr",
     "output_type": "stream",
     "text": [
      "Parallel Processing:  21%|██        | 229/1112 [45:42<3:31:41, 14.38s/it]"
     ]
    },
    {
     "name": "stdout",
     "output_type": "stream",
     "text": [
      "Saved: correlation_matrices/UM_1_0050305_func_preproc_corr.npy\n",
      "Error: HTTP Error 404: Not Found\n"
     ]
    },
    {
     "name": "stderr",
     "output_type": "stream",
     "text": [
      "Parallel Processing:  21%|██        | 230/1112 [46:20<5:11:24, 21.18s/it]"
     ]
    },
    {
     "name": "stdout",
     "output_type": "stream",
     "text": [
      "Saved: correlation_matrices/UM_1_0050306_func_preproc_corr.npy\n"
     ]
    },
    {
     "name": "stderr",
     "output_type": "stream",
     "text": [
      "Parallel Processing:  21%|██        | 231/1112 [46:24<3:56:56, 16.14s/it]"
     ]
    },
    {
     "name": "stdout",
     "output_type": "stream",
     "text": [
      "Saved: correlation_matrices/UM_1_0050307_func_preproc_corr.npy\n",
      "Saved: correlation_matrices/UM_1_0050308_func_preproc_corr.npy\n"
     ]
    },
    {
     "name": "stderr",
     "output_type": "stream",
     "text": [
      "Parallel Processing:  21%|██        | 232/1112 [46:56<5:04:32, 20.76s/it]"
     ]
    },
    {
     "name": "stdout",
     "output_type": "stream",
     "text": [
      "Saved: correlation_matrices/UM_1_0050310_func_preproc_corr.npy\n"
     ]
    },
    {
     "name": "stderr",
     "output_type": "stream",
     "text": [
      "Parallel Processing:  21%|██        | 235/1112 [48:04<6:06:17, 25.06s/it]"
     ]
    },
    {
     "name": "stdout",
     "output_type": "stream",
     "text": [
      "Saved: correlation_matrices/UM_1_0050311_func_preproc_corr.npy\n"
     ]
    },
    {
     "name": "stderr",
     "output_type": "stream",
     "text": [
      "Parallel Processing:  21%|██        | 236/1112 [48:09<4:49:10, 19.81s/it]"
     ]
    },
    {
     "name": "stdout",
     "output_type": "stream",
     "text": [
      "Saved: correlation_matrices/UM_1_0050312_func_preproc_corr.npy\n"
     ]
    },
    {
     "name": "stderr",
     "output_type": "stream",
     "text": [
      "Parallel Processing:  21%|██▏       | 237/1112 [48:25<4:34:07, 18.80s/it]"
     ]
    },
    {
     "name": "stdout",
     "output_type": "stream",
     "text": [
      "Saved: correlation_matrices/UM_1_0050313_func_preproc_corr.npy\n"
     ]
    },
    {
     "name": "stderr",
     "output_type": "stream",
     "text": [
      "Parallel Processing:  21%|██▏       | 238/1112 [48:26<3:21:11, 13.81s/it]"
     ]
    },
    {
     "name": "stdout",
     "output_type": "stream",
     "text": [
      "Saved: correlation_matrices/UM_1_0050314_func_preproc_corr.npy\n"
     ]
    },
    {
     "name": "stderr",
     "output_type": "stream",
     "text": [
      "Parallel Processing:  21%|██▏       | 239/1112 [49:14<5:42:00, 23.51s/it]"
     ]
    },
    {
     "name": "stdout",
     "output_type": "stream",
     "text": [
      "Saved: correlation_matrices/UM_1_0050315_func_preproc_corr.npy\n"
     ]
    },
    {
     "name": "stderr",
     "output_type": "stream",
     "text": [
      "Parallel Processing:  22%|██▏       | 240/1112 [49:19<4:23:14, 18.11s/it]"
     ]
    },
    {
     "name": "stdout",
     "output_type": "stream",
     "text": [
      "Saved: correlation_matrices/UM_1_0050316_func_preproc_corr.npy\n"
     ]
    },
    {
     "name": "stderr",
     "output_type": "stream",
     "text": [
      "Parallel Processing:  22%|██▏       | 241/1112 [49:37<4:21:04, 17.98s/it]"
     ]
    },
    {
     "name": "stdout",
     "output_type": "stream",
     "text": [
      "Saved: correlation_matrices/UM_1_0050317_func_preproc_corr.npy\n"
     ]
    },
    {
     "name": "stderr",
     "output_type": "stream",
     "text": [
      "Parallel Processing:  22%|██▏       | 242/1112 [49:38<3:10:10, 13.12s/it]"
     ]
    },
    {
     "name": "stdout",
     "output_type": "stream",
     "text": [
      "Saved: correlation_matrices/UM_1_0050318_func_preproc_corr.npy\n"
     ]
    },
    {
     "name": "stderr",
     "output_type": "stream",
     "text": [
      "Parallel Processing:  22%|██▏       | 243/1112 [50:24<5:29:51, 22.77s/it]"
     ]
    },
    {
     "name": "stdout",
     "output_type": "stream",
     "text": [
      "Saved: correlation_matrices/UM_1_0050319_func_preproc_corr.npy\n",
      "Error: HTTP Error 404: Not Found\n"
     ]
    },
    {
     "name": "stderr",
     "output_type": "stream",
     "text": [
      "Parallel Processing:  22%|██▏       | 244/1112 [50:27<4:06:25, 17.03s/it]"
     ]
    },
    {
     "name": "stdout",
     "output_type": "stream",
     "text": [
      "Saved: correlation_matrices/UM_1_0050320_func_preproc_corr.npy\n"
     ]
    },
    {
     "name": "stderr",
     "output_type": "stream",
     "text": [
      "Parallel Processing:  22%|██▏       | 245/1112 [50:43<4:00:38, 16.65s/it]"
     ]
    },
    {
     "name": "stdout",
     "output_type": "stream",
     "text": [
      "Saved: correlation_matrices/UM_1_0050321_func_preproc_corr.npy\n"
     ]
    },
    {
     "name": "stderr",
     "output_type": "stream",
     "text": [
      "Parallel Processing:  22%|██▏       | 246/1112 [50:49<3:15:34, 13.55s/it]"
     ]
    },
    {
     "name": "stdout",
     "output_type": "stream",
     "text": [
      "Saved: correlation_matrices/UM_1_0050322_func_preproc_corr.npy\n"
     ]
    },
    {
     "name": "stderr",
     "output_type": "stream",
     "text": [
      "Parallel Processing:  22%|██▏       | 248/1112 [51:34<4:14:23, 17.67s/it]"
     ]
    },
    {
     "name": "stdout",
     "output_type": "stream",
     "text": [
      "Saved: correlation_matrices/UM_1_0050324_func_preproc_corr.npy\n",
      "Error: HTTP Error 404: Not Found\n"
     ]
    },
    {
     "name": "stderr",
     "output_type": "stream",
     "text": [
      "Parallel Processing:  22%|██▏       | 249/1112 [51:38<3:25:13, 14.27s/it]"
     ]
    },
    {
     "name": "stdout",
     "output_type": "stream",
     "text": [
      "Saved: correlation_matrices/UM_1_0050325_func_preproc_corr.npy\n"
     ]
    },
    {
     "name": "stderr",
     "output_type": "stream",
     "text": [
      "Parallel Processing:  22%|██▏       | 250/1112 [51:53<3:26:25, 14.37s/it]"
     ]
    },
    {
     "name": "stdout",
     "output_type": "stream",
     "text": [
      "Saved: correlation_matrices/UM_1_0050326_func_preproc_corr.npy\n"
     ]
    },
    {
     "name": "stderr",
     "output_type": "stream",
     "text": [
      "Parallel Processing:  23%|██▎       | 251/1112 [52:00<2:57:25, 12.36s/it]"
     ]
    },
    {
     "name": "stdout",
     "output_type": "stream",
     "text": [
      "Saved: correlation_matrices/UM_1_0050327_func_preproc_corr.npy\n"
     ]
    },
    {
     "name": "stderr",
     "output_type": "stream",
     "text": [
      "Parallel Processing:  23%|██▎       | 253/1112 [52:41<3:47:45, 15.91s/it]"
     ]
    },
    {
     "name": "stdout",
     "output_type": "stream",
     "text": [
      "Saved: correlation_matrices/UM_1_0050329_func_preproc_corr.npy\n"
     ]
    },
    {
     "name": "stderr",
     "output_type": "stream",
     "text": [
      "Parallel Processing:  23%|██▎       | 254/1112 [52:48<3:16:15, 13.72s/it]"
     ]
    },
    {
     "name": "stdout",
     "output_type": "stream",
     "text": [
      "Saved: correlation_matrices/UM_1_0050330_func_preproc_corr.npy\n"
     ]
    },
    {
     "name": "stderr",
     "output_type": "stream",
     "text": [
      "Parallel Processing:  23%|██▎       | 255/1112 [52:57<3:02:08, 12.75s/it]"
     ]
    },
    {
     "name": "stdout",
     "output_type": "stream",
     "text": [
      "Saved: correlation_matrices/UM_1_0050331_func_preproc_corr.npy\n"
     ]
    },
    {
     "name": "stderr",
     "output_type": "stream",
     "text": [
      "Parallel Processing:  23%|██▎       | 256/1112 [53:08<2:53:15, 12.14s/it]"
     ]
    },
    {
     "name": "stdout",
     "output_type": "stream",
     "text": [
      "Saved: correlation_matrices/UM_1_0050332_func_preproc_corr.npy\n",
      "Saved: correlation_matrices/UM_1_0050334_func_preproc_corr.npy\n"
     ]
    },
    {
     "name": "stderr",
     "output_type": "stream",
     "text": [
      "Parallel Processing:  23%|██▎       | 257/1112 [54:04<5:45:12, 24.23s/it]"
     ]
    },
    {
     "name": "stdout",
     "output_type": "stream",
     "text": [
      "Saved: correlation_matrices/UM_1_0050333_func_preproc_corr.npy\n"
     ]
    },
    {
     "name": "stderr",
     "output_type": "stream",
     "text": [
      "Parallel Processing:  23%|██▎       | 259/1112 [54:07<3:22:48, 14.27s/it]"
     ]
    },
    {
     "name": "stdout",
     "output_type": "stream",
     "text": [
      "Saved: correlation_matrices/UM_1_0050335_func_preproc_corr.npy\n"
     ]
    },
    {
     "name": "stderr",
     "output_type": "stream",
     "text": [
      "Parallel Processing:  23%|██▎       | 260/1112 [54:15<2:59:31, 12.64s/it]"
     ]
    },
    {
     "name": "stdout",
     "output_type": "stream",
     "text": [
      "Saved: correlation_matrices/UM_1_0050336_func_preproc_corr.npy\n"
     ]
    },
    {
     "name": "stderr",
     "output_type": "stream",
     "text": [
      "Parallel Processing:  23%|██▎       | 261/1112 [55:18<6:01:52, 25.51s/it]"
     ]
    },
    {
     "name": "stdout",
     "output_type": "stream",
     "text": [
      "Saved: correlation_matrices/UM_1_0050337_func_preproc_corr.npy\n"
     ]
    },
    {
     "name": "stderr",
     "output_type": "stream",
     "text": [
      "Parallel Processing:  24%|██▎       | 262/1112 [55:19<4:28:44, 18.97s/it]"
     ]
    },
    {
     "name": "stdout",
     "output_type": "stream",
     "text": [
      "Saved: correlation_matrices/UM_1_0050338_func_preproc_corr.npy\n"
     ]
    },
    {
     "name": "stderr",
     "output_type": "stream",
     "text": [
      "Parallel Processing:  24%|██▎       | 263/1112 [55:21<3:21:32, 14.24s/it]"
     ]
    },
    {
     "name": "stdout",
     "output_type": "stream",
     "text": [
      "Saved: correlation_matrices/UM_1_0050339_func_preproc_corr.npy\n"
     ]
    },
    {
     "name": "stderr",
     "output_type": "stream",
     "text": [
      "Parallel Processing:  24%|██▎       | 264/1112 [55:23<2:34:41, 10.95s/it]"
     ]
    },
    {
     "name": "stdout",
     "output_type": "stream",
     "text": [
      "Saved: correlation_matrices/UM_1_0050340_func_preproc_corr.npy\n"
     ]
    },
    {
     "name": "stderr",
     "output_type": "stream",
     "text": [
      "Parallel Processing:  24%|██▍       | 265/1112 [56:33<6:31:55, 27.76s/it]"
     ]
    },
    {
     "name": "stdout",
     "output_type": "stream",
     "text": [
      "Saved: correlation_matrices/UM_1_0050341_func_preproc_corr.npy\n"
     ]
    },
    {
     "name": "stderr",
     "output_type": "stream",
     "text": [
      "Parallel Processing:  24%|██▍       | 266/1112 [56:34<4:44:55, 20.21s/it]"
     ]
    },
    {
     "name": "stdout",
     "output_type": "stream",
     "text": [
      "Saved: correlation_matrices/UM_1_0050342_func_preproc_corr.npy\n"
     ]
    },
    {
     "name": "stderr",
     "output_type": "stream",
     "text": [
      "Parallel Processing:  24%|██▍       | 267/1112 [56:37<3:29:40, 14.89s/it]"
     ]
    },
    {
     "name": "stdout",
     "output_type": "stream",
     "text": [
      "Saved: correlation_matrices/UM_1_0050343_func_preproc_corr.npy\n"
     ]
    },
    {
     "name": "stderr",
     "output_type": "stream",
     "text": [
      "Parallel Processing:  24%|██▍       | 268/1112 [56:37<2:30:30, 10.70s/it]"
     ]
    },
    {
     "name": "stdout",
     "output_type": "stream",
     "text": [
      "Saved: correlation_matrices/UM_1_0050344_func_preproc_corr.npy\n"
     ]
    },
    {
     "name": "stderr",
     "output_type": "stream",
     "text": [
      "Parallel Processing:  24%|██▍       | 269/1112 [58:10<8:11:34, 34.99s/it]"
     ]
    },
    {
     "name": "stdout",
     "output_type": "stream",
     "text": [
      "Saved: correlation_matrices/UM_1_0050345_func_preproc_corr.npy\n",
      "Saved: correlation_matrices/UM_1_0050347_func_preproc_corr.npy\n"
     ]
    },
    {
     "name": "stderr",
     "output_type": "stream",
     "text": [
      "Parallel Processing:  24%|██▍       | 270/1112 [58:15<6:08:39, 26.27s/it]"
     ]
    },
    {
     "name": "stdout",
     "output_type": "stream",
     "text": [
      "Saved: correlation_matrices/UM_1_0050346_func_preproc_corr.npy\n"
     ]
    },
    {
     "name": "stderr",
     "output_type": "stream",
     "text": [
      "Parallel Processing:  24%|██▍       | 272/1112 [58:16<3:20:12, 14.30s/it]"
     ]
    },
    {
     "name": "stdout",
     "output_type": "stream",
     "text": [
      "Saved: correlation_matrices/UM_1_0050348_func_preproc_corr.npy\n"
     ]
    },
    {
     "name": "stderr",
     "output_type": "stream",
     "text": [
      "Parallel Processing:  25%|██▍       | 273/1112 [59:26<6:32:21, 28.06s/it]"
     ]
    },
    {
     "name": "stdout",
     "output_type": "stream",
     "text": [
      "Saved: correlation_matrices/UM_1_0050349_func_preproc_corr.npy\n"
     ]
    },
    {
     "name": "stderr",
     "output_type": "stream",
     "text": [
      "Parallel Processing:  25%|██▍       | 274/1112 [59:36<5:25:33, 23.31s/it]"
     ]
    },
    {
     "name": "stdout",
     "output_type": "stream",
     "text": [
      "Saved: correlation_matrices/UM_1_0050350_func_preproc_corr.npy\n"
     ]
    },
    {
     "name": "stderr",
     "output_type": "stream",
     "text": [
      "Parallel Processing:  25%|██▍       | 275/1112 [59:37<4:00:47, 17.26s/it]"
     ]
    },
    {
     "name": "stdout",
     "output_type": "stream",
     "text": [
      "Saved: correlation_matrices/UM_1_0050351_func_preproc_corr.npy\n"
     ]
    },
    {
     "name": "stderr",
     "output_type": "stream",
     "text": [
      "Parallel Processing:  25%|██▍       | 276/1112 [59:37<2:55:01, 12.56s/it]"
     ]
    },
    {
     "name": "stdout",
     "output_type": "stream",
     "text": [
      "Saved: correlation_matrices/UM_1_0050352_func_preproc_corr.npy\n"
     ]
    },
    {
     "name": "stderr",
     "output_type": "stream",
     "text": [
      "Parallel Processing:  25%|██▍       | 277/1112 [1:00:37<6:00:47, 25.93s/it]"
     ]
    },
    {
     "name": "stdout",
     "output_type": "stream",
     "text": [
      "Saved: correlation_matrices/UM_1_0050353_func_preproc_corr.npy\n"
     ]
    },
    {
     "name": "stderr",
     "output_type": "stream",
     "text": [
      "Parallel Processing:  25%|██▌       | 278/1112 [1:00:48<4:59:59, 21.58s/it]"
     ]
    },
    {
     "name": "stdout",
     "output_type": "stream",
     "text": [
      "Saved: correlation_matrices/UM_1_0050354_func_preproc_corr.npy\n",
      "Saved: correlation_matrices/UM_1_0050356_func_preproc_corr.npy\n"
     ]
    },
    {
     "name": "stderr",
     "output_type": "stream",
     "text": [
      "Parallel Processing:  25%|██▌       | 279/1112 [1:00:51<3:46:36, 16.32s/it]"
     ]
    },
    {
     "name": "stdout",
     "output_type": "stream",
     "text": [
      "Saved: correlation_matrices/UM_1_0050355_func_preproc_corr.npy\n"
     ]
    },
    {
     "name": "stderr",
     "output_type": "stream",
     "text": [
      "Parallel Processing:  25%|██▌       | 281/1112 [1:01:47<4:58:12, 21.53s/it]"
     ]
    },
    {
     "name": "stdout",
     "output_type": "stream",
     "text": [
      "Saved: correlation_matrices/UM_1_0050357_func_preproc_corr.npy\n"
     ]
    },
    {
     "name": "stderr",
     "output_type": "stream",
     "text": [
      "Parallel Processing:  25%|██▌       | 282/1112 [1:02:02<4:37:34, 20.07s/it]"
     ]
    },
    {
     "name": "stdout",
     "output_type": "stream",
     "text": [
      "Saved: correlation_matrices/UM_1_0050358_func_preproc_corr.npy\n"
     ]
    },
    {
     "name": "stderr",
     "output_type": "stream",
     "text": [
      "Parallel Processing:  25%|██▌       | 283/1112 [1:02:03<3:28:32, 15.09s/it]"
     ]
    },
    {
     "name": "stdout",
     "output_type": "stream",
     "text": [
      "Saved: correlation_matrices/UM_1_0050359_func_preproc_corr.npy\n"
     ]
    },
    {
     "name": "stderr",
     "output_type": "stream",
     "text": [
      "Parallel Processing:  26%|██▌       | 284/1112 [1:02:05<2:39:35, 11.56s/it]"
     ]
    },
    {
     "name": "stdout",
     "output_type": "stream",
     "text": [
      "Saved: correlation_matrices/UM_1_0050360_func_preproc_corr.npy\n"
     ]
    },
    {
     "name": "stderr",
     "output_type": "stream",
     "text": [
      "Parallel Processing:  26%|██▌       | 285/1112 [1:02:52<4:53:32, 21.30s/it]"
     ]
    },
    {
     "name": "stdout",
     "output_type": "stream",
     "text": [
      "Saved: correlation_matrices/UM_1_0050361_func_preproc_corr.npy\n"
     ]
    },
    {
     "name": "stderr",
     "output_type": "stream",
     "text": [
      "Parallel Processing:  26%|██▌       | 286/1112 [1:03:17<5:10:33, 22.56s/it]"
     ]
    },
    {
     "name": "stdout",
     "output_type": "stream",
     "text": [
      "Saved: correlation_matrices/UM_1_0050362_func_preproc_corr.npy\n"
     ]
    },
    {
     "name": "stderr",
     "output_type": "stream",
     "text": [
      "Parallel Processing:  26%|██▌       | 287/1112 [1:03:18<3:43:12, 16.23s/it]"
     ]
    },
    {
     "name": "stdout",
     "output_type": "stream",
     "text": [
      "Saved: correlation_matrices/UM_1_0050363_func_preproc_corr.npy\n"
     ]
    },
    {
     "name": "stderr",
     "output_type": "stream",
     "text": [
      "Parallel Processing:  26%|██▌       | 288/1112 [1:03:19<2:42:37, 11.84s/it]"
     ]
    },
    {
     "name": "stdout",
     "output_type": "stream",
     "text": [
      "Saved: correlation_matrices/UM_1_0050364_func_preproc_corr.npy\n"
     ]
    },
    {
     "name": "stderr",
     "output_type": "stream",
     "text": [
      "Parallel Processing:  26%|██▌       | 289/1112 [1:03:54<4:16:00, 18.66s/it]"
     ]
    },
    {
     "name": "stdout",
     "output_type": "stream",
     "text": [
      "Saved: correlation_matrices/UM_1_0050365_func_preproc_corr.npy\n",
      "Saved: correlation_matrices/UM_1_0050368_func_preproc_corr.npy\n"
     ]
    },
    {
     "name": "stderr",
     "output_type": "stream",
     "text": [
      "Parallel Processing:  26%|██▌       | 290/1112 [1:04:34<5:40:21, 24.84s/it]"
     ]
    },
    {
     "name": "stdout",
     "output_type": "stream",
     "text": [
      "Saved: correlation_matrices/UM_1_0050366_func_preproc_corr.npy\n",
      "Saved: correlation_matrices/UM_1_0050367_func_preproc_corr.npy\n"
     ]
    },
    {
     "name": "stderr",
     "output_type": "stream",
     "text": [
      "Parallel Processing:  26%|██▋       | 293/1112 [1:04:58<3:24:14, 14.96s/it]"
     ]
    },
    {
     "name": "stdout",
     "output_type": "stream",
     "text": [
      "Saved: correlation_matrices/UM_1_0050369_func_preproc_corr.npy\n"
     ]
    },
    {
     "name": "stderr",
     "output_type": "stream",
     "text": [
      "Parallel Processing:  26%|██▋       | 294/1112 [1:05:52<5:34:18, 24.52s/it]"
     ]
    },
    {
     "name": "stdout",
     "output_type": "stream",
     "text": [
      "Saved: correlation_matrices/UM_1_0050370_func_preproc_corr.npy\n"
     ]
    },
    {
     "name": "stderr",
     "output_type": "stream",
     "text": [
      "Parallel Processing:  27%|██▋       | 295/1112 [1:05:52<4:08:56, 18.28s/it]"
     ]
    },
    {
     "name": "stdout",
     "output_type": "stream",
     "text": [
      "Saved: correlation_matrices/UM_1_0050371_func_preproc_corr.npy\n"
     ]
    },
    {
     "name": "stderr",
     "output_type": "stream",
     "text": [
      "Parallel Processing:  27%|██▋       | 296/1112 [1:05:53<3:02:37, 13.43s/it]"
     ]
    },
    {
     "name": "stdout",
     "output_type": "stream",
     "text": [
      "Saved: correlation_matrices/UM_1_0050372_func_preproc_corr.npy\n"
     ]
    },
    {
     "name": "stderr",
     "output_type": "stream",
     "text": [
      "Parallel Processing:  27%|██▋       | 297/1112 [1:06:03<2:51:32, 12.63s/it]"
     ]
    },
    {
     "name": "stdout",
     "output_type": "stream",
     "text": [
      "Saved: correlation_matrices/UM_1_0050373_func_preproc_corr.npy\n"
     ]
    },
    {
     "name": "stderr",
     "output_type": "stream",
     "text": [
      "Parallel Processing:  27%|██▋       | 298/1112 [1:07:08<6:14:39, 27.62s/it]"
     ]
    },
    {
     "name": "stdout",
     "output_type": "stream",
     "text": [
      "Saved: correlation_matrices/UM_1_0050374_func_preproc_corr.npy\n",
      "Saved: correlation_matrices/UM_1_0050376_func_preproc_corr.npy\n",
      "Error: HTTP Error 404: Not Found\n"
     ]
    },
    {
     "name": "stderr",
     "output_type": "stream",
     "text": [
      "Parallel Processing:  27%|██▋       | 299/1112 [1:07:09<4:29:35, 19.90s/it]"
     ]
    },
    {
     "name": "stdout",
     "output_type": "stream",
     "text": [
      "Saved: correlation_matrices/UM_1_0050375_func_preproc_corr.npy\n"
     ]
    },
    {
     "name": "stderr",
     "output_type": "stream",
     "text": [
      "Parallel Processing:  27%|██▋       | 301/1112 [1:07:13<2:38:52, 11.75s/it]"
     ]
    },
    {
     "name": "stdout",
     "output_type": "stream",
     "text": [
      "Saved: correlation_matrices/UM_1_0050377_func_preproc_corr.npy\n"
     ]
    },
    {
     "name": "stderr",
     "output_type": "stream",
     "text": [
      "Parallel Processing:  27%|██▋       | 303/1112 [1:08:49<5:48:47, 25.87s/it]"
     ]
    },
    {
     "name": "stdout",
     "output_type": "stream",
     "text": [
      "Saved: correlation_matrices/UM_1_0050379_func_preproc_corr.npy\n"
     ]
    },
    {
     "name": "stderr",
     "output_type": "stream",
     "text": [
      "Parallel Processing:  27%|██▋       | 304/1112 [1:08:49<4:32:32, 20.24s/it]"
     ]
    },
    {
     "name": "stdout",
     "output_type": "stream",
     "text": [
      "Saved: correlation_matrices/UM_1_0050380_func_preproc_corr.npy\n"
     ]
    },
    {
     "name": "stderr",
     "output_type": "stream",
     "text": [
      "Parallel Processing:  27%|██▋       | 305/1112 [1:08:49<3:29:13, 15.56s/it]"
     ]
    },
    {
     "name": "stdout",
     "output_type": "stream",
     "text": [
      "Saved: correlation_matrices/UM_1_0050381_func_preproc_corr.npy\n"
     ]
    },
    {
     "name": "stderr",
     "output_type": "stream",
     "text": [
      "Parallel Processing:  28%|██▊       | 306/1112 [1:08:51<2:40:04, 11.92s/it]"
     ]
    },
    {
     "name": "stdout",
     "output_type": "stream",
     "text": [
      "Saved: correlation_matrices/UM_2_0050382_func_preproc_corr.npy\n",
      "Saved: correlation_matrices/UM_2_0050385_func_preproc_corr.npy\n",
      "Saved: correlation_matrices/UM_2_0050386_func_preproc_corr.npy\n"
     ]
    },
    {
     "name": "stderr",
     "output_type": "stream",
     "text": [
      "Parallel Processing:  28%|██▊       | 307/1112 [1:10:10<6:41:32, 29.93s/it]"
     ]
    },
    {
     "name": "stdout",
     "output_type": "stream",
     "text": [
      "Saved: correlation_matrices/UM_2_0050383_func_preproc_corr.npy\n"
     ]
    },
    {
     "name": "stderr",
     "output_type": "stream",
     "text": [
      "Parallel Processing:  28%|██▊       | 310/1112 [1:10:11<3:09:22, 14.17s/it]"
     ]
    },
    {
     "name": "stdout",
     "output_type": "stream",
     "text": [
      "Saved: correlation_matrices/UM_2_0050387_func_preproc_corr.npy\n",
      "Saved: correlation_matrices/UM_2_0050390_func_preproc_corr.npy\n",
      "Saved: correlation_matrices/UM_2_0050391_func_preproc_corr.npy\n"
     ]
    },
    {
     "name": "stderr",
     "output_type": "stream",
     "text": [
      "Parallel Processing:  28%|██▊       | 311/1112 [1:11:27<5:55:25, 26.62s/it]"
     ]
    },
    {
     "name": "stdout",
     "output_type": "stream",
     "text": [
      "Saved: correlation_matrices/UM_2_0050388_func_preproc_corr.npy\n"
     ]
    },
    {
     "name": "stderr",
     "output_type": "stream",
     "text": [
      "Parallel Processing:  28%|██▊       | 314/1112 [1:11:27<3:10:50, 14.35s/it]"
     ]
    },
    {
     "name": "stdout",
     "output_type": "stream",
     "text": [
      "Saved: correlation_matrices/UM_2_0050397_func_preproc_corr.npy\n"
     ]
    },
    {
     "name": "stderr",
     "output_type": "stream",
     "text": [
      "Parallel Processing:  28%|██▊       | 315/1112 [1:12:37<5:23:08, 24.33s/it]"
     ]
    },
    {
     "name": "stdout",
     "output_type": "stream",
     "text": [
      "Saved: correlation_matrices/UM_2_0050399_func_preproc_corr.npy\n"
     ]
    },
    {
     "name": "stderr",
     "output_type": "stream",
     "text": [
      "Parallel Processing:  28%|██▊       | 316/1112 [1:12:43<4:32:25, 20.53s/it]"
     ]
    },
    {
     "name": "stdout",
     "output_type": "stream",
     "text": [
      "Saved: correlation_matrices/UM_2_0050402_func_preproc_corr.npy\n"
     ]
    },
    {
     "name": "stderr",
     "output_type": "stream",
     "text": [
      "Parallel Processing:  29%|██▊       | 317/1112 [1:12:43<3:31:23, 15.95s/it]"
     ]
    },
    {
     "name": "stdout",
     "output_type": "stream",
     "text": [
      "Saved: correlation_matrices/UM_2_0050403_func_preproc_corr.npy\n"
     ]
    },
    {
     "name": "stderr",
     "output_type": "stream",
     "text": [
      "Parallel Processing:  29%|██▊       | 318/1112 [1:12:48<2:56:27, 13.33s/it]"
     ]
    },
    {
     "name": "stdout",
     "output_type": "stream",
     "text": [
      "Saved: correlation_matrices/UM_2_0050404_func_preproc_corr.npy\n"
     ]
    },
    {
     "name": "stderr",
     "output_type": "stream",
     "text": [
      "Parallel Processing:  29%|██▊       | 319/1112 [1:13:51<5:45:33, 26.15s/it]"
     ]
    },
    {
     "name": "stdout",
     "output_type": "stream",
     "text": [
      "Saved: correlation_matrices/UM_2_0050405_func_preproc_corr.npy\n",
      "Saved: correlation_matrices/UM_2_0050407_func_preproc_corr.npy\n",
      "Saved: correlation_matrices/UM_2_0050408_func_preproc_corr.npy\n"
     ]
    },
    {
     "name": "stderr",
     "output_type": "stream",
     "text": [
      "Parallel Processing:  29%|██▉       | 320/1112 [1:14:00<4:42:12, 21.38s/it]"
     ]
    },
    {
     "name": "stdout",
     "output_type": "stream",
     "text": [
      "Saved: correlation_matrices/UM_2_0050406_func_preproc_corr.npy\n"
     ]
    },
    {
     "name": "stderr",
     "output_type": "stream",
     "text": [
      "Parallel Processing:  29%|██▉       | 323/1112 [1:15:00<4:32:29, 20.72s/it]"
     ]
    },
    {
     "name": "stdout",
     "output_type": "stream",
     "text": [
      "Saved: correlation_matrices/UM_2_0050410_func_preproc_corr.npy\n"
     ]
    },
    {
     "name": "stderr",
     "output_type": "stream",
     "text": [
      "Parallel Processing:  29%|██▉       | 324/1112 [1:15:13<4:10:28, 19.07s/it]"
     ]
    },
    {
     "name": "stdout",
     "output_type": "stream",
     "text": [
      "Saved: correlation_matrices/UM_2_0050411_func_preproc_corr.npy\n",
      "Saved: correlation_matrices/UM_2_0050413_func_preproc_corr.npy\n"
     ]
    },
    {
     "name": "stderr",
     "output_type": "stream",
     "text": [
      "Parallel Processing:  29%|██▉       | 325/1112 [1:15:15<3:20:04, 15.25s/it]"
     ]
    },
    {
     "name": "stdout",
     "output_type": "stream",
     "text": [
      "Saved: correlation_matrices/UM_2_0050412_func_preproc_corr.npy\n"
     ]
    },
    {
     "name": "stderr",
     "output_type": "stream",
     "text": [
      "Parallel Processing:  29%|██▉       | 327/1112 [1:16:05<4:10:33, 19.15s/it]"
     ]
    },
    {
     "name": "stdout",
     "output_type": "stream",
     "text": [
      "Saved: correlation_matrices/UM_2_0050414_func_preproc_corr.npy\n"
     ]
    },
    {
     "name": "stderr",
     "output_type": "stream",
     "text": [
      "Parallel Processing:  29%|██▉       | 328/1112 [1:16:29<4:22:48, 20.11s/it]"
     ]
    },
    {
     "name": "stdout",
     "output_type": "stream",
     "text": [
      "Saved: correlation_matrices/UM_2_0050415_func_preproc_corr.npy\n"
     ]
    },
    {
     "name": "stderr",
     "output_type": "stream",
     "text": [
      "Parallel Processing:  30%|██▉       | 329/1112 [1:16:29<3:21:27, 15.44s/it]"
     ]
    },
    {
     "name": "stdout",
     "output_type": "stream",
     "text": [
      "Saved: correlation_matrices/UM_2_0050416_func_preproc_corr.npy\n"
     ]
    },
    {
     "name": "stderr",
     "output_type": "stream",
     "text": [
      "Parallel Processing:  30%|██▉       | 330/1112 [1:16:30<2:32:32, 11.70s/it]"
     ]
    },
    {
     "name": "stdout",
     "output_type": "stream",
     "text": [
      "Saved: correlation_matrices/UM_2_0050417_func_preproc_corr.npy\n"
     ]
    },
    {
     "name": "stderr",
     "output_type": "stream",
     "text": [
      "Parallel Processing:  30%|██▉       | 331/1112 [1:17:07<3:59:53, 18.43s/it]"
     ]
    },
    {
     "name": "stdout",
     "output_type": "stream",
     "text": [
      "Saved: correlation_matrices/UM_2_0050418_func_preproc_corr.npy\n",
      "Error: HTTP Error 404: Not Found\n",
      "Saved: correlation_matrices/UM_2_0050422_func_preproc_corr.npy\n",
      "Saved: correlation_matrices/UM_2_0050421_func_preproc_corr.npy\n"
     ]
    },
    {
     "name": "stderr",
     "output_type": "stream",
     "text": [
      "Parallel Processing:  30%|██▉       | 332/1112 [1:17:45<5:10:01, 23.85s/it]"
     ]
    },
    {
     "name": "stdout",
     "output_type": "stream",
     "text": [
      "Saved: correlation_matrices/UM_2_0050419_func_preproc_corr.npy\n"
     ]
    },
    {
     "name": "stderr",
     "output_type": "stream",
     "text": [
      "Parallel Processing:  30%|███       | 336/1112 [1:18:09<2:46:54, 12.90s/it]"
     ]
    },
    {
     "name": "stdout",
     "output_type": "stream",
     "text": [
      "Saved: correlation_matrices/UM_2_0050424_func_preproc_corr.npy\n"
     ]
    },
    {
     "name": "stderr",
     "output_type": "stream",
     "text": [
      "Parallel Processing:  30%|███       | 337/1112 [1:19:15<4:49:58, 22.45s/it]"
     ]
    },
    {
     "name": "stdout",
     "output_type": "stream",
     "text": [
      "Saved: correlation_matrices/UM_2_0050425_func_preproc_corr.npy\n",
      "Error: HTTP Error 404: Not Found\n",
      "Saved: correlation_matrices/UM_2_0050427_func_preproc_corr.npy\n"
     ]
    },
    {
     "name": "stderr",
     "output_type": "stream",
     "text": [
      "Parallel Processing:  30%|███       | 338/1112 [1:19:20<4:03:36, 18.88s/it]"
     ]
    },
    {
     "name": "stdout",
     "output_type": "stream",
     "text": [
      "Saved: correlation_matrices/UM_2_0050426_func_preproc_corr.npy\n"
     ]
    },
    {
     "name": "stderr",
     "output_type": "stream",
     "text": [
      "Parallel Processing:  31%|███       | 340/1112 [1:19:40<3:20:32, 15.59s/it]"
     ]
    },
    {
     "name": "stdout",
     "output_type": "stream",
     "text": [
      "Saved: correlation_matrices/UM_2_0050428_func_preproc_corr.npy\n"
     ]
    },
    {
     "name": "stderr",
     "output_type": "stream",
     "text": [
      "Parallel Processing:  31%|███       | 342/1112 [1:20:16<3:31:52, 16.51s/it]"
     ]
    },
    {
     "name": "stdout",
     "output_type": "stream",
     "text": [
      "Saved: correlation_matrices/USM_0050433_func_preproc_corr.npy\n"
     ]
    },
    {
     "name": "stderr",
     "output_type": "stream",
     "text": [
      "Parallel Processing:  31%|███       | 343/1112 [1:20:18<2:54:25, 13.61s/it]"
     ]
    },
    {
     "name": "stdout",
     "output_type": "stream",
     "text": [
      "Saved: correlation_matrices/USM_0050434_func_preproc_corr.npy\n"
     ]
    },
    {
     "name": "stderr",
     "output_type": "stream",
     "text": [
      "Parallel Processing:  31%|███       | 344/1112 [1:20:19<2:16:58, 10.70s/it]"
     ]
    },
    {
     "name": "stdout",
     "output_type": "stream",
     "text": [
      "Saved: correlation_matrices/USM_0050435_func_preproc_corr.npy\n"
     ]
    },
    {
     "name": "stderr",
     "output_type": "stream",
     "text": [
      "Parallel Processing:  31%|███       | 345/1112 [1:20:34<2:31:16, 11.83s/it]"
     ]
    },
    {
     "name": "stdout",
     "output_type": "stream",
     "text": [
      "Saved: correlation_matrices/USM_0050436_func_preproc_corr.npy\n"
     ]
    },
    {
     "name": "stderr",
     "output_type": "stream",
     "text": [
      "Parallel Processing:  31%|███       | 346/1112 [1:21:20<4:21:27, 20.48s/it]"
     ]
    },
    {
     "name": "stdout",
     "output_type": "stream",
     "text": [
      "Saved: correlation_matrices/USM_0050437_func_preproc_corr.npy\n",
      "Saved: correlation_matrices/USM_0050439_func_preproc_corr.npy\n"
     ]
    },
    {
     "name": "stderr",
     "output_type": "stream",
     "text": [
      "Parallel Processing:  31%|███       | 347/1112 [1:21:21<3:14:05, 15.22s/it]"
     ]
    },
    {
     "name": "stdout",
     "output_type": "stream",
     "text": [
      "Saved: correlation_matrices/USM_0050438_func_preproc_corr.npy\n"
     ]
    },
    {
     "name": "stderr",
     "output_type": "stream",
     "text": [
      "Parallel Processing:  31%|███▏      | 349/1112 [1:21:30<2:14:40, 10.59s/it]"
     ]
    },
    {
     "name": "stdout",
     "output_type": "stream",
     "text": [
      "Saved: correlation_matrices/USM_0050440_func_preproc_corr.npy\n",
      "Saved: correlation_matrices/USM_0050443_func_preproc_corr.npy\n"
     ]
    },
    {
     "name": "stderr",
     "output_type": "stream",
     "text": [
      "Parallel Processing:  31%|███▏      | 350/1112 [1:22:24<4:25:24, 20.90s/it]"
     ]
    },
    {
     "name": "stdout",
     "output_type": "stream",
     "text": [
      "Saved: correlation_matrices/USM_0050441_func_preproc_corr.npy\n"
     ]
    },
    {
     "name": "stderr",
     "output_type": "stream",
     "text": [
      "Parallel Processing:  32%|███▏      | 351/1112 [1:22:24<3:19:52, 15.76s/it]"
     ]
    },
    {
     "name": "stdout",
     "output_type": "stream",
     "text": [
      "Saved: correlation_matrices/USM_0050442_func_preproc_corr.npy\n"
     ]
    },
    {
     "name": "stderr",
     "output_type": "stream",
     "text": [
      "Parallel Processing:  32%|███▏      | 353/1112 [1:22:28<2:04:42,  9.86s/it]"
     ]
    },
    {
     "name": "stdout",
     "output_type": "stream",
     "text": [
      "Saved: correlation_matrices/USM_0050444_func_preproc_corr.npy\n"
     ]
    },
    {
     "name": "stderr",
     "output_type": "stream",
     "text": [
      "Parallel Processing:  32%|███▏      | 354/1112 [1:23:25<4:22:36, 20.79s/it]"
     ]
    },
    {
     "name": "stdout",
     "output_type": "stream",
     "text": [
      "Saved: correlation_matrices/USM_0050445_func_preproc_corr.npy\n"
     ]
    },
    {
     "name": "stderr",
     "output_type": "stream",
     "text": [
      "Parallel Processing:  32%|███▏      | 355/1112 [1:23:26<3:20:38, 15.90s/it]"
     ]
    },
    {
     "name": "stdout",
     "output_type": "stream",
     "text": [
      "Saved: correlation_matrices/USM_0050446_func_preproc_corr.npy\n",
      "Error: HTTP Error 404: Not Found\n",
      "Error: HTTP Error 404: Not Found\n",
      "Error: HTTP Error 404: Not Found\n"
     ]
    },
    {
     "name": "stderr",
     "output_type": "stream",
     "text": [
      "Parallel Processing:  32%|███▏      | 356/1112 [1:23:27<2:32:34, 12.11s/it]"
     ]
    },
    {
     "name": "stdout",
     "output_type": "stream",
     "text": [
      "Saved: correlation_matrices/USM_0050447_func_preproc_corr.npy\n",
      "Error: HTTP Error 404: Not Found\n"
     ]
    },
    {
     "name": "stderr",
     "output_type": "stream",
     "text": [
      "Parallel Processing:  32%|███▏      | 357/1112 [1:23:29<1:56:32,  9.26s/it]"
     ]
    },
    {
     "name": "stdout",
     "output_type": "stream",
     "text": [
      "Saved: correlation_matrices/USM_0050448_func_preproc_corr.npy\n",
      "Error: HTTP Error 404: Not Found\n",
      "Error: HTTP Error 404: Not Found\n",
      "Error: HTTP Error 404: Not Found\n",
      "Error: HTTP Error 404: Not Found\n",
      "Error: HTTP Error 404: Not Found\n",
      "Error: HTTP Error 404: Not Found\n",
      "Error: HTTP Error 404: Not Found\n"
     ]
    },
    {
     "name": "stderr",
     "output_type": "stream",
     "text": [
      "Parallel Processing:  32%|███▏      | 358/1112 [1:24:24<4:35:04, 21.89s/it]"
     ]
    },
    {
     "name": "stdout",
     "output_type": "stream",
     "text": [
      "Saved: correlation_matrices/USM_0050449_func_preproc_corr.npy\n",
      "Error: HTTP Error 404: Not Found\n",
      "Error: HTTP Error 404: Not Found\n",
      "Saved: correlation_matrices/USM_0050455_func_preproc_corr.npy\n"
     ]
    },
    {
     "name": "stderr",
     "output_type": "stream",
     "text": [
      "Parallel Processing:  33%|███▎      | 362/1112 [1:24:30<1:58:05,  9.45s/it]"
     ]
    },
    {
     "name": "stdout",
     "output_type": "stream",
     "text": [
      "Saved: correlation_matrices/USM_0050453_func_preproc_corr.npy\n"
     ]
    },
    {
     "name": "stderr",
     "output_type": "stream",
     "text": [
      "Parallel Processing:  33%|███▎      | 372/1112 [1:24:31<37:09,  3.01s/it]  "
     ]
    },
    {
     "name": "stdout",
     "output_type": "stream",
     "text": [
      "Saved: correlation_matrices/USM_0050463_func_preproc_corr.npy\n"
     ]
    },
    {
     "name": "stderr",
     "output_type": "stream",
     "text": [
      "Parallel Processing:  34%|███▎      | 375/1112 [1:25:32<1:25:24,  6.95s/it]"
     ]
    },
    {
     "name": "stdout",
     "output_type": "stream",
     "text": [
      "Saved: correlation_matrices/USM_0050466_func_preproc_corr.npy\n"
     ]
    },
    {
     "name": "stderr",
     "output_type": "stream",
     "text": [
      "Parallel Processing:  34%|███▍      | 376/1112 [1:25:36<1:21:44,  6.66s/it]"
     ]
    },
    {
     "name": "stdout",
     "output_type": "stream",
     "text": [
      "Saved: correlation_matrices/USM_0050467_func_preproc_corr.npy\n",
      "Error: HTTP Error 404: Not Found\n",
      "Error: HTTP Error 404: Not Found\n",
      "Saved: correlation_matrices/USM_0050468_func_preproc_corr.npy\n"
     ]
    },
    {
     "name": "stderr",
     "output_type": "stream",
     "text": [
      "Parallel Processing:  34%|███▍      | 377/1112 [1:25:37<1:12:56,  5.95s/it]"
     ]
    },
    {
     "name": "stdout",
     "output_type": "stream",
     "text": [
      "Error: HTTP Error 404: Not Found\n"
     ]
    },
    {
     "name": "stderr",
     "output_type": "stream",
     "text": [
      "Parallel Processing:  34%|███▍      | 378/1112 [1:25:37<1:02:46,  5.13s/it]"
     ]
    },
    {
     "name": "stdout",
     "output_type": "stream",
     "text": [
      "Error: HTTP Error 404: Not Found\n",
      "Saved: correlation_matrices/USM_0050469_func_preproc_corr.npy\n",
      "Error: HTTP Error 404: Not Found\n",
      "Error: HTTP Error 404: Not Found\n",
      "Error: HTTP Error 404: Not Found\n",
      "Error: HTTP Error 404: Not Found\n"
     ]
    },
    {
     "name": "stderr",
     "output_type": "stream",
     "text": [
      "Parallel Processing:  34%|███▍      | 379/1112 [1:26:33<2:52:07, 14.09s/it]"
     ]
    },
    {
     "name": "stdout",
     "output_type": "stream",
     "text": [
      "Saved: correlation_matrices/USM_0050470_func_preproc_corr.npy\n",
      "Saved: correlation_matrices/USM_0050480_func_preproc_corr.npy\n",
      "Saved: correlation_matrices/USM_0050481_func_preproc_corr.npy\n",
      "Error: HTTP Error 404: Not Found\n"
     ]
    },
    {
     "name": "stderr",
     "output_type": "stream",
     "text": [
      "Parallel Processing:  35%|███▍      | 386/1112 [1:26:39<1:07:45,  5.60s/it]"
     ]
    },
    {
     "name": "stdout",
     "output_type": "stream",
     "text": [
      "Saved: correlation_matrices/USM_0050477_func_preproc_corr.npy\n"
     ]
    },
    {
     "name": "stderr",
     "output_type": "stream",
     "text": [
      "Parallel Processing:  35%|███▌      | 391/1112 [1:27:33<1:32:30,  7.70s/it]"
     ]
    },
    {
     "name": "stdout",
     "output_type": "stream",
     "text": [
      "Saved: correlation_matrices/USM_0050482_func_preproc_corr.npy\n"
     ]
    },
    {
     "name": "stderr",
     "output_type": "stream",
     "text": [
      "Parallel Processing:  35%|███▌      | 392/1112 [1:27:38<1:28:49,  7.40s/it]"
     ]
    },
    {
     "name": "stdout",
     "output_type": "stream",
     "text": [
      "Saved: correlation_matrices/USM_0050483_func_preproc_corr.npy\n"
     ]
    },
    {
     "name": "stderr",
     "output_type": "stream",
     "text": [
      "Parallel Processing:  35%|███▌      | 394/1112 [1:27:40<1:10:28,  5.89s/it]"
     ]
    },
    {
     "name": "stdout",
     "output_type": "stream",
     "text": [
      "Saved: correlation_matrices/USM_0050485_func_preproc_corr.npy\n"
     ]
    },
    {
     "name": "stderr",
     "output_type": "stream",
     "text": [
      "Parallel Processing:  36%|███▌      | 395/1112 [1:27:40<1:02:00,  5.19s/it]"
     ]
    },
    {
     "name": "stdout",
     "output_type": "stream",
     "text": [
      "Saved: correlation_matrices/USM_0050486_func_preproc_corr.npy\n"
     ]
    },
    {
     "name": "stderr",
     "output_type": "stream",
     "text": [
      "Parallel Processing:  36%|███▌      | 396/1112 [1:28:30<2:29:35, 12.54s/it]"
     ]
    },
    {
     "name": "stdout",
     "output_type": "stream",
     "text": [
      "Saved: correlation_matrices/USM_0050487_func_preproc_corr.npy\n",
      "Saved: correlation_matrices/USM_0050490_func_preproc_corr.npy\n"
     ]
    },
    {
     "name": "stderr",
     "output_type": "stream",
     "text": [
      "Parallel Processing:  36%|███▌      | 397/1112 [1:28:38<2:17:55, 11.57s/it]"
     ]
    },
    {
     "name": "stdout",
     "output_type": "stream",
     "text": [
      "Saved: correlation_matrices/USM_0050488_func_preproc_corr.npy\n"
     ]
    },
    {
     "name": "stderr",
     "output_type": "stream",
     "text": [
      "Parallel Processing:  36%|███▌      | 398/1112 [1:28:39<1:52:08,  9.42s/it]"
     ]
    },
    {
     "name": "stdout",
     "output_type": "stream",
     "text": [
      "Saved: correlation_matrices/USM_0050489_func_preproc_corr.npy\n"
     ]
    },
    {
     "name": "stderr",
     "output_type": "stream",
     "text": [
      "Parallel Processing:  36%|███▌      | 400/1112 [1:29:47<3:42:34, 18.76s/it]"
     ]
    },
    {
     "name": "stdout",
     "output_type": "stream",
     "text": [
      "Saved: correlation_matrices/USM_0050491_func_preproc_corr.npy\n",
      "Error: HTTP Error 404: Not Found\n"
     ]
    },
    {
     "name": "stderr",
     "output_type": "stream",
     "text": [
      "Parallel Processing:  36%|███▌      | 401/1112 [1:30:02<3:31:32, 17.85s/it]"
     ]
    },
    {
     "name": "stdout",
     "output_type": "stream",
     "text": [
      "Saved: correlation_matrices/USM_0050492_func_preproc_corr.npy\n",
      "Saved: correlation_matrices/USM_0050494_func_preproc_corr.npy\n",
      "Saved: correlation_matrices/USM_0050493_func_preproc_corr.npy\n"
     ]
    },
    {
     "name": "stderr",
     "output_type": "stream",
     "text": [
      "Parallel Processing:  36%|███▋      | 405/1112 [1:30:38<2:31:44, 12.88s/it]"
     ]
    },
    {
     "name": "stdout",
     "output_type": "stream",
     "text": [
      "Saved: correlation_matrices/USM_0050496_func_preproc_corr.npy\n",
      "Saved: correlation_matrices/USM_0050498_func_preproc_corr.npy\n",
      "Saved: correlation_matrices/USM_0050499_func_preproc_corr.npy\n"
     ]
    },
    {
     "name": "stderr",
     "output_type": "stream",
     "text": [
      "Parallel Processing:  37%|███▋      | 406/1112 [1:31:08<3:10:02, 16.15s/it]"
     ]
    },
    {
     "name": "stdout",
     "output_type": "stream",
     "text": [
      "Saved: correlation_matrices/USM_0050497_func_preproc_corr.npy\n"
     ]
    },
    {
     "name": "stderr",
     "output_type": "stream",
     "text": [
      "Parallel Processing:  37%|███▋      | 409/1112 [1:31:27<2:17:57, 11.77s/it]"
     ]
    },
    {
     "name": "stdout",
     "output_type": "stream",
     "text": [
      "Saved: correlation_matrices/USM_0050500_func_preproc_corr.npy\n"
     ]
    },
    {
     "name": "stderr",
     "output_type": "stream",
     "text": [
      "Parallel Processing:  37%|███▋      | 410/1112 [1:32:08<3:17:20, 16.87s/it]"
     ]
    },
    {
     "name": "stdout",
     "output_type": "stream",
     "text": [
      "Saved: correlation_matrices/USM_0050501_func_preproc_corr.npy\n"
     ]
    },
    {
     "name": "stderr",
     "output_type": "stream",
     "text": [
      "Parallel Processing:  37%|███▋      | 411/1112 [1:32:09<2:38:47, 13.59s/it]"
     ]
    },
    {
     "name": "stdout",
     "output_type": "stream",
     "text": [
      "Saved: correlation_matrices/USM_0050502_func_preproc_corr.npy\n",
      "Error: HTTP Error 404: Not Found\n"
     ]
    },
    {
     "name": "stderr",
     "output_type": "stream",
     "text": [
      "Parallel Processing:  37%|███▋      | 412/1112 [1:32:09<2:04:51, 10.70s/it]"
     ]
    },
    {
     "name": "stdout",
     "output_type": "stream",
     "text": [
      "Saved: correlation_matrices/USM_0050503_func_preproc_corr.npy\n",
      "Error: HTTP Error 404: Not Found\n"
     ]
    },
    {
     "name": "stderr",
     "output_type": "stream",
     "text": [
      "Parallel Processing:  37%|███▋      | 413/1112 [1:32:17<1:56:49, 10.03s/it]"
     ]
    },
    {
     "name": "stdout",
     "output_type": "stream",
     "text": [
      "Saved: correlation_matrices/USM_0050504_func_preproc_corr.npy\n",
      "Saved: correlation_matrices/USM_0050509_func_preproc_corr.npy\n",
      "Saved: correlation_matrices/USM_0050507_func_preproc_corr.npy\n",
      "Error: HTTP Error 404: Not Found\n",
      "Error: HTTP Error 404: Not Found\n"
     ]
    },
    {
     "name": "stderr",
     "output_type": "stream",
     "text": [
      "Parallel Processing:  37%|███▋      | 414/1112 [1:33:12<4:11:19, 21.60s/it]"
     ]
    },
    {
     "name": "stdout",
     "output_type": "stream",
     "text": [
      "Saved: correlation_matrices/USM_0050505_func_preproc_corr.npy\n"
     ]
    },
    {
     "name": "stderr",
     "output_type": "stream",
     "text": [
      "Parallel Processing:  38%|███▊      | 419/1112 [1:33:14<1:31:03,  7.88s/it]"
     ]
    },
    {
     "name": "stdout",
     "output_type": "stream",
     "text": [
      "Saved: correlation_matrices/USM_0050510_func_preproc_corr.npy\n"
     ]
    },
    {
     "name": "stderr",
     "output_type": "stream",
     "text": [
      "Parallel Processing:  38%|███▊      | 420/1112 [1:34:10<2:57:25, 15.38s/it]"
     ]
    },
    {
     "name": "stdout",
     "output_type": "stream",
     "text": [
      "Saved: correlation_matrices/USM_0050511_func_preproc_corr.npy\n",
      "Error: HTTP Error 404: Not Found\n"
     ]
    },
    {
     "name": "stderr",
     "output_type": "stream",
     "text": [
      "Parallel Processing:  38%|███▊      | 423/1112 [1:34:13<1:50:10,  9.59s/it]"
     ]
    },
    {
     "name": "stdout",
     "output_type": "stream",
     "text": [
      "Saved: correlation_matrices/USM_0050514_func_preproc_corr.npy\n"
     ]
    },
    {
     "name": "stderr",
     "output_type": "stream",
     "text": [
      "Parallel Processing:  38%|███▊      | 424/1112 [1:34:14<1:34:27,  8.24s/it]"
     ]
    },
    {
     "name": "stdout",
     "output_type": "stream",
     "text": [
      "Saved: correlation_matrices/USM_0050515_func_preproc_corr.npy\n"
     ]
    },
    {
     "name": "stderr",
     "output_type": "stream",
     "text": [
      "Parallel Processing:  38%|███▊      | 425/1112 [1:34:15<1:18:58,  6.90s/it]"
     ]
    },
    {
     "name": "stdout",
     "output_type": "stream",
     "text": [
      "Saved: correlation_matrices/USM_0050516_func_preproc_corr.npy\n"
     ]
    },
    {
     "name": "stderr",
     "output_type": "stream",
     "text": [
      "Parallel Processing:  38%|███▊      | 427/1112 [1:35:09<2:38:24, 13.88s/it]"
     ]
    },
    {
     "name": "stdout",
     "output_type": "stream",
     "text": [
      "Saved: correlation_matrices/USM_0050518_func_preproc_corr.npy\n",
      "Error: HTTP Error 404: Not Found\n"
     ]
    },
    {
     "name": "stderr",
     "output_type": "stream",
     "text": [
      "Parallel Processing:  38%|███▊      | 428/1112 [1:35:13<2:15:01, 11.84s/it]"
     ]
    },
    {
     "name": "stdout",
     "output_type": "stream",
     "text": [
      "Saved: correlation_matrices/USM_0050519_func_preproc_corr.npy\n",
      "Saved: correlation_matrices/USM_0050521_func_preproc_corr.npy\n"
     ]
    },
    {
     "name": "stderr",
     "output_type": "stream",
     "text": [
      "Parallel Processing:  39%|███▊      | 429/1112 [1:35:15<1:50:26,  9.70s/it]"
     ]
    },
    {
     "name": "stdout",
     "output_type": "stream",
     "text": [
      "Saved: correlation_matrices/USM_0050520_func_preproc_corr.npy\n"
     ]
    },
    {
     "name": "stderr",
     "output_type": "stream",
     "text": [
      "Parallel Processing:  39%|███▉      | 432/1112 [1:36:10<2:37:53, 13.93s/it]"
     ]
    },
    {
     "name": "stdout",
     "output_type": "stream",
     "text": [
      "Saved: correlation_matrices/USM_0050523_func_preproc_corr.npy\n",
      "Saved: correlation_matrices/USM_0050525_func_preproc_corr.npy\n"
     ]
    },
    {
     "name": "stderr",
     "output_type": "stream",
     "text": [
      "Parallel Processing:  39%|███▉      | 433/1112 [1:36:15<2:17:30, 12.15s/it]"
     ]
    },
    {
     "name": "stdout",
     "output_type": "stream",
     "text": [
      "Saved: correlation_matrices/USM_0050524_func_preproc_corr.npy\n",
      "Saved: correlation_matrices/USM_0050526_func_preproc_corr.npy\n"
     ]
    },
    {
     "name": "stderr",
     "output_type": "stream",
     "text": [
      "Parallel Processing:  39%|███▉      | 436/1112 [1:37:13<3:21:13, 17.86s/it]"
     ]
    },
    {
     "name": "stdout",
     "output_type": "stream",
     "text": [
      "Saved: correlation_matrices/USM_0050527_func_preproc_corr.npy\n"
     ]
    },
    {
     "name": "stderr",
     "output_type": "stream",
     "text": [
      "Parallel Processing:  39%|███▉      | 437/1112 [1:37:21<2:56:46, 15.71s/it]"
     ]
    },
    {
     "name": "stdout",
     "output_type": "stream",
     "text": [
      "Saved: correlation_matrices/USM_0050528_func_preproc_corr.npy\n"
     ]
    },
    {
     "name": "stderr",
     "output_type": "stream",
     "text": [
      "Parallel Processing:  39%|███▉      | 438/1112 [1:37:21<2:15:10, 12.03s/it]"
     ]
    },
    {
     "name": "stdout",
     "output_type": "stream",
     "text": [
      "Saved: correlation_matrices/USM_0050529_func_preproc_corr.npy\n"
     ]
    },
    {
     "name": "stderr",
     "output_type": "stream",
     "text": [
      "Parallel Processing:  39%|███▉      | 439/1112 [1:37:22<1:42:33,  9.14s/it]"
     ]
    },
    {
     "name": "stdout",
     "output_type": "stream",
     "text": [
      "Saved: correlation_matrices/USM_0050530_func_preproc_corr.npy\n"
     ]
    },
    {
     "name": "stderr",
     "output_type": "stream",
     "text": [
      "Parallel Processing:  40%|███▉      | 440/1112 [1:38:10<3:40:39, 19.70s/it]"
     ]
    },
    {
     "name": "stdout",
     "output_type": "stream",
     "text": [
      "Saved: correlation_matrices/USM_0050531_func_preproc_corr.npy\n",
      "Saved: correlation_matrices/Yale_0050551_func_preproc_corr.npy\n",
      "Saved: correlation_matrices/Yale_0050552_func_preproc_corr.npy\n"
     ]
    },
    {
     "name": "stderr",
     "output_type": "stream",
     "text": [
      "Parallel Processing:  40%|███▉      | 441/1112 [1:38:17<3:00:20, 16.13s/it]"
     ]
    },
    {
     "name": "stdout",
     "output_type": "stream",
     "text": [
      "Saved: correlation_matrices/USM_0050532_func_preproc_corr.npy\n"
     ]
    },
    {
     "name": "stderr",
     "output_type": "stream",
     "text": [
      "Parallel Processing:  40%|███▉      | 444/1112 [1:39:01<2:51:12, 15.38s/it]"
     ]
    },
    {
     "name": "stdout",
     "output_type": "stream",
     "text": [
      "Saved: correlation_matrices/Yale_0050553_func_preproc_corr.npy\n",
      "Saved: correlation_matrices/Yale_0050555_func_preproc_corr.npy\n",
      "Saved: correlation_matrices/Yale_0050554_func_preproc_corr.npy\n"
     ]
    },
    {
     "name": "stderr",
     "output_type": "stream",
     "text": [
      "Parallel Processing:  40%|████      | 447/1112 [1:39:07<1:34:57,  8.57s/it]"
     ]
    },
    {
     "name": "stdout",
     "output_type": "stream",
     "text": [
      "Saved: correlation_matrices/Yale_0050556_func_preproc_corr.npy\n",
      "Saved: correlation_matrices/Yale_0050557_func_preproc_corr.npy\n"
     ]
    },
    {
     "name": "stderr",
     "output_type": "stream",
     "text": [
      "Parallel Processing:  40%|████      | 449/1112 [1:40:15<3:10:28, 17.24s/it]"
     ]
    },
    {
     "name": "stdout",
     "output_type": "stream",
     "text": [
      "Saved: correlation_matrices/Yale_0050558_func_preproc_corr.npy\n"
     ]
    },
    {
     "name": "stderr",
     "output_type": "stream",
     "text": [
      "Parallel Processing:  40%|████      | 450/1112 [1:40:20<2:36:48, 14.21s/it]"
     ]
    },
    {
     "name": "stdout",
     "output_type": "stream",
     "text": [
      "Saved: correlation_matrices/Yale_0050559_func_preproc_corr.npy\n"
     ]
    },
    {
     "name": "stderr",
     "output_type": "stream",
     "text": [
      "Parallel Processing:  41%|████      | 451/1112 [1:40:21<1:59:11, 10.82s/it]"
     ]
    },
    {
     "name": "stdout",
     "output_type": "stream",
     "text": [
      "Saved: correlation_matrices/Yale_0050560_func_preproc_corr.npy\n"
     ]
    },
    {
     "name": "stderr",
     "output_type": "stream",
     "text": [
      "Parallel Processing:  41%|████      | 452/1112 [1:40:59<3:19:03, 18.10s/it]"
     ]
    },
    {
     "name": "stdout",
     "output_type": "stream",
     "text": [
      "Saved: correlation_matrices/Yale_0050561_func_preproc_corr.npy\n"
     ]
    },
    {
     "name": "stderr",
     "output_type": "stream",
     "text": [
      "Parallel Processing:  41%|████      | 453/1112 [1:41:10<2:58:24, 16.24s/it]"
     ]
    },
    {
     "name": "stdout",
     "output_type": "stream",
     "text": [
      "Saved: correlation_matrices/Yale_0050562_func_preproc_corr.npy\n"
     ]
    },
    {
     "name": "stderr",
     "output_type": "stream",
     "text": [
      "Parallel Processing:  41%|████      | 454/1112 [1:41:14<2:17:18, 12.52s/it]"
     ]
    },
    {
     "name": "stdout",
     "output_type": "stream",
     "text": [
      "Saved: correlation_matrices/Yale_0050563_func_preproc_corr.npy\n"
     ]
    },
    {
     "name": "stderr",
     "output_type": "stream",
     "text": [
      "Parallel Processing:  41%|████      | 455/1112 [1:41:16<1:44:17,  9.52s/it]"
     ]
    },
    {
     "name": "stdout",
     "output_type": "stream",
     "text": [
      "Saved: correlation_matrices/Yale_0050564_func_preproc_corr.npy\n"
     ]
    },
    {
     "name": "stderr",
     "output_type": "stream",
     "text": [
      "Parallel Processing:  41%|████      | 456/1112 [1:41:45<2:45:56, 15.18s/it]"
     ]
    },
    {
     "name": "stdout",
     "output_type": "stream",
     "text": [
      "Saved: correlation_matrices/Yale_0050565_func_preproc_corr.npy\n"
     ]
    },
    {
     "name": "stderr",
     "output_type": "stream",
     "text": [
      "Parallel Processing:  41%|████      | 457/1112 [1:42:04<2:59:49, 16.47s/it]"
     ]
    },
    {
     "name": "stdout",
     "output_type": "stream",
     "text": [
      "Saved: correlation_matrices/Yale_0050566_func_preproc_corr.npy\n"
     ]
    },
    {
     "name": "stderr",
     "output_type": "stream",
     "text": [
      "Parallel Processing:  41%|████      | 458/1112 [1:42:05<2:10:08, 11.94s/it]"
     ]
    },
    {
     "name": "stdout",
     "output_type": "stream",
     "text": [
      "Saved: correlation_matrices/Yale_0050567_func_preproc_corr.npy\n"
     ]
    },
    {
     "name": "stderr",
     "output_type": "stream",
     "text": [
      "Parallel Processing:  41%|████▏     | 459/1112 [1:42:07<1:35:17,  8.76s/it]"
     ]
    },
    {
     "name": "stdout",
     "output_type": "stream",
     "text": [
      "Saved: correlation_matrices/Yale_0050568_func_preproc_corr.npy\n"
     ]
    },
    {
     "name": "stderr",
     "output_type": "stream",
     "text": [
      "Parallel Processing:  41%|████▏     | 460/1112 [1:42:30<2:22:06, 13.08s/it]"
     ]
    },
    {
     "name": "stdout",
     "output_type": "stream",
     "text": [
      "Saved: correlation_matrices/Yale_0050569_func_preproc_corr.npy\n"
     ]
    },
    {
     "name": "stderr",
     "output_type": "stream",
     "text": [
      "Parallel Processing:  41%|████▏     | 461/1112 [1:42:55<3:00:21, 16.62s/it]"
     ]
    },
    {
     "name": "stdout",
     "output_type": "stream",
     "text": [
      "Saved: correlation_matrices/Yale_0050570_func_preproc_corr.npy\n"
     ]
    },
    {
     "name": "stderr",
     "output_type": "stream",
     "text": [
      "Parallel Processing:  42%|████▏     | 462/1112 [1:42:57<2:13:53, 12.36s/it]"
     ]
    },
    {
     "name": "stdout",
     "output_type": "stream",
     "text": [
      "Saved: correlation_matrices/Yale_0050571_func_preproc_corr.npy\n"
     ]
    },
    {
     "name": "stderr",
     "output_type": "stream",
     "text": [
      "Parallel Processing:  42%|████▏     | 463/1112 [1:42:58<1:36:29,  8.92s/it]"
     ]
    },
    {
     "name": "stdout",
     "output_type": "stream",
     "text": [
      "Saved: correlation_matrices/Yale_0050572_func_preproc_corr.npy\n"
     ]
    },
    {
     "name": "stderr",
     "output_type": "stream",
     "text": [
      "Parallel Processing:  42%|████▏     | 464/1112 [1:43:14<1:57:53, 10.92s/it]"
     ]
    },
    {
     "name": "stdout",
     "output_type": "stream",
     "text": [
      "Saved: correlation_matrices/Yale_0050573_func_preproc_corr.npy\n"
     ]
    },
    {
     "name": "stderr",
     "output_type": "stream",
     "text": [
      "Parallel Processing:  42%|████▏     | 465/1112 [1:43:48<3:12:25, 17.84s/it]"
     ]
    },
    {
     "name": "stdout",
     "output_type": "stream",
     "text": [
      "Saved: correlation_matrices/Yale_0050574_func_preproc_corr.npy\n"
     ]
    },
    {
     "name": "stderr",
     "output_type": "stream",
     "text": [
      "Parallel Processing:  42%|████▏     | 466/1112 [1:43:49<2:20:12, 13.02s/it]"
     ]
    },
    {
     "name": "stdout",
     "output_type": "stream",
     "text": [
      "Saved: correlation_matrices/Yale_0050575_func_preproc_corr.npy\n"
     ]
    },
    {
     "name": "stderr",
     "output_type": "stream",
     "text": [
      "Parallel Processing:  42%|████▏     | 467/1112 [1:43:50<1:41:09,  9.41s/it]"
     ]
    },
    {
     "name": "stdout",
     "output_type": "stream",
     "text": [
      "Saved: correlation_matrices/Yale_0050576_func_preproc_corr.npy\n"
     ]
    },
    {
     "name": "stderr",
     "output_type": "stream",
     "text": [
      "Parallel Processing:  42%|████▏     | 468/1112 [1:43:58<1:34:18,  8.79s/it]"
     ]
    },
    {
     "name": "stdout",
     "output_type": "stream",
     "text": [
      "Saved: correlation_matrices/Yale_0050577_func_preproc_corr.npy\n"
     ]
    },
    {
     "name": "stderr",
     "output_type": "stream",
     "text": [
      "Parallel Processing:  42%|████▏     | 469/1112 [1:44:40<3:21:23, 18.79s/it]"
     ]
    },
    {
     "name": "stdout",
     "output_type": "stream",
     "text": [
      "Saved: correlation_matrices/Yale_0050578_func_preproc_corr.npy\n"
     ]
    },
    {
     "name": "stderr",
     "output_type": "stream",
     "text": [
      "Parallel Processing:  42%|████▏     | 470/1112 [1:44:41<2:24:28, 13.50s/it]"
     ]
    },
    {
     "name": "stdout",
     "output_type": "stream",
     "text": [
      "Saved: correlation_matrices/Yale_0050601_func_preproc_corr.npy\n"
     ]
    },
    {
     "name": "stderr",
     "output_type": "stream",
     "text": [
      "Parallel Processing:  42%|████▏     | 471/1112 [1:44:42<1:44:42,  9.80s/it]"
     ]
    },
    {
     "name": "stdout",
     "output_type": "stream",
     "text": [
      "Saved: correlation_matrices/Yale_0050602_func_preproc_corr.npy\n"
     ]
    },
    {
     "name": "stderr",
     "output_type": "stream",
     "text": [
      "Parallel Processing:  42%|████▏     | 472/1112 [1:44:45<1:22:25,  7.73s/it]"
     ]
    },
    {
     "name": "stdout",
     "output_type": "stream",
     "text": [
      "Saved: correlation_matrices/Yale_0050603_func_preproc_corr.npy\n"
     ]
    },
    {
     "name": "stderr",
     "output_type": "stream",
     "text": [
      "Parallel Processing:  43%|████▎     | 473/1112 [1:45:29<3:18:25, 18.63s/it]"
     ]
    },
    {
     "name": "stdout",
     "output_type": "stream",
     "text": [
      "Saved: correlation_matrices/Yale_0050604_func_preproc_corr.npy\n"
     ]
    },
    {
     "name": "stderr",
     "output_type": "stream",
     "text": [
      "Parallel Processing:  43%|████▎     | 474/1112 [1:45:31<2:23:30, 13.50s/it]"
     ]
    },
    {
     "name": "stdout",
     "output_type": "stream",
     "text": [
      "Saved: correlation_matrices/Yale_0050605_func_preproc_corr.npy\n"
     ]
    },
    {
     "name": "stderr",
     "output_type": "stream",
     "text": [
      "Parallel Processing:  43%|████▎     | 475/1112 [1:45:32<1:45:00,  9.89s/it]"
     ]
    },
    {
     "name": "stdout",
     "output_type": "stream",
     "text": [
      "Saved: correlation_matrices/Yale_0050606_func_preproc_corr.npy\n"
     ]
    },
    {
     "name": "stderr",
     "output_type": "stream",
     "text": [
      "Parallel Processing:  43%|████▎     | 476/1112 [1:45:35<1:21:38,  7.70s/it]"
     ]
    },
    {
     "name": "stdout",
     "output_type": "stream",
     "text": [
      "Saved: correlation_matrices/Yale_0050607_func_preproc_corr.npy\n"
     ]
    },
    {
     "name": "stderr",
     "output_type": "stream",
     "text": [
      "Parallel Processing:  43%|████▎     | 477/1112 [1:46:14<3:03:03, 17.30s/it]"
     ]
    },
    {
     "name": "stdout",
     "output_type": "stream",
     "text": [
      "Saved: correlation_matrices/Yale_0050608_func_preproc_corr.npy\n",
      "Saved: correlation_matrices/Yale_0050610_func_preproc_corr.npy\n"
     ]
    },
    {
     "name": "stderr",
     "output_type": "stream",
     "text": [
      "Parallel Processing:  43%|████▎     | 478/1112 [1:46:25<2:42:27, 15.37s/it]"
     ]
    },
    {
     "name": "stdout",
     "output_type": "stream",
     "text": [
      "Saved: correlation_matrices/Yale_0050609_func_preproc_corr.npy\n"
     ]
    },
    {
     "name": "stderr",
     "output_type": "stream",
     "text": [
      "Parallel Processing:  43%|████▎     | 480/1112 [1:46:26<1:29:20,  8.48s/it]"
     ]
    },
    {
     "name": "stdout",
     "output_type": "stream",
     "text": [
      "Saved: correlation_matrices/Yale_0050611_func_preproc_corr.npy\n"
     ]
    },
    {
     "name": "stderr",
     "output_type": "stream",
     "text": [
      "Parallel Processing:  43%|████▎     | 481/1112 [1:47:00<2:34:43, 14.71s/it]"
     ]
    },
    {
     "name": "stdout",
     "output_type": "stream",
     "text": [
      "Saved: correlation_matrices/Yale_0050612_func_preproc_corr.npy\n"
     ]
    },
    {
     "name": "stderr",
     "output_type": "stream",
     "text": [
      "Parallel Processing:  43%|████▎     | 482/1112 [1:47:14<2:34:01, 14.67s/it]"
     ]
    },
    {
     "name": "stdout",
     "output_type": "stream",
     "text": [
      "Saved: correlation_matrices/Yale_0050613_func_preproc_corr.npy\n"
     ]
    },
    {
     "name": "stderr",
     "output_type": "stream",
     "text": [
      "Parallel Processing:  43%|████▎     | 483/1112 [1:47:15<1:54:49, 10.95s/it]"
     ]
    },
    {
     "name": "stdout",
     "output_type": "stream",
     "text": [
      "Saved: correlation_matrices/Yale_0050614_func_preproc_corr.npy\n"
     ]
    },
    {
     "name": "stderr",
     "output_type": "stream",
     "text": [
      "Parallel Processing:  44%|████▎     | 484/1112 [1:47:17<1:28:03,  8.41s/it]"
     ]
    },
    {
     "name": "stdout",
     "output_type": "stream",
     "text": [
      "Saved: correlation_matrices/Yale_0050615_func_preproc_corr.npy\n"
     ]
    },
    {
     "name": "stderr",
     "output_type": "stream",
     "text": [
      "Parallel Processing:  44%|████▎     | 485/1112 [1:47:43<2:20:58, 13.49s/it]"
     ]
    },
    {
     "name": "stdout",
     "output_type": "stream",
     "text": [
      "Saved: correlation_matrices/Yale_0050616_func_preproc_corr.npy\n",
      "Saved: correlation_matrices/Yale_0050618_func_preproc_corr.npy\n"
     ]
    },
    {
     "name": "stderr",
     "output_type": "stream",
     "text": [
      "Parallel Processing:  44%|████▎     | 486/1112 [1:48:09<2:57:41, 17.03s/it]"
     ]
    },
    {
     "name": "stdout",
     "output_type": "stream",
     "text": [
      "Saved: correlation_matrices/Yale_0050617_func_preproc_corr.npy\n",
      "Saved: correlation_matrices/Yale_0050619_func_preproc_corr.npy\n"
     ]
    },
    {
     "name": "stderr",
     "output_type": "stream",
     "text": [
      "Parallel Processing:  44%|████▍     | 489/1112 [1:48:26<1:56:50, 11.25s/it]"
     ]
    },
    {
     "name": "stdout",
     "output_type": "stream",
     "text": [
      "Saved: correlation_matrices/Yale_0050620_func_preproc_corr.npy\n"
     ]
    },
    {
     "name": "stderr",
     "output_type": "stream",
     "text": [
      "Parallel Processing:  44%|████▍     | 490/1112 [1:49:00<2:55:33, 16.93s/it]"
     ]
    },
    {
     "name": "stdout",
     "output_type": "stream",
     "text": [
      "Saved: correlation_matrices/Yale_0050621_func_preproc_corr.npy\n",
      "Saved: correlation_matrices/Yale_0050623_func_preproc_corr.npy\n"
     ]
    },
    {
     "name": "stderr",
     "output_type": "stream",
     "text": [
      "Parallel Processing:  44%|████▍     | 491/1112 [1:49:01<2:11:48, 12.73s/it]"
     ]
    },
    {
     "name": "stdout",
     "output_type": "stream",
     "text": [
      "Saved: correlation_matrices/Yale_0050622_func_preproc_corr.npy\n"
     ]
    },
    {
     "name": "stderr",
     "output_type": "stream",
     "text": [
      "Parallel Processing:  44%|████▍     | 493/1112 [1:49:08<1:30:52,  8.81s/it]"
     ]
    },
    {
     "name": "stdout",
     "output_type": "stream",
     "text": [
      "Saved: correlation_matrices/Yale_0050624_func_preproc_corr.npy\n",
      "Saved: correlation_matrices/Yale_0050625_func_preproc_corr.npy\n"
     ]
    },
    {
     "name": "stderr",
     "output_type": "stream",
     "text": [
      "Parallel Processing:  44%|████▍     | 494/1112 [1:49:46<2:42:08, 15.74s/it]"
     ]
    },
    {
     "name": "stdout",
     "output_type": "stream",
     "text": [
      "Saved: correlation_matrices/Yale_0050627_func_preproc_corr.npy\n",
      "Saved: correlation_matrices/Yale_0050628_func_preproc_corr.npy\n"
     ]
    },
    {
     "name": "stderr",
     "output_type": "stream",
     "text": [
      "Parallel Processing:  45%|████▍     | 495/1112 [1:50:02<2:41:49, 15.74s/it]"
     ]
    },
    {
     "name": "stdout",
     "output_type": "stream",
     "text": [
      "Saved: correlation_matrices/Yale_0050626_func_preproc_corr.npy\n"
     ]
    },
    {
     "name": "stderr",
     "output_type": "stream",
     "text": [
      "Parallel Processing:  45%|████▍     | 498/1112 [1:51:08<3:13:51, 18.94s/it]"
     ]
    },
    {
     "name": "stdout",
     "output_type": "stream",
     "text": [
      "Saved: correlation_matrices/CMU_a_0050642_func_preproc_corr.npy\n"
     ]
    },
    {
     "name": "stderr",
     "output_type": "stream",
     "text": [
      "Parallel Processing:  45%|████▍     | 499/1112 [1:51:22<3:03:00, 17.91s/it]"
     ]
    },
    {
     "name": "stdout",
     "output_type": "stream",
     "text": [
      "Saved: correlation_matrices/CMU_b_0050643_func_preproc_corr.npy\n"
     ]
    },
    {
     "name": "stderr",
     "output_type": "stream",
     "text": [
      "Parallel Processing:  45%|████▍     | 500/1112 [1:51:36<2:54:36, 17.12s/it]"
     ]
    },
    {
     "name": "stdout",
     "output_type": "stream",
     "text": [
      "Saved: correlation_matrices/CMU_b_0050644_func_preproc_corr.npy\n"
     ]
    },
    {
     "name": "stderr",
     "output_type": "stream",
     "text": [
      "Parallel Processing:  45%|████▌     | 501/1112 [1:51:37<2:15:39, 13.32s/it]"
     ]
    },
    {
     "name": "stdout",
     "output_type": "stream",
     "text": [
      "Saved: correlation_matrices/CMU_b_0050645_func_preproc_corr.npy\n"
     ]
    },
    {
     "name": "stderr",
     "output_type": "stream",
     "text": [
      "Parallel Processing:  45%|████▌     | 502/1112 [1:52:00<2:40:53, 15.83s/it]"
     ]
    },
    {
     "name": "stdout",
     "output_type": "stream",
     "text": [
      "Saved: correlation_matrices/CMU_a_0050646_func_preproc_corr.npy\n"
     ]
    },
    {
     "name": "stderr",
     "output_type": "stream",
     "text": [
      "Parallel Processing:  45%|████▌     | 503/1112 [1:52:09<2:20:54, 13.88s/it]"
     ]
    },
    {
     "name": "stdout",
     "output_type": "stream",
     "text": [
      "Saved: correlation_matrices/CMU_a_0050647_func_preproc_corr.npy\n",
      "Saved: correlation_matrices/CMU_a_0050649_func_preproc_corr.npy\n"
     ]
    },
    {
     "name": "stderr",
     "output_type": "stream",
     "text": [
      "Parallel Processing:  45%|████▌     | 504/1112 [1:52:47<3:28:23, 20.56s/it]"
     ]
    },
    {
     "name": "stdout",
     "output_type": "stream",
     "text": [
      "Saved: correlation_matrices/CMU_b_0050648_func_preproc_corr.npy\n"
     ]
    },
    {
     "name": "stderr",
     "output_type": "stream",
     "text": [
      "Parallel Processing:  46%|████▌     | 506/1112 [1:53:15<2:59:29, 17.77s/it]"
     ]
    },
    {
     "name": "stdout",
     "output_type": "stream",
     "text": [
      "Saved: correlation_matrices/CMU_b_0050650_func_preproc_corr.npy\n"
     ]
    },
    {
     "name": "stderr",
     "output_type": "stream",
     "text": [
      "Parallel Processing:  46%|████▌     | 507/1112 [1:53:20<2:26:14, 14.50s/it]"
     ]
    },
    {
     "name": "stdout",
     "output_type": "stream",
     "text": [
      "Saved: correlation_matrices/CMU_b_0050651_func_preproc_corr.npy\n",
      "Saved: correlation_matrices/CMU_a_0050653_func_preproc_corr.npy\n"
     ]
    },
    {
     "name": "stderr",
     "output_type": "stream",
     "text": [
      "Parallel Processing:  46%|████▌     | 508/1112 [1:53:41<2:44:46, 16.37s/it]"
     ]
    },
    {
     "name": "stdout",
     "output_type": "stream",
     "text": [
      "Saved: correlation_matrices/CMU_b_0050652_func_preproc_corr.npy\n"
     ]
    },
    {
     "name": "stderr",
     "output_type": "stream",
     "text": [
      "Parallel Processing:  46%|████▌     | 510/1112 [1:54:11<2:38:04, 15.75s/it]"
     ]
    },
    {
     "name": "stdout",
     "output_type": "stream",
     "text": [
      "Saved: correlation_matrices/CMU_a_0050654_func_preproc_corr.npy\n"
     ]
    },
    {
     "name": "stderr",
     "output_type": "stream",
     "text": [
      "Parallel Processing:  46%|████▌     | 511/1112 [1:54:26<2:36:23, 15.61s/it]"
     ]
    },
    {
     "name": "stdout",
     "output_type": "stream",
     "text": [
      "Saved: correlation_matrices/CMU_b_0050655_func_preproc_corr.npy\n"
     ]
    },
    {
     "name": "stderr",
     "output_type": "stream",
     "text": [
      "Parallel Processing:  46%|████▌     | 512/1112 [1:54:37<2:23:23, 14.34s/it]"
     ]
    },
    {
     "name": "stdout",
     "output_type": "stream",
     "text": [
      "Saved: correlation_matrices/CMU_a_0050656_func_preproc_corr.npy\n"
     ]
    },
    {
     "name": "stderr",
     "output_type": "stream",
     "text": [
      "Parallel Processing:  46%|████▌     | 513/1112 [1:54:49<2:17:34, 13.78s/it]"
     ]
    },
    {
     "name": "stdout",
     "output_type": "stream",
     "text": [
      "Saved: correlation_matrices/CMU_b_0050657_func_preproc_corr.npy\n"
     ]
    },
    {
     "name": "stderr",
     "output_type": "stream",
     "text": [
      "Parallel Processing:  46%|████▌     | 514/1112 [1:55:17<2:55:02, 17.56s/it]"
     ]
    },
    {
     "name": "stdout",
     "output_type": "stream",
     "text": [
      "Saved: correlation_matrices/CMU_b_0050658_func_preproc_corr.npy\n"
     ]
    },
    {
     "name": "stderr",
     "output_type": "stream",
     "text": [
      "Parallel Processing:  46%|████▋     | 515/1112 [1:55:22<2:19:47, 14.05s/it]"
     ]
    },
    {
     "name": "stdout",
     "output_type": "stream",
     "text": [
      "Saved: correlation_matrices/CMU_a_0050659_func_preproc_corr.npy\n"
     ]
    },
    {
     "name": "stderr",
     "output_type": "stream",
     "text": [
      "Parallel Processing:  46%|████▋     | 516/1112 [1:55:29<2:00:21, 12.12s/it]"
     ]
    },
    {
     "name": "stdout",
     "output_type": "stream",
     "text": [
      "Saved: correlation_matrices/CMU_a_0050660_func_preproc_corr.npy\n"
     ]
    },
    {
     "name": "stderr",
     "output_type": "stream",
     "text": [
      "Parallel Processing:  46%|████▋     | 517/1112 [1:55:57<2:46:13, 16.76s/it]"
     ]
    },
    {
     "name": "stdout",
     "output_type": "stream",
     "text": [
      "Saved: correlation_matrices/CMU_b_0050661_func_preproc_corr.npy\n"
     ]
    },
    {
     "name": "stderr",
     "output_type": "stream",
     "text": [
      "Parallel Processing:  47%|████▋     | 518/1112 [1:56:14<2:44:51, 16.65s/it]"
     ]
    },
    {
     "name": "stdout",
     "output_type": "stream",
     "text": [
      "Saved: correlation_matrices/CMU_a_0050663_func_preproc_corr.npy\n"
     ]
    },
    {
     "name": "stderr",
     "output_type": "stream",
     "text": [
      "Parallel Processing:  47%|████▋     | 519/1112 [1:56:18<2:09:23, 13.09s/it]"
     ]
    },
    {
     "name": "stdout",
     "output_type": "stream",
     "text": [
      "Saved: correlation_matrices/CMU_a_0050664_func_preproc_corr.npy\n"
     ]
    },
    {
     "name": "stderr",
     "output_type": "stream",
     "text": [
      "Parallel Processing:  47%|████▋     | 520/1112 [1:56:23<1:45:18, 10.67s/it]"
     ]
    },
    {
     "name": "stdout",
     "output_type": "stream",
     "text": [
      "Saved: correlation_matrices/CMU_a_0050665_func_preproc_corr.npy\n"
     ]
    },
    {
     "name": "stderr",
     "output_type": "stream",
     "text": [
      "Parallel Processing:  47%|████▋     | 521/1112 [1:56:48<2:27:31, 14.98s/it]"
     ]
    },
    {
     "name": "stdout",
     "output_type": "stream",
     "text": [
      "Saved: correlation_matrices/CMU_a_0050666_func_preproc_corr.npy\n",
      "Saved: correlation_matrices/CMU_a_0050668_func_preproc_corr.npy\n"
     ]
    },
    {
     "name": "stderr",
     "output_type": "stream",
     "text": [
      "Parallel Processing:  47%|████▋     | 522/1112 [1:57:26<3:35:11, 21.88s/it]"
     ]
    },
    {
     "name": "stdout",
     "output_type": "stream",
     "text": [
      "Saved: correlation_matrices/CMU_b_0050667_func_preproc_corr.npy\n"
     ]
    },
    {
     "name": "stderr",
     "output_type": "stream",
     "text": [
      "Parallel Processing:  47%|████▋     | 524/1112 [1:57:34<2:12:22, 13.51s/it]"
     ]
    },
    {
     "name": "stdout",
     "output_type": "stream",
     "text": [
      "Saved: correlation_matrices/CMU_b_0050669_func_preproc_corr.npy\n"
     ]
    },
    {
     "name": "stderr",
     "output_type": "stream",
     "text": [
      "Parallel Processing:  47%|████▋     | 525/1112 [1:57:44<2:04:31, 12.73s/it]"
     ]
    },
    {
     "name": "stdout",
     "output_type": "stream",
     "text": [
      "Saved: correlation_matrices/Leuven_1_0050682_func_preproc_corr.npy\n"
     ]
    },
    {
     "name": "stderr",
     "output_type": "stream",
     "text": [
      "Parallel Processing:  47%|████▋     | 526/1112 [1:58:17<2:55:43, 17.99s/it]"
     ]
    },
    {
     "name": "stdout",
     "output_type": "stream",
     "text": [
      "Saved: correlation_matrices/Leuven_1_0050683_func_preproc_corr.npy\n"
     ]
    },
    {
     "name": "stderr",
     "output_type": "stream",
     "text": [
      "Parallel Processing:  47%|████▋     | 527/1112 [1:58:24<2:26:23, 15.02s/it]"
     ]
    },
    {
     "name": "stdout",
     "output_type": "stream",
     "text": [
      "Saved: correlation_matrices/Leuven_1_0050685_func_preproc_corr.npy\n"
     ]
    },
    {
     "name": "stderr",
     "output_type": "stream",
     "text": [
      "Parallel Processing:  47%|████▋     | 528/1112 [1:58:30<2:02:17, 12.56s/it]"
     ]
    },
    {
     "name": "stdout",
     "output_type": "stream",
     "text": [
      "Saved: correlation_matrices/Leuven_1_0050686_func_preproc_corr.npy\n"
     ]
    },
    {
     "name": "stderr",
     "output_type": "stream",
     "text": [
      "Parallel Processing:  48%|████▊     | 529/1112 [1:58:40<1:53:26, 11.67s/it]"
     ]
    },
    {
     "name": "stdout",
     "output_type": "stream",
     "text": [
      "Saved: correlation_matrices/Leuven_1_0050687_func_preproc_corr.npy\n"
     ]
    },
    {
     "name": "stderr",
     "output_type": "stream",
     "text": [
      "Parallel Processing:  48%|████▊     | 530/1112 [1:59:12<2:52:35, 17.79s/it]"
     ]
    },
    {
     "name": "stdout",
     "output_type": "stream",
     "text": [
      "Saved: correlation_matrices/Leuven_1_0050688_func_preproc_corr.npy\n"
     ]
    },
    {
     "name": "stderr",
     "output_type": "stream",
     "text": [
      "Parallel Processing:  48%|████▊     | 531/1112 [1:59:23<2:30:36, 15.55s/it]"
     ]
    },
    {
     "name": "stdout",
     "output_type": "stream",
     "text": [
      "Saved: correlation_matrices/Leuven_1_0050689_func_preproc_corr.npy\n"
     ]
    },
    {
     "name": "stderr",
     "output_type": "stream",
     "text": [
      "Parallel Processing:  48%|████▊     | 532/1112 [1:59:27<1:59:17, 12.34s/it]"
     ]
    },
    {
     "name": "stdout",
     "output_type": "stream",
     "text": [
      "Saved: correlation_matrices/Leuven_1_0050690_func_preproc_corr.npy\n"
     ]
    },
    {
     "name": "stderr",
     "output_type": "stream",
     "text": [
      "Parallel Processing:  48%|████▊     | 533/1112 [1:59:33<1:41:27, 10.51s/it]"
     ]
    },
    {
     "name": "stdout",
     "output_type": "stream",
     "text": [
      "Saved: correlation_matrices/Leuven_1_0050691_func_preproc_corr.npy\n"
     ]
    },
    {
     "name": "stderr",
     "output_type": "stream",
     "text": [
      "Parallel Processing:  48%|████▊     | 534/1112 [2:00:08<2:50:57, 17.75s/it]"
     ]
    },
    {
     "name": "stdout",
     "output_type": "stream",
     "text": [
      "Saved: correlation_matrices/Leuven_1_0050692_func_preproc_corr.npy\n"
     ]
    },
    {
     "name": "stderr",
     "output_type": "stream",
     "text": [
      "Parallel Processing:  48%|████▊     | 535/1112 [2:00:23<2:42:35, 16.91s/it]"
     ]
    },
    {
     "name": "stdout",
     "output_type": "stream",
     "text": [
      "Saved: correlation_matrices/Leuven_1_0050693_func_preproc_corr.npy\n",
      "Saved: correlation_matrices/Leuven_1_0050694_func_preproc_corr.npy\n"
     ]
    },
    {
     "name": "stderr",
     "output_type": "stream",
     "text": [
      "Parallel Processing:  48%|████▊     | 537/1112 [2:00:31<1:37:14, 10.15s/it]"
     ]
    },
    {
     "name": "stdout",
     "output_type": "stream",
     "text": [
      "Saved: correlation_matrices/Leuven_1_0050695_func_preproc_corr.npy\n"
     ]
    },
    {
     "name": "stderr",
     "output_type": "stream",
     "text": [
      "Parallel Processing:  48%|████▊     | 538/1112 [2:01:04<2:44:12, 17.16s/it]"
     ]
    },
    {
     "name": "stdout",
     "output_type": "stream",
     "text": [
      "Saved: correlation_matrices/Leuven_1_0050696_func_preproc_corr.npy\n"
     ]
    },
    {
     "name": "stderr",
     "output_type": "stream",
     "text": [
      "Parallel Processing:  48%|████▊     | 539/1112 [2:01:49<4:04:13, 25.57s/it]"
     ]
    },
    {
     "name": "stdout",
     "output_type": "stream",
     "text": [
      "Saved: correlation_matrices/Leuven_1_0050697_func_preproc_corr.npy\n"
     ]
    },
    {
     "name": "stderr",
     "output_type": "stream",
     "text": [
      "Parallel Processing:  49%|████▊     | 540/1112 [2:01:53<3:01:58, 19.09s/it]"
     ]
    },
    {
     "name": "stdout",
     "output_type": "stream",
     "text": [
      "Saved: correlation_matrices/Leuven_1_0050698_func_preproc_corr.npy\n"
     ]
    },
    {
     "name": "stderr",
     "output_type": "stream",
     "text": [
      "Parallel Processing:  49%|████▊     | 541/1112 [2:01:55<2:12:23, 13.91s/it]"
     ]
    },
    {
     "name": "stdout",
     "output_type": "stream",
     "text": [
      "Saved: correlation_matrices/Leuven_1_0050699_func_preproc_corr.npy\n"
     ]
    },
    {
     "name": "stderr",
     "output_type": "stream",
     "text": [
      "Parallel Processing:  49%|████▊     | 542/1112 [2:02:12<2:21:42, 14.92s/it]"
     ]
    },
    {
     "name": "stdout",
     "output_type": "stream",
     "text": [
      "Saved: correlation_matrices/Leuven_1_0050700_func_preproc_corr.npy\n"
     ]
    },
    {
     "name": "stderr",
     "output_type": "stream",
     "text": [
      "Parallel Processing:  49%|████▉     | 543/1112 [2:02:58<3:49:13, 24.17s/it]"
     ]
    },
    {
     "name": "stdout",
     "output_type": "stream",
     "text": [
      "Saved: correlation_matrices/Leuven_1_0050701_func_preproc_corr.npy\n"
     ]
    },
    {
     "name": "stderr",
     "output_type": "stream",
     "text": [
      "Parallel Processing:  49%|████▉     | 544/1112 [2:02:59<2:42:02, 17.12s/it]"
     ]
    },
    {
     "name": "stdout",
     "output_type": "stream",
     "text": [
      "Saved: correlation_matrices/Leuven_1_0050702_func_preproc_corr.npy\n"
     ]
    },
    {
     "name": "stderr",
     "output_type": "stream",
     "text": [
      "Parallel Processing:  49%|████▉     | 545/1112 [2:03:00<1:56:07, 12.29s/it]"
     ]
    },
    {
     "name": "stdout",
     "output_type": "stream",
     "text": [
      "Saved: correlation_matrices/Leuven_1_0050703_func_preproc_corr.npy\n"
     ]
    },
    {
     "name": "stderr",
     "output_type": "stream",
     "text": [
      "Parallel Processing:  49%|████▉     | 546/1112 [2:03:09<1:47:54, 11.44s/it]"
     ]
    },
    {
     "name": "stdout",
     "output_type": "stream",
     "text": [
      "Saved: correlation_matrices/Leuven_1_0050704_func_preproc_corr.npy\n"
     ]
    },
    {
     "name": "stderr",
     "output_type": "stream",
     "text": [
      "Parallel Processing:  49%|████▉     | 547/1112 [2:04:03<3:47:23, 24.15s/it]"
     ]
    },
    {
     "name": "stdout",
     "output_type": "stream",
     "text": [
      "Saved: correlation_matrices/Leuven_1_0050705_func_preproc_corr.npy\n",
      "Saved: correlation_matrices/Leuven_1_0050707_func_preproc_corr.npy\n"
     ]
    },
    {
     "name": "stderr",
     "output_type": "stream",
     "text": [
      "Parallel Processing:  49%|████▉     | 548/1112 [2:04:04<2:41:24, 17.17s/it]"
     ]
    },
    {
     "name": "stdout",
     "output_type": "stream",
     "text": [
      "Saved: correlation_matrices/Leuven_1_0050706_func_preproc_corr.npy\n"
     ]
    },
    {
     "name": "stderr",
     "output_type": "stream",
     "text": [
      "Parallel Processing:  49%|████▉     | 550/1112 [2:04:08<1:34:53, 10.13s/it]"
     ]
    },
    {
     "name": "stdout",
     "output_type": "stream",
     "text": [
      "Saved: correlation_matrices/Leuven_1_0050708_func_preproc_corr.npy\n"
     ]
    },
    {
     "name": "stderr",
     "output_type": "stream",
     "text": [
      "Parallel Processing:  50%|████▉     | 551/1112 [2:05:06<3:26:12, 22.06s/it]"
     ]
    },
    {
     "name": "stdout",
     "output_type": "stream",
     "text": [
      "Saved: correlation_matrices/Leuven_1_0050709_func_preproc_corr.npy\n",
      "Saved: correlation_matrices/Leuven_1_0050711_func_preproc_corr.npy\n"
     ]
    },
    {
     "name": "stderr",
     "output_type": "stream",
     "text": [
      "Parallel Processing:  50%|████▉     | 552/1112 [2:05:08<2:37:20, 16.86s/it]"
     ]
    },
    {
     "name": "stdout",
     "output_type": "stream",
     "text": [
      "Saved: correlation_matrices/Leuven_1_0050710_func_preproc_corr.npy\n"
     ]
    },
    {
     "name": "stderr",
     "output_type": "stream",
     "text": [
      "Parallel Processing:  50%|████▉     | 554/1112 [2:05:10<1:32:35,  9.96s/it]"
     ]
    },
    {
     "name": "stdout",
     "output_type": "stream",
     "text": [
      "Saved: correlation_matrices/Leuven_2_0050722_func_preproc_corr.npy\n",
      "Saved: correlation_matrices/Leuven_2_0050724_func_preproc_corr.npy\n"
     ]
    },
    {
     "name": "stderr",
     "output_type": "stream",
     "text": [
      "Parallel Processing:  50%|████▉     | 555/1112 [2:06:12<3:27:11, 22.32s/it]"
     ]
    },
    {
     "name": "stdout",
     "output_type": "stream",
     "text": [
      "Saved: correlation_matrices/Leuven_2_0050723_func_preproc_corr.npy\n"
     ]
    },
    {
     "name": "stderr",
     "output_type": "stream",
     "text": [
      "Parallel Processing:  50%|█████     | 557/1112 [2:06:13<2:04:18, 13.44s/it]"
     ]
    },
    {
     "name": "stdout",
     "output_type": "stream",
     "text": [
      "Saved: correlation_matrices/Leuven_2_0050725_func_preproc_corr.npy\n"
     ]
    },
    {
     "name": "stderr",
     "output_type": "stream",
     "text": [
      "Parallel Processing:  50%|█████     | 558/1112 [2:06:13<1:37:17, 10.54s/it]"
     ]
    },
    {
     "name": "stdout",
     "output_type": "stream",
     "text": [
      "Saved: correlation_matrices/Leuven_2_0050726_func_preproc_corr.npy\n"
     ]
    },
    {
     "name": "stderr",
     "output_type": "stream",
     "text": [
      "/usr/local/lib/python3.11/dist-packages/numpy/lib/function_base.py:2897: RuntimeWarning: divide by zero encountered in divide\n",
      "  c /= stddev[:, None]\n",
      "/usr/local/lib/python3.11/dist-packages/numpy/lib/function_base.py:2897: RuntimeWarning: invalid value encountered in divide\n",
      "  c /= stddev[:, None]\n",
      "/usr/local/lib/python3.11/dist-packages/numpy/lib/function_base.py:2898: RuntimeWarning: divide by zero encountered in divide\n",
      "  c /= stddev[None, :]\n",
      "/usr/local/lib/python3.11/dist-packages/numpy/lib/function_base.py:2898: RuntimeWarning: invalid value encountered in divide\n",
      "  c /= stddev[None, :]\n",
      "Parallel Processing:  50%|█████     | 559/1112 [2:07:14<3:29:08, 22.69s/it]"
     ]
    },
    {
     "name": "stdout",
     "output_type": "stream",
     "text": [
      "Saved: correlation_matrices/Leuven_2_0050727_func_preproc_corr.npy\n"
     ]
    },
    {
     "name": "stderr",
     "output_type": "stream",
     "text": [
      "Parallel Processing:  50%|█████     | 560/1112 [2:07:15<2:36:24, 17.00s/it]"
     ]
    },
    {
     "name": "stdout",
     "output_type": "stream",
     "text": [
      "Saved: correlation_matrices/Leuven_2_0050728_func_preproc_corr.npy\n",
      "Saved: correlation_matrices/Leuven_2_0050731_func_preproc_corr.npy\n",
      "Error: HTTP Error 404: Not Found\n"
     ]
    },
    {
     "name": "stderr",
     "output_type": "stream",
     "text": [
      "Parallel Processing:  50%|█████     | 561/1112 [2:07:16<1:58:29, 12.90s/it]"
     ]
    },
    {
     "name": "stdout",
     "output_type": "stream",
     "text": [
      "Saved: correlation_matrices/Leuven_2_0050730_func_preproc_corr.npy\n",
      "Saved: correlation_matrices/Leuven_2_0050733_func_preproc_corr.npy\n",
      "Saved: correlation_matrices/Leuven_2_0050736_func_preproc_corr.npy\n"
     ]
    },
    {
     "name": "stderr",
     "output_type": "stream",
     "text": [
      "Parallel Processing:  51%|█████     | 563/1112 [2:08:20<3:12:48, 21.07s/it]"
     ]
    },
    {
     "name": "stdout",
     "output_type": "stream",
     "text": [
      "Saved: correlation_matrices/Leuven_2_0050732_func_preproc_corr.npy\n"
     ]
    },
    {
     "name": "stderr",
     "output_type": "stream",
     "text": [
      "Parallel Processing:  51%|█████     | 566/1112 [2:08:20<1:40:22, 11.03s/it]"
     ]
    },
    {
     "name": "stdout",
     "output_type": "stream",
     "text": [
      "Saved: correlation_matrices/Leuven_2_0050735_func_preproc_corr.npy\n"
     ]
    },
    {
     "name": "stderr",
     "output_type": "stream",
     "text": [
      "Parallel Processing:  51%|█████     | 568/1112 [2:09:21<2:35:02, 17.10s/it]"
     ]
    },
    {
     "name": "stdout",
     "output_type": "stream",
     "text": [
      "Saved: correlation_matrices/Leuven_2_0050737_func_preproc_corr.npy\n",
      "Saved: correlation_matrices/Leuven_2_0050739_func_preproc_corr.npy\n"
     ]
    },
    {
     "name": "stderr",
     "output_type": "stream",
     "text": [
      "Parallel Processing:  51%|█████     | 569/1112 [2:09:23<2:10:05, 14.37s/it]"
     ]
    },
    {
     "name": "stdout",
     "output_type": "stream",
     "text": [
      "Saved: correlation_matrices/Leuven_2_0050738_func_preproc_corr.npy\n"
     ]
    },
    {
     "name": "stderr",
     "output_type": "stream",
     "text": [
      "Parallel Processing:  51%|█████▏    | 571/1112 [2:09:24<1:25:54,  9.53s/it]"
     ]
    },
    {
     "name": "stdout",
     "output_type": "stream",
     "text": [
      "Saved: correlation_matrices/Leuven_2_0050740_func_preproc_corr.npy\n"
     ]
    },
    {
     "name": "stderr",
     "output_type": "stream",
     "text": [
      "Parallel Processing:  51%|█████▏    | 572/1112 [2:10:24<2:54:52, 19.43s/it]"
     ]
    },
    {
     "name": "stdout",
     "output_type": "stream",
     "text": [
      "Saved: correlation_matrices/Leuven_2_0050741_func_preproc_corr.npy\n"
     ]
    },
    {
     "name": "stderr",
     "output_type": "stream",
     "text": [
      "Parallel Processing:  52%|█████▏    | 573/1112 [2:10:25<2:18:49, 15.45s/it]"
     ]
    },
    {
     "name": "stdout",
     "output_type": "stream",
     "text": [
      "Saved: correlation_matrices/Leuven_2_0050742_func_preproc_corr.npy\n",
      "Saved: correlation_matrices/Leuven_2_0050744_func_preproc_corr.npy\n"
     ]
    },
    {
     "name": "stderr",
     "output_type": "stream",
     "text": [
      "Parallel Processing:  52%|█████▏    | 574/1112 [2:10:26<1:48:23, 12.09s/it]"
     ]
    },
    {
     "name": "stdout",
     "output_type": "stream",
     "text": [
      "Saved: correlation_matrices/Leuven_2_0050743_func_preproc_corr.npy\n",
      "Saved: correlation_matrices/Leuven_2_0050746_func_preproc_corr.npy\n",
      "Saved: correlation_matrices/Leuven_2_0050747_func_preproc_corr.npy\n"
     ]
    },
    {
     "name": "stderr",
     "output_type": "stream",
     "text": [
      "Parallel Processing:  52%|█████▏    | 576/1112 [2:11:28<2:56:41, 19.78s/it]"
     ]
    },
    {
     "name": "stdout",
     "output_type": "stream",
     "text": [
      "Saved: correlation_matrices/Leuven_2_0050745_func_preproc_corr.npy\n"
     ]
    },
    {
     "name": "stderr",
     "output_type": "stream",
     "text": [
      "Parallel Processing:  52%|█████▏    | 579/1112 [2:11:30<1:35:37, 10.76s/it]"
     ]
    },
    {
     "name": "stdout",
     "output_type": "stream",
     "text": [
      "Saved: correlation_matrices/Leuven_2_0050748_func_preproc_corr.npy\n",
      "Saved: correlation_matrices/Leuven_2_0050750_func_preproc_corr.npy\n"
     ]
    },
    {
     "name": "stderr",
     "output_type": "stream",
     "text": [
      "Parallel Processing:  52%|█████▏    | 580/1112 [2:13:03<3:47:39, 25.68s/it]"
     ]
    },
    {
     "name": "stdout",
     "output_type": "stream",
     "text": [
      "Saved: correlation_matrices/Leuven_2_0050749_func_preproc_corr.npy\n",
      "Saved: correlation_matrices/Leuven_2_0050752_func_preproc_corr.npy\n"
     ]
    },
    {
     "name": "stderr",
     "output_type": "stream",
     "text": [
      "Parallel Processing:  52%|█████▏    | 582/1112 [2:13:04<2:31:41, 17.17s/it]"
     ]
    },
    {
     "name": "stdout",
     "output_type": "stream",
     "text": [
      "Saved: correlation_matrices/Leuven_2_0050751_func_preproc_corr.npy\n"
     ]
    },
    {
     "name": "stderr",
     "output_type": "stream",
     "text": [
      "Parallel Processing:  53%|█████▎    | 584/1112 [2:14:08<3:13:10, 21.95s/it]"
     ]
    },
    {
     "name": "stdout",
     "output_type": "stream",
     "text": [
      "Saved: correlation_matrices/Leuven_2_0050753_func_preproc_corr.npy\n",
      "Saved: correlation_matrices/Leuven_2_0050756_func_preproc_corr.npy\n"
     ]
    },
    {
     "name": "stderr",
     "output_type": "stream",
     "text": [
      "Parallel Processing:  53%|█████▎    | 585/1112 [2:14:09<2:38:33, 18.05s/it]"
     ]
    },
    {
     "name": "stdout",
     "output_type": "stream",
     "text": [
      "Saved: correlation_matrices/Leuven_2_0050754_func_preproc_corr.npy\n"
     ]
    },
    {
     "name": "stderr",
     "output_type": "stream",
     "text": [
      "Parallel Processing:  53%|█████▎    | 586/1112 [2:14:10<2:05:29, 14.31s/it]"
     ]
    },
    {
     "name": "stdout",
     "output_type": "stream",
     "text": [
      "Saved: correlation_matrices/Leuven_2_0050755_func_preproc_corr.npy\n",
      "Saved: correlation_matrices/KKI_0050772_func_preproc_corr.npy\n",
      "Saved: correlation_matrices/KKI_0050773_func_preproc_corr.npy\n",
      "Saved: correlation_matrices/KKI_0050774_func_preproc_corr.npy\n"
     ]
    },
    {
     "name": "stderr",
     "output_type": "stream",
     "text": [
      "Parallel Processing:  53%|█████▎    | 588/1112 [2:15:04<2:47:43, 19.21s/it]"
     ]
    },
    {
     "name": "stdout",
     "output_type": "stream",
     "text": [
      "Saved: correlation_matrices/Leuven_2_0050757_func_preproc_corr.npy\n"
     ]
    },
    {
     "name": "stderr",
     "output_type": "stream",
     "text": [
      "Parallel Processing:  53%|█████▎    | 592/1112 [2:15:32<1:51:11, 12.83s/it]"
     ]
    },
    {
     "name": "stdout",
     "output_type": "stream",
     "text": [
      "Saved: correlation_matrices/KKI_0050775_func_preproc_corr.npy\n"
     ]
    },
    {
     "name": "stderr",
     "output_type": "stream",
     "text": [
      "Parallel Processing:  53%|█████▎    | 593/1112 [2:15:32<1:34:27, 10.92s/it]"
     ]
    },
    {
     "name": "stdout",
     "output_type": "stream",
     "text": [
      "Saved: correlation_matrices/KKI_0050776_func_preproc_corr.npy\n"
     ]
    },
    {
     "name": "stderr",
     "output_type": "stream",
     "text": [
      "Parallel Processing:  53%|█████▎    | 594/1112 [2:15:33<1:17:39,  9.00s/it]"
     ]
    },
    {
     "name": "stdout",
     "output_type": "stream",
     "text": [
      "Saved: correlation_matrices/KKI_0050777_func_preproc_corr.npy\n"
     ]
    },
    {
     "name": "stderr",
     "output_type": "stream",
     "text": [
      "Parallel Processing:  54%|█████▎    | 595/1112 [2:15:39<1:11:59,  8.35s/it]"
     ]
    },
    {
     "name": "stdout",
     "output_type": "stream",
     "text": [
      "Saved: correlation_matrices/KKI_0050778_func_preproc_corr.npy\n"
     ]
    },
    {
     "name": "stderr",
     "output_type": "stream",
     "text": [
      "Parallel Processing:  54%|█████▎    | 596/1112 [2:16:13<2:03:03, 14.31s/it]"
     ]
    },
    {
     "name": "stdout",
     "output_type": "stream",
     "text": [
      "Saved: correlation_matrices/KKI_0050779_func_preproc_corr.npy\n"
     ]
    },
    {
     "name": "stderr",
     "output_type": "stream",
     "text": [
      "Parallel Processing:  54%|█████▎    | 597/1112 [2:16:14<1:33:24, 10.88s/it]"
     ]
    },
    {
     "name": "stdout",
     "output_type": "stream",
     "text": [
      "Saved: correlation_matrices/KKI_0050780_func_preproc_corr.npy\n"
     ]
    },
    {
     "name": "stderr",
     "output_type": "stream",
     "text": [
      "Parallel Processing:  54%|█████▍    | 598/1112 [2:16:14<1:09:48,  8.15s/it]"
     ]
    },
    {
     "name": "stdout",
     "output_type": "stream",
     "text": [
      "Saved: correlation_matrices/KKI_0050781_func_preproc_corr.npy\n"
     ]
    },
    {
     "name": "stderr",
     "output_type": "stream",
     "text": [
      "Parallel Processing:  54%|█████▍    | 599/1112 [2:16:16<55:52,  6.53s/it]  "
     ]
    },
    {
     "name": "stdout",
     "output_type": "stream",
     "text": [
      "Saved: correlation_matrices/KKI_0050782_func_preproc_corr.npy\n"
     ]
    },
    {
     "name": "stderr",
     "output_type": "stream",
     "text": [
      "Parallel Processing:  54%|█████▍    | 600/1112 [2:16:54<2:11:33, 15.42s/it]"
     ]
    },
    {
     "name": "stdout",
     "output_type": "stream",
     "text": [
      "Saved: correlation_matrices/KKI_0050783_func_preproc_corr.npy\n"
     ]
    },
    {
     "name": "stderr",
     "output_type": "stream",
     "text": [
      "Parallel Processing:  54%|█████▍    | 601/1112 [2:16:55<1:35:50, 11.25s/it]"
     ]
    },
    {
     "name": "stdout",
     "output_type": "stream",
     "text": [
      "Saved: correlation_matrices/KKI_0050784_func_preproc_corr.npy\n"
     ]
    },
    {
     "name": "stderr",
     "output_type": "stream",
     "text": [
      "Parallel Processing:  54%|█████▍    | 602/1112 [2:16:56<1:09:43,  8.20s/it]"
     ]
    },
    {
     "name": "stdout",
     "output_type": "stream",
     "text": [
      "Saved: correlation_matrices/KKI_0050785_func_preproc_corr.npy\n"
     ]
    },
    {
     "name": "stderr",
     "output_type": "stream",
     "text": [
      "Parallel Processing:  54%|█████▍    | 603/1112 [2:16:56<49:59,  5.89s/it]  "
     ]
    },
    {
     "name": "stdout",
     "output_type": "stream",
     "text": [
      "Saved: correlation_matrices/KKI_0050786_func_preproc_corr.npy\n",
      "Saved: correlation_matrices/KKI_0050788_func_preproc_corr.npy\n",
      "Saved: correlation_matrices/KKI_0050790_func_preproc_corr.npy\n",
      "Saved: correlation_matrices/KKI_0050789_func_preproc_corr.npy\n"
     ]
    },
    {
     "name": "stderr",
     "output_type": "stream",
     "text": [
      "Parallel Processing:  54%|█████▍    | 604/1112 [2:17:50<2:50:16, 20.11s/it]"
     ]
    },
    {
     "name": "stdout",
     "output_type": "stream",
     "text": [
      "Saved: correlation_matrices/KKI_0050787_func_preproc_corr.npy\n"
     ]
    },
    {
     "name": "stderr",
     "output_type": "stream",
     "text": [
      "Parallel Processing:  55%|█████▍    | 608/1112 [2:18:16<1:37:04, 11.56s/it]"
     ]
    },
    {
     "name": "stdout",
     "output_type": "stream",
     "text": [
      "Saved: correlation_matrices/KKI_0050791_func_preproc_corr.npy\n"
     ]
    },
    {
     "name": "stderr",
     "output_type": "stream",
     "text": [
      "Parallel Processing:  55%|█████▍    | 609/1112 [2:18:17<1:19:42,  9.51s/it]"
     ]
    },
    {
     "name": "stdout",
     "output_type": "stream",
     "text": [
      "Saved: correlation_matrices/KKI_0050792_func_preproc_corr.npy\n"
     ]
    },
    {
     "name": "stderr",
     "output_type": "stream",
     "text": [
      "Parallel Processing:  55%|█████▍    | 610/1112 [2:18:18<1:04:32,  7.71s/it]"
     ]
    },
    {
     "name": "stdout",
     "output_type": "stream",
     "text": [
      "Saved: correlation_matrices/KKI_0050793_func_preproc_corr.npy\n"
     ]
    },
    {
     "name": "stderr",
     "output_type": "stream",
     "text": [
      "Parallel Processing:  55%|█████▍    | 611/1112 [2:18:20<53:49,  6.45s/it]  "
     ]
    },
    {
     "name": "stdout",
     "output_type": "stream",
     "text": [
      "Saved: correlation_matrices/KKI_0050794_func_preproc_corr.npy\n",
      "Saved: correlation_matrices/KKI_0050796_func_preproc_corr.npy\n"
     ]
    },
    {
     "name": "stderr",
     "output_type": "stream",
     "text": [
      "Parallel Processing:  55%|█████▌    | 612/1112 [2:18:59<2:00:38, 14.48s/it]"
     ]
    },
    {
     "name": "stdout",
     "output_type": "stream",
     "text": [
      "Saved: correlation_matrices/KKI_0050795_func_preproc_corr.npy\n"
     ]
    },
    {
     "name": "stderr",
     "output_type": "stream",
     "text": [
      "Parallel Processing:  55%|█████▌    | 614/1112 [2:18:59<1:11:17,  8.59s/it]"
     ]
    },
    {
     "name": "stdout",
     "output_type": "stream",
     "text": [
      "Saved: correlation_matrices/KKI_0050797_func_preproc_corr.npy\n"
     ]
    },
    {
     "name": "stderr",
     "output_type": "stream",
     "text": [
      "Parallel Processing:  55%|█████▌    | 615/1112 [2:19:00<56:25,  6.81s/it]  "
     ]
    },
    {
     "name": "stdout",
     "output_type": "stream",
     "text": [
      "Saved: correlation_matrices/KKI_0050798_func_preproc_corr.npy\n"
     ]
    },
    {
     "name": "stderr",
     "output_type": "stream",
     "text": [
      "Parallel Processing:  55%|█████▌    | 616/1112 [2:19:40<2:02:59, 14.88s/it]"
     ]
    },
    {
     "name": "stdout",
     "output_type": "stream",
     "text": [
      "Saved: correlation_matrices/KKI_0050799_func_preproc_corr.npy\n"
     ]
    },
    {
     "name": "stderr",
     "output_type": "stream",
     "text": [
      "Parallel Processing:  55%|█████▌    | 617/1112 [2:19:41<1:32:41, 11.24s/it]"
     ]
    },
    {
     "name": "stdout",
     "output_type": "stream",
     "text": [
      "Saved: correlation_matrices/KKI_0050800_func_preproc_corr.npy\n"
     ]
    },
    {
     "name": "stderr",
     "output_type": "stream",
     "text": [
      "Parallel Processing:  56%|█████▌    | 618/1112 [2:19:41<1:08:46,  8.35s/it]"
     ]
    },
    {
     "name": "stdout",
     "output_type": "stream",
     "text": [
      "Saved: correlation_matrices/KKI_0050801_func_preproc_corr.npy\n"
     ]
    },
    {
     "name": "stderr",
     "output_type": "stream",
     "text": [
      "Parallel Processing:  56%|█████▌    | 619/1112 [2:19:41<50:22,  6.13s/it]  "
     ]
    },
    {
     "name": "stdout",
     "output_type": "stream",
     "text": [
      "Error: HTTP Error 404: Not Found\n",
      "Saved: correlation_matrices/KKI_0050802_func_preproc_corr.npy\n",
      "Error: HTTP Error 404: Not Found\n",
      "Error: HTTP Error 404: Not Found\n",
      "Error: HTTP Error 404: Not Found\n",
      "Error: HTTP Error 404: Not Found\n",
      "Error: HTTP Error 404: Not Found\n"
     ]
    },
    {
     "name": "stderr",
     "output_type": "stream",
     "text": [
      "Parallel Processing:  56%|█████▌    | 620/1112 [2:20:21<2:09:19, 15.77s/it]"
     ]
    },
    {
     "name": "stdout",
     "output_type": "stream",
     "text": [
      "Saved: correlation_matrices/KKI_0050803_func_preproc_corr.npy\n",
      "Error: HTTP Error 404: Not Found\n",
      "Saved: correlation_matrices/KKI_0050807_func_preproc_corr.npy\n"
     ]
    },
    {
     "name": "stderr",
     "output_type": "stream",
     "text": [
      "Parallel Processing:  56%|█████▌    | 621/1112 [2:20:23<1:35:27, 11.67s/it]"
     ]
    },
    {
     "name": "stdout",
     "output_type": "stream",
     "text": [
      "Saved: correlation_matrices/KKI_0050804_func_preproc_corr.npy\n"
     ]
    },
    {
     "name": "stderr",
     "output_type": "stream",
     "text": [
      "Parallel Processing:  57%|█████▋    | 629/1112 [2:20:24<22:30,  2.80s/it]  "
     ]
    },
    {
     "name": "stdout",
     "output_type": "stream",
     "text": [
      "Saved: correlation_matrices/KKI_0050812_func_preproc_corr.npy\n",
      "Saved: correlation_matrices/KKI_0050816_func_preproc_corr.npy\n",
      "Saved: correlation_matrices/KKI_0050817_func_preproc_corr.npy\n"
     ]
    },
    {
     "name": "stderr",
     "output_type": "stream",
     "text": [
      "Parallel Processing:  57%|█████▋    | 631/1112 [2:21:01<49:33,  6.18s/it]"
     ]
    },
    {
     "name": "stdout",
     "output_type": "stream",
     "text": [
      "Saved: correlation_matrices/KKI_0050814_func_preproc_corr.npy\n"
     ]
    },
    {
     "name": "stderr",
     "output_type": "stream",
     "text": [
      "Parallel Processing:  57%|█████▋    | 632/1112 [2:21:01<43:11,  5.40s/it]"
     ]
    },
    {
     "name": "stdout",
     "output_type": "stream",
     "text": [
      "Saved: correlation_matrices/KKI_0050815_func_preproc_corr.npy\n"
     ]
    },
    {
     "name": "stderr",
     "output_type": "stream",
     "text": [
      "Parallel Processing:  57%|█████▋    | 635/1112 [2:21:41<1:05:54,  8.29s/it]"
     ]
    },
    {
     "name": "stdout",
     "output_type": "stream",
     "text": [
      "Saved: correlation_matrices/KKI_0050818_func_preproc_corr.npy\n",
      "Saved: correlation_matrices/KKI_0050820_func_preproc_corr.npy\n",
      "Saved: correlation_matrices/KKI_0050819_func_preproc_corr.npy\n"
     ]
    },
    {
     "name": "stderr",
     "output_type": "stream",
     "text": [
      "Parallel Processing:  57%|█████▋    | 638/1112 [2:21:43<40:41,  5.15s/it]"
     ]
    },
    {
     "name": "stdout",
     "output_type": "stream",
     "text": [
      "Saved: correlation_matrices/KKI_0050821_func_preproc_corr.npy\n"
     ]
    },
    {
     "name": "stderr",
     "output_type": "stream",
     "text": [
      "Parallel Processing:  57%|█████▋    | 639/1112 [2:22:41<1:53:56, 14.45s/it]"
     ]
    },
    {
     "name": "stdout",
     "output_type": "stream",
     "text": [
      "Saved: correlation_matrices/KKI_0050822_func_preproc_corr.npy\n"
     ]
    },
    {
     "name": "stderr",
     "output_type": "stream",
     "text": [
      "Parallel Processing:  58%|█████▊    | 640/1112 [2:22:45<1:36:29, 12.27s/it]"
     ]
    },
    {
     "name": "stdout",
     "output_type": "stream",
     "text": [
      "Saved: correlation_matrices/KKI_0050823_func_preproc_corr.npy\n"
     ]
    },
    {
     "name": "stderr",
     "output_type": "stream",
     "text": [
      "Parallel Processing:  58%|█████▊    | 641/1112 [2:22:45<1:15:18,  9.59s/it]"
     ]
    },
    {
     "name": "stdout",
     "output_type": "stream",
     "text": [
      "Saved: correlation_matrices/KKI_0050824_func_preproc_corr.npy\n"
     ]
    },
    {
     "name": "stderr",
     "output_type": "stream",
     "text": [
      "Parallel Processing:  58%|█████▊    | 642/1112 [2:22:45<57:47,  7.38s/it]  "
     ]
    },
    {
     "name": "stdout",
     "output_type": "stream",
     "text": [
      "Error: HTTP Error 404: Not Found\n",
      "Saved: correlation_matrices/KKI_0050825_func_preproc_corr.npy\n"
     ]
    },
    {
     "name": "stderr",
     "output_type": "stream",
     "text": [
      "Parallel Processing:  58%|█████▊    | 643/1112 [2:23:25<2:01:53, 15.59s/it]"
     ]
    },
    {
     "name": "stdout",
     "output_type": "stream",
     "text": [
      "Saved: correlation_matrices/KKI_0050826_func_preproc_corr.npy\n",
      "Saved: correlation_matrices/NYU_0050954_func_preproc_corr.npy\n"
     ]
    },
    {
     "name": "stderr",
     "output_type": "stream",
     "text": [
      "Parallel Processing:  58%|█████▊    | 644/1112 [2:23:35<1:49:47, 14.08s/it]"
     ]
    },
    {
     "name": "stdout",
     "output_type": "stream",
     "text": [
      "Saved: correlation_matrices/NYU_0050952_func_preproc_corr.npy\n"
     ]
    },
    {
     "name": "stderr",
     "output_type": "stream",
     "text": [
      "Parallel Processing:  58%|█████▊    | 647/1112 [2:23:36<51:50,  6.69s/it]  "
     ]
    },
    {
     "name": "stdout",
     "output_type": "stream",
     "text": [
      "Saved: correlation_matrices/NYU_0050955_func_preproc_corr.npy\n"
     ]
    },
    {
     "name": "stderr",
     "output_type": "stream",
     "text": [
      "Parallel Processing:  58%|█████▊    | 648/1112 [2:24:05<1:27:56, 11.37s/it]"
     ]
    },
    {
     "name": "stdout",
     "output_type": "stream",
     "text": [
      "Saved: correlation_matrices/NYU_0050956_func_preproc_corr.npy\n"
     ]
    },
    {
     "name": "stderr",
     "output_type": "stream",
     "text": [
      "Parallel Processing:  58%|█████▊    | 649/1112 [2:24:19<1:31:48, 11.90s/it]"
     ]
    },
    {
     "name": "stdout",
     "output_type": "stream",
     "text": [
      "Saved: correlation_matrices/NYU_0050957_func_preproc_corr.npy\n",
      "Saved: correlation_matrices/NYU_0050959_func_preproc_corr.npy\n"
     ]
    },
    {
     "name": "stderr",
     "output_type": "stream",
     "text": [
      "Parallel Processing:  58%|█████▊    | 650/1112 [2:24:21<1:12:52,  9.46s/it]"
     ]
    },
    {
     "name": "stdout",
     "output_type": "stream",
     "text": [
      "Saved: correlation_matrices/NYU_0050958_func_preproc_corr.npy\n"
     ]
    },
    {
     "name": "stderr",
     "output_type": "stream",
     "text": [
      "Parallel Processing:  59%|█████▊    | 652/1112 [2:24:42<1:15:53,  9.90s/it]"
     ]
    },
    {
     "name": "stdout",
     "output_type": "stream",
     "text": [
      "Saved: correlation_matrices/NYU_0050960_func_preproc_corr.npy\n"
     ]
    },
    {
     "name": "stderr",
     "output_type": "stream",
     "text": [
      "Parallel Processing:  59%|█████▊    | 653/1112 [2:25:05<1:38:41, 12.90s/it]"
     ]
    },
    {
     "name": "stdout",
     "output_type": "stream",
     "text": [
      "Saved: correlation_matrices/NYU_0050961_func_preproc_corr.npy\n"
     ]
    },
    {
     "name": "stderr",
     "output_type": "stream",
     "text": [
      "Parallel Processing:  59%|█████▉    | 654/1112 [2:25:06<1:16:45, 10.06s/it]"
     ]
    },
    {
     "name": "stdout",
     "output_type": "stream",
     "text": [
      "Saved: correlation_matrices/NYU_0050962_func_preproc_corr.npy\n"
     ]
    },
    {
     "name": "stderr",
     "output_type": "stream",
     "text": [
      "Parallel Processing:  59%|█████▉    | 655/1112 [2:25:07<58:19,  7.66s/it]  "
     ]
    },
    {
     "name": "stdout",
     "output_type": "stream",
     "text": [
      "Saved: correlation_matrices/NYU_0050964_func_preproc_corr.npy\n"
     ]
    },
    {
     "name": "stderr",
     "output_type": "stream",
     "text": [
      "Parallel Processing:  59%|█████▉    | 656/1112 [2:25:21<1:11:36,  9.42s/it]"
     ]
    },
    {
     "name": "stdout",
     "output_type": "stream",
     "text": [
      "Saved: correlation_matrices/NYU_0050965_func_preproc_corr.npy\n"
     ]
    },
    {
     "name": "stderr",
     "output_type": "stream",
     "text": [
      "Parallel Processing:  59%|█████▉    | 657/1112 [2:25:50<1:51:30, 14.70s/it]"
     ]
    },
    {
     "name": "stdout",
     "output_type": "stream",
     "text": [
      "Saved: correlation_matrices/NYU_0050966_func_preproc_corr.npy\n"
     ]
    },
    {
     "name": "stderr",
     "output_type": "stream",
     "text": [
      "Parallel Processing:  59%|█████▉    | 658/1112 [2:25:52<1:24:56, 11.23s/it]"
     ]
    },
    {
     "name": "stdout",
     "output_type": "stream",
     "text": [
      "Saved: correlation_matrices/NYU_0050967_func_preproc_corr.npy\n",
      "Error: HTTP Error 404: Not Found\n"
     ]
    },
    {
     "name": "stderr",
     "output_type": "stream",
     "text": [
      "Parallel Processing:  59%|█████▉    | 659/1112 [2:25:53<1:02:20,  8.26s/it]"
     ]
    },
    {
     "name": "stdout",
     "output_type": "stream",
     "text": [
      "Saved: correlation_matrices/NYU_0050968_func_preproc_corr.npy\n"
     ]
    },
    {
     "name": "stderr",
     "output_type": "stream",
     "text": [
      "Parallel Processing:  59%|█████▉    | 660/1112 [2:26:02<1:04:07,  8.51s/it]"
     ]
    },
    {
     "name": "stdout",
     "output_type": "stream",
     "text": [
      "Saved: correlation_matrices/NYU_0050969_func_preproc_corr.npy\n"
     ]
    },
    {
     "name": "stderr",
     "output_type": "stream",
     "text": [
      "Parallel Processing:  59%|█████▉    | 661/1112 [2:26:36<2:00:15, 16.00s/it]"
     ]
    },
    {
     "name": "stdout",
     "output_type": "stream",
     "text": [
      "Saved: correlation_matrices/NYU_0050970_func_preproc_corr.npy\n",
      "Error: HTTP Error 404: Not Found\n"
     ]
    },
    {
     "name": "stderr",
     "output_type": "stream",
     "text": [
      "Parallel Processing:  60%|█████▉    | 663/1112 [2:26:38<1:07:41,  9.05s/it]"
     ]
    },
    {
     "name": "stdout",
     "output_type": "stream",
     "text": [
      "Saved: correlation_matrices/NYU_0050972_func_preproc_corr.npy\n"
     ]
    },
    {
     "name": "stderr",
     "output_type": "stream",
     "text": [
      "Parallel Processing:  60%|█████▉    | 664/1112 [2:26:39<52:17,  7.00s/it]  "
     ]
    },
    {
     "name": "stdout",
     "output_type": "stream",
     "text": [
      "Saved: correlation_matrices/NYU_0050973_func_preproc_corr.npy\n"
     ]
    },
    {
     "name": "stderr",
     "output_type": "stream",
     "text": [
      "Parallel Processing:  60%|█████▉    | 665/1112 [2:26:42<44:31,  5.98s/it]"
     ]
    },
    {
     "name": "stdout",
     "output_type": "stream",
     "text": [
      "Saved: correlation_matrices/NYU_0050974_func_preproc_corr.npy\n",
      "Saved: correlation_matrices/NYU_0050977_func_preproc_corr.npy\n",
      "Error: HTTP Error 404: Not Found\n",
      "Saved: correlation_matrices/NYU_0050978_func_preproc_corr.npy\n",
      "Saved: correlation_matrices/NYU_0050979_func_preproc_corr.npy\n"
     ]
    },
    {
     "name": "stderr",
     "output_type": "stream",
     "text": [
      "Parallel Processing:  60%|█████▉    | 667/1112 [2:27:37<1:52:40, 15.19s/it]"
     ]
    },
    {
     "name": "stdout",
     "output_type": "stream",
     "text": [
      "Saved: correlation_matrices/NYU_0050976_func_preproc_corr.npy\n"
     ]
    },
    {
     "name": "stderr",
     "output_type": "stream",
     "text": [
      "Parallel Processing:  60%|██████    | 672/1112 [2:28:04<1:08:39,  9.36s/it]"
     ]
    },
    {
     "name": "stdout",
     "output_type": "stream",
     "text": [
      "Saved: correlation_matrices/NYU_0050981_func_preproc_corr.npy\n"
     ]
    },
    {
     "name": "stderr",
     "output_type": "stream",
     "text": [
      "Parallel Processing:  61%|██████    | 673/1112 [2:28:05<58:50,  8.04s/it]  "
     ]
    },
    {
     "name": "stdout",
     "output_type": "stream",
     "text": [
      "Saved: correlation_matrices/NYU_0050982_func_preproc_corr.npy\n"
     ]
    },
    {
     "name": "stderr",
     "output_type": "stream",
     "text": [
      "Parallel Processing:  61%|██████    | 674/1112 [2:28:06<50:15,  6.89s/it]"
     ]
    },
    {
     "name": "stdout",
     "output_type": "stream",
     "text": [
      "Saved: correlation_matrices/NYU_0050983_func_preproc_corr.npy\n"
     ]
    },
    {
     "name": "stderr",
     "output_type": "stream",
     "text": [
      "Parallel Processing:  61%|██████    | 675/1112 [2:28:15<52:39,  7.23s/it]"
     ]
    },
    {
     "name": "stdout",
     "output_type": "stream",
     "text": [
      "Saved: correlation_matrices/NYU_0050984_func_preproc_corr.npy\n"
     ]
    },
    {
     "name": "stderr",
     "output_type": "stream",
     "text": [
      "Parallel Processing:  61%|██████    | 676/1112 [2:28:51<1:38:11, 13.51s/it]"
     ]
    },
    {
     "name": "stdout",
     "output_type": "stream",
     "text": [
      "Saved: correlation_matrices/NYU_0050985_func_preproc_corr.npy\n"
     ]
    },
    {
     "name": "stderr",
     "output_type": "stream",
     "text": [
      "Parallel Processing:  61%|██████    | 677/1112 [2:28:51<1:15:17, 10.39s/it]"
     ]
    },
    {
     "name": "stdout",
     "output_type": "stream",
     "text": [
      "Saved: correlation_matrices/NYU_0050986_func_preproc_corr.npy\n"
     ]
    },
    {
     "name": "stderr",
     "output_type": "stream",
     "text": [
      "Parallel Processing:  61%|██████    | 678/1112 [2:28:52<58:37,  8.11s/it]  "
     ]
    },
    {
     "name": "stdout",
     "output_type": "stream",
     "text": [
      "Saved: correlation_matrices/NYU_0050987_func_preproc_corr.npy\n"
     ]
    },
    {
     "name": "stderr",
     "output_type": "stream",
     "text": [
      "Parallel Processing:  61%|██████    | 679/1112 [2:28:56<49:47,  6.90s/it]"
     ]
    },
    {
     "name": "stdout",
     "output_type": "stream",
     "text": [
      "Saved: correlation_matrices/NYU_0050988_func_preproc_corr.npy\n",
      "Saved: correlation_matrices/NYU_0050990_func_preproc_corr.npy\n"
     ]
    },
    {
     "name": "stderr",
     "output_type": "stream",
     "text": [
      "Parallel Processing:  61%|██████    | 680/1112 [2:29:38<1:59:10, 16.55s/it]"
     ]
    },
    {
     "name": "stdout",
     "output_type": "stream",
     "text": [
      "Saved: correlation_matrices/NYU_0050989_func_preproc_corr.npy\n"
     ]
    },
    {
     "name": "stderr",
     "output_type": "stream",
     "text": [
      "Parallel Processing:  61%|██████▏   | 682/1112 [2:29:39<1:08:19,  9.53s/it]"
     ]
    },
    {
     "name": "stdout",
     "output_type": "stream",
     "text": [
      "Saved: correlation_matrices/NYU_0050991_func_preproc_corr.npy\n"
     ]
    },
    {
     "name": "stderr",
     "output_type": "stream",
     "text": [
      "Parallel Processing:  61%|██████▏   | 683/1112 [2:29:41<54:15,  7.59s/it]  "
     ]
    },
    {
     "name": "stdout",
     "output_type": "stream",
     "text": [
      "Saved: correlation_matrices/NYU_0050992_func_preproc_corr.npy\n",
      "Saved: correlation_matrices/NYU_0050994_func_preproc_corr.npy\n"
     ]
    },
    {
     "name": "stderr",
     "output_type": "stream",
     "text": [
      "Parallel Processing:  62%|██████▏   | 684/1112 [2:30:25<2:00:23, 16.88s/it]"
     ]
    },
    {
     "name": "stdout",
     "output_type": "stream",
     "text": [
      "Saved: correlation_matrices/NYU_0050993_func_preproc_corr.npy\n"
     ]
    },
    {
     "name": "stderr",
     "output_type": "stream",
     "text": [
      "Parallel Processing:  62%|██████▏   | 686/1112 [2:30:25<1:09:45,  9.83s/it]"
     ]
    },
    {
     "name": "stdout",
     "output_type": "stream",
     "text": [
      "Saved: correlation_matrices/NYU_0050995_func_preproc_corr.npy\n"
     ]
    },
    {
     "name": "stderr",
     "output_type": "stream",
     "text": [
      "Parallel Processing:  62%|██████▏   | 687/1112 [2:30:26<54:29,  7.69s/it]  "
     ]
    },
    {
     "name": "stdout",
     "output_type": "stream",
     "text": [
      "Saved: correlation_matrices/NYU_0050996_func_preproc_corr.npy\n"
     ]
    },
    {
     "name": "stderr",
     "output_type": "stream",
     "text": [
      "Parallel Processing:  62%|██████▏   | 688/1112 [2:31:09<1:56:30, 16.49s/it]"
     ]
    },
    {
     "name": "stdout",
     "output_type": "stream",
     "text": [
      "Saved: correlation_matrices/NYU_0050997_func_preproc_corr.npy\n",
      "Saved: correlation_matrices/NYU_0051000_func_preproc_corr.npy\n",
      "Saved: correlation_matrices/NYU_0050999_func_preproc_corr.npy\n"
     ]
    },
    {
     "name": "stderr",
     "output_type": "stream",
     "text": [
      "Parallel Processing:  62%|██████▏   | 689/1112 [2:31:12<1:32:36, 13.14s/it]"
     ]
    },
    {
     "name": "stdout",
     "output_type": "stream",
     "text": [
      "Saved: correlation_matrices/NYU_0050998_func_preproc_corr.npy\n"
     ]
    },
    {
     "name": "stderr",
     "output_type": "stream",
     "text": [
      "Parallel Processing:  62%|██████▏   | 692/1112 [2:31:55<1:35:56, 13.71s/it]"
     ]
    },
    {
     "name": "stdout",
     "output_type": "stream",
     "text": [
      "Saved: correlation_matrices/NYU_0051001_func_preproc_corr.npy\n"
     ]
    },
    {
     "name": "stderr",
     "output_type": "stream",
     "text": [
      "Parallel Processing:  62%|██████▏   | 693/1112 [2:31:58<1:20:03, 11.46s/it]"
     ]
    },
    {
     "name": "stdout",
     "output_type": "stream",
     "text": [
      "Saved: correlation_matrices/NYU_0051002_func_preproc_corr.npy\n"
     ]
    },
    {
     "name": "stderr",
     "output_type": "stream",
     "text": [
      "Parallel Processing:  62%|██████▏   | 694/1112 [2:31:58<1:03:24,  9.10s/it]"
     ]
    },
    {
     "name": "stdout",
     "output_type": "stream",
     "text": [
      "Saved: correlation_matrices/NYU_0051003_func_preproc_corr.npy\n"
     ]
    },
    {
     "name": "stderr",
     "output_type": "stream",
     "text": [
      "Parallel Processing:  62%|██████▎   | 695/1112 [2:31:59<49:06,  7.07s/it]  "
     ]
    },
    {
     "name": "stdout",
     "output_type": "stream",
     "text": [
      "Saved: correlation_matrices/NYU_0051006_func_preproc_corr.npy\n"
     ]
    },
    {
     "name": "stderr",
     "output_type": "stream",
     "text": [
      "Parallel Processing:  63%|██████▎   | 696/1112 [2:32:42<1:51:58, 16.15s/it]"
     ]
    },
    {
     "name": "stdout",
     "output_type": "stream",
     "text": [
      "Saved: correlation_matrices/NYU_0051007_func_preproc_corr.npy\n"
     ]
    },
    {
     "name": "stderr",
     "output_type": "stream",
     "text": [
      "Parallel Processing:  63%|██████▎   | 697/1112 [2:32:44<1:26:25, 12.49s/it]"
     ]
    },
    {
     "name": "stdout",
     "output_type": "stream",
     "text": [
      "Saved: correlation_matrices/NYU_0051008_func_preproc_corr.npy\n",
      "Saved: correlation_matrices/NYU_0051010_func_preproc_corr.npy\n"
     ]
    },
    {
     "name": "stderr",
     "output_type": "stream",
     "text": [
      "Parallel Processing:  63%|██████▎   | 698/1112 [2:32:49<1:11:02, 10.30s/it]"
     ]
    },
    {
     "name": "stdout",
     "output_type": "stream",
     "text": [
      "Saved: correlation_matrices/NYU_0051009_func_preproc_corr.npy\n"
     ]
    },
    {
     "name": "stderr",
     "output_type": "stream",
     "text": [
      "Parallel Processing:  63%|██████▎   | 700/1112 [2:33:59<2:25:52, 21.24s/it]"
     ]
    },
    {
     "name": "stdout",
     "output_type": "stream",
     "text": [
      "Saved: correlation_matrices/NYU_0051011_func_preproc_corr.npy\n"
     ]
    },
    {
     "name": "stderr",
     "output_type": "stream",
     "text": [
      "Parallel Processing:  63%|██████▎   | 701/1112 [2:34:01<1:54:43, 16.75s/it]"
     ]
    },
    {
     "name": "stdout",
     "output_type": "stream",
     "text": [
      "Saved: correlation_matrices/NYU_0051012_func_preproc_corr.npy\n",
      "Saved: correlation_matrices/NYU_0051013_func_preproc_corr.npy\n"
     ]
    },
    {
     "name": "stderr",
     "output_type": "stream",
     "text": [
      "Parallel Processing:  63%|██████▎   | 703/1112 [2:34:02<1:04:23,  9.45s/it]"
     ]
    },
    {
     "name": "stdout",
     "output_type": "stream",
     "text": [
      "Saved: correlation_matrices/NYU_0051014_func_preproc_corr.npy\n"
     ]
    },
    {
     "name": "stderr",
     "output_type": "stream",
     "text": [
      "Parallel Processing:  63%|██████▎   | 704/1112 [2:34:46<2:08:50, 18.95s/it]"
     ]
    },
    {
     "name": "stdout",
     "output_type": "stream",
     "text": [
      "Saved: correlation_matrices/NYU_0051015_func_preproc_corr.npy\n",
      "Saved: correlation_matrices/NYU_0051017_func_preproc_corr.npy\n",
      "Saved: correlation_matrices/NYU_0051018_func_preproc_corr.npy\n"
     ]
    },
    {
     "name": "stderr",
     "output_type": "stream",
     "text": [
      "Parallel Processing:  63%|██████▎   | 705/1112 [2:34:50<1:38:26, 14.51s/it]"
     ]
    },
    {
     "name": "stdout",
     "output_type": "stream",
     "text": [
      "Saved: correlation_matrices/NYU_0051016_func_preproc_corr.npy\n"
     ]
    },
    {
     "name": "stderr",
     "output_type": "stream",
     "text": [
      "Parallel Processing:  64%|██████▎   | 708/1112 [2:35:33<1:37:40, 14.51s/it]"
     ]
    },
    {
     "name": "stdout",
     "output_type": "stream",
     "text": [
      "Saved: correlation_matrices/NYU_0051019_func_preproc_corr.npy\n"
     ]
    },
    {
     "name": "stderr",
     "output_type": "stream",
     "text": [
      "Parallel Processing:  64%|██████▍   | 709/1112 [2:35:35<1:19:49, 11.88s/it]"
     ]
    },
    {
     "name": "stdout",
     "output_type": "stream",
     "text": [
      "Saved: correlation_matrices/NYU_0051020_func_preproc_corr.npy\n"
     ]
    },
    {
     "name": "stderr",
     "output_type": "stream",
     "text": [
      "Parallel Processing:  64%|██████▍   | 710/1112 [2:35:35<1:02:14,  9.29s/it]"
     ]
    },
    {
     "name": "stdout",
     "output_type": "stream",
     "text": [
      "Saved: correlation_matrices/NYU_0051021_func_preproc_corr.npy\n",
      "Saved: correlation_matrices/NYU_0051023_func_preproc_corr.npy\n"
     ]
    },
    {
     "name": "stderr",
     "output_type": "stream",
     "text": [
      "Parallel Processing:  64%|██████▍   | 712/1112 [2:36:21<1:53:13, 16.98s/it]"
     ]
    },
    {
     "name": "stdout",
     "output_type": "stream",
     "text": [
      "Saved: correlation_matrices/NYU_0051024_func_preproc_corr.npy\n"
     ]
    },
    {
     "name": "stderr",
     "output_type": "stream",
     "text": [
      "Parallel Processing:  64%|██████▍   | 713/1112 [2:36:21<1:23:27, 12.55s/it]"
     ]
    },
    {
     "name": "stdout",
     "output_type": "stream",
     "text": [
      "Saved: correlation_matrices/NYU_0051025_func_preproc_corr.npy\n"
     ]
    },
    {
     "name": "stderr",
     "output_type": "stream",
     "text": [
      "Parallel Processing:  64%|██████▍   | 714/1112 [2:36:22<1:01:41,  9.30s/it]"
     ]
    },
    {
     "name": "stdout",
     "output_type": "stream",
     "text": [
      "Saved: correlation_matrices/NYU_0051026_func_preproc_corr.npy\n"
     ]
    },
    {
     "name": "stderr",
     "output_type": "stream",
     "text": [
      "Parallel Processing:  64%|██████▍   | 715/1112 [2:36:23<44:55,  6.79s/it]  "
     ]
    },
    {
     "name": "stdout",
     "output_type": "stream",
     "text": [
      "Saved: correlation_matrices/NYU_0051027_func_preproc_corr.npy\n"
     ]
    },
    {
     "name": "stderr",
     "output_type": "stream",
     "text": [
      "Parallel Processing:  64%|██████▍   | 716/1112 [2:37:07<1:55:58, 17.57s/it]"
     ]
    },
    {
     "name": "stdout",
     "output_type": "stream",
     "text": [
      "Saved: correlation_matrices/NYU_0051028_func_preproc_corr.npy\n"
     ]
    },
    {
     "name": "stderr",
     "output_type": "stream",
     "text": [
      "Parallel Processing:  64%|██████▍   | 717/1112 [2:37:08<1:22:58, 12.60s/it]"
     ]
    },
    {
     "name": "stdout",
     "output_type": "stream",
     "text": [
      "Saved: correlation_matrices/NYU_0051029_func_preproc_corr.npy\n"
     ]
    },
    {
     "name": "stderr",
     "output_type": "stream",
     "text": [
      "Parallel Processing:  65%|██████▍   | 718/1112 [2:37:09<1:01:55,  9.43s/it]"
     ]
    },
    {
     "name": "stdout",
     "output_type": "stream",
     "text": [
      "Saved: correlation_matrices/NYU_0051030_func_preproc_corr.npy\n"
     ]
    },
    {
     "name": "stderr",
     "output_type": "stream",
     "text": [
      "Parallel Processing:  65%|██████▍   | 719/1112 [2:37:10<44:20,  6.77s/it]  "
     ]
    },
    {
     "name": "stdout",
     "output_type": "stream",
     "text": [
      "Saved: correlation_matrices/NYU_0051032_func_preproc_corr.npy\n"
     ]
    },
    {
     "name": "stderr",
     "output_type": "stream",
     "text": [
      "Parallel Processing:  65%|██████▍   | 720/1112 [2:37:54<1:57:05, 17.92s/it]"
     ]
    },
    {
     "name": "stdout",
     "output_type": "stream",
     "text": [
      "Saved: correlation_matrices/NYU_0051033_func_preproc_corr.npy\n",
      "Saved: correlation_matrices/NYU_0051036_func_preproc_corr.npy\n"
     ]
    },
    {
     "name": "stderr",
     "output_type": "stream",
     "text": [
      "Parallel Processing:  65%|██████▍   | 721/1112 [2:37:56<1:26:31, 13.28s/it]"
     ]
    },
    {
     "name": "stdout",
     "output_type": "stream",
     "text": [
      "Saved: correlation_matrices/NYU_0051034_func_preproc_corr.npy\n"
     ]
    },
    {
     "name": "stderr",
     "output_type": "stream",
     "text": [
      "Parallel Processing:  65%|██████▍   | 722/1112 [2:37:57<1:01:47,  9.51s/it]"
     ]
    },
    {
     "name": "stdout",
     "output_type": "stream",
     "text": [
      "Saved: correlation_matrices/NYU_0051035_func_preproc_corr.npy\n"
     ]
    },
    {
     "name": "stderr",
     "output_type": "stream",
     "text": [
      "Parallel Processing:  65%|██████▌   | 724/1112 [2:38:43<1:41:13, 15.65s/it]"
     ]
    },
    {
     "name": "stdout",
     "output_type": "stream",
     "text": [
      "Saved: correlation_matrices/NYU_0051038_func_preproc_corr.npy\n",
      "Saved: correlation_matrices/NYU_0051040_func_preproc_corr.npy\n",
      "Saved: correlation_matrices/NYU_0051041_func_preproc_corr.npy\n"
     ]
    },
    {
     "name": "stderr",
     "output_type": "stream",
     "text": [
      "Parallel Processing:  65%|██████▌   | 725/1112 [2:38:45<1:19:51, 12.38s/it]"
     ]
    },
    {
     "name": "stdout",
     "output_type": "stream",
     "text": [
      "Saved: correlation_matrices/NYU_0051039_func_preproc_corr.npy\n"
     ]
    },
    {
     "name": "stderr",
     "output_type": "stream",
     "text": [
      "Parallel Processing:  65%|██████▌   | 728/1112 [2:39:31<1:29:12, 13.94s/it]"
     ]
    },
    {
     "name": "stdout",
     "output_type": "stream",
     "text": [
      "Saved: correlation_matrices/NYU_0051042_func_preproc_corr.npy\n"
     ]
    },
    {
     "name": "stderr",
     "output_type": "stream",
     "text": [
      "Parallel Processing:  66%|██████▌   | 729/1112 [2:39:32<1:12:31, 11.36s/it]"
     ]
    },
    {
     "name": "stdout",
     "output_type": "stream",
     "text": [
      "Saved: correlation_matrices/NYU_0051044_func_preproc_corr.npy\n",
      "Saved: correlation_matrices/NYU_0051046_func_preproc_corr.npy\n"
     ]
    },
    {
     "name": "stderr",
     "output_type": "stream",
     "text": [
      "Parallel Processing:  66%|██████▌   | 730/1112 [2:39:33<57:45,  9.07s/it]  "
     ]
    },
    {
     "name": "stdout",
     "output_type": "stream",
     "text": [
      "Saved: correlation_matrices/NYU_0051045_func_preproc_corr.npy\n"
     ]
    },
    {
     "name": "stderr",
     "output_type": "stream",
     "text": [
      "Parallel Processing:  66%|██████▌   | 732/1112 [2:40:20<1:32:22, 14.59s/it]"
     ]
    },
    {
     "name": "stdout",
     "output_type": "stream",
     "text": [
      "Saved: correlation_matrices/NYU_0051047_func_preproc_corr.npy\n",
      "Saved: correlation_matrices/NYU_0051050_func_preproc_corr.npy\n",
      "Saved: correlation_matrices/NYU_0051048_func_preproc_corr.npy\n"
     ]
    },
    {
     "name": "stderr",
     "output_type": "stream",
     "text": [
      "Parallel Processing:  66%|██████▌   | 734/1112 [2:40:21<56:40,  9.00s/it]  "
     ]
    },
    {
     "name": "stdout",
     "output_type": "stream",
     "text": [
      "Saved: correlation_matrices/NYU_0051049_func_preproc_corr.npy\n"
     ]
    },
    {
     "name": "stderr",
     "output_type": "stream",
     "text": [
      "Parallel Processing:  66%|██████▌   | 736/1112 [2:41:07<1:31:56, 14.67s/it]"
     ]
    },
    {
     "name": "stdout",
     "output_type": "stream",
     "text": [
      "Saved: correlation_matrices/NYU_0051051_func_preproc_corr.npy\n"
     ]
    },
    {
     "name": "stderr",
     "output_type": "stream",
     "text": [
      "Parallel Processing:  66%|██████▋   | 737/1112 [2:41:08<1:12:03, 11.53s/it]"
     ]
    },
    {
     "name": "stdout",
     "output_type": "stream",
     "text": [
      "Saved: correlation_matrices/NYU_0051052_func_preproc_corr.npy\n"
     ]
    },
    {
     "name": "stderr",
     "output_type": "stream",
     "text": [
      "Parallel Processing:  66%|██████▋   | 738/1112 [2:41:08<54:58,  8.82s/it]  "
     ]
    },
    {
     "name": "stdout",
     "output_type": "stream",
     "text": [
      "Saved: correlation_matrices/NYU_0051053_func_preproc_corr.npy\n"
     ]
    },
    {
     "name": "stderr",
     "output_type": "stream",
     "text": [
      "Parallel Processing:  66%|██████▋   | 739/1112 [2:41:09<41:21,  6.65s/it]"
     ]
    },
    {
     "name": "stdout",
     "output_type": "stream",
     "text": [
      "Saved: correlation_matrices/NYU_0051054_func_preproc_corr.npy\n"
     ]
    },
    {
     "name": "stderr",
     "output_type": "stream",
     "text": [
      "Parallel Processing:  67%|██████▋   | 740/1112 [2:41:55<1:47:12, 17.29s/it]"
     ]
    },
    {
     "name": "stdout",
     "output_type": "stream",
     "text": [
      "Saved: correlation_matrices/NYU_0051055_func_preproc_corr.npy\n",
      "Saved: correlation_matrices/NYU_0051058_func_preproc_corr.npy\n",
      "Saved: correlation_matrices/NYU_0051057_func_preproc_corr.npy\n"
     ]
    },
    {
     "name": "stderr",
     "output_type": "stream",
     "text": [
      "Parallel Processing:  67%|██████▋   | 741/1112 [2:41:56<1:18:49, 12.75s/it]"
     ]
    },
    {
     "name": "stdout",
     "output_type": "stream",
     "text": [
      "Saved: correlation_matrices/NYU_0051056_func_preproc_corr.npy\n"
     ]
    },
    {
     "name": "stderr",
     "output_type": "stream",
     "text": [
      "Parallel Processing:  67%|██████▋   | 744/1112 [2:42:42<1:27:07, 14.21s/it]"
     ]
    },
    {
     "name": "stdout",
     "output_type": "stream",
     "text": [
      "Saved: correlation_matrices/NYU_0051059_func_preproc_corr.npy\n",
      "Saved: correlation_matrices/NYU_0051060_func_preproc_corr.npy\n"
     ]
    },
    {
     "name": "stderr",
     "output_type": "stream",
     "text": [
      "Parallel Processing:  67%|██████▋   | 745/1112 [2:42:42<1:09:18, 11.33s/it]"
     ]
    },
    {
     "name": "stdout",
     "output_type": "stream",
     "text": [
      "Saved: correlation_matrices/NYU_0051062_func_preproc_corr.npy\n"
     ]
    },
    {
     "name": "stderr",
     "output_type": "stream",
     "text": [
      "Parallel Processing:  67%|██████▋   | 746/1112 [2:42:43<54:22,  8.91s/it]  "
     ]
    },
    {
     "name": "stdout",
     "output_type": "stream",
     "text": [
      "Saved: correlation_matrices/NYU_0051061_func_preproc_corr.npy\n",
      "Saved: correlation_matrices/NYU_0051066_func_preproc_corr.npy\n"
     ]
    },
    {
     "name": "stderr",
     "output_type": "stream",
     "text": [
      "Parallel Processing:  67%|██████▋   | 748/1112 [2:43:34<1:33:18, 15.38s/it]"
     ]
    },
    {
     "name": "stdout",
     "output_type": "stream",
     "text": [
      "Saved: correlation_matrices/NYU_0051063_func_preproc_corr.npy\n",
      "Saved: correlation_matrices/NYU_0051065_func_preproc_corr.npy\n"
     ]
    },
    {
     "name": "stderr",
     "output_type": "stream",
     "text": [
      "Parallel Processing:  67%|██████▋   | 749/1112 [2:43:38<1:17:48, 12.86s/it]"
     ]
    },
    {
     "name": "stdout",
     "output_type": "stream",
     "text": [
      "Saved: correlation_matrices/NYU_0051064_func_preproc_corr.npy\n"
     ]
    },
    {
     "name": "stderr",
     "output_type": "stream",
     "text": [
      "Parallel Processing:  68%|██████▊   | 752/1112 [2:44:39<1:38:46, 16.46s/it]"
     ]
    },
    {
     "name": "stdout",
     "output_type": "stream",
     "text": [
      "Saved: correlation_matrices/NYU_0051067_func_preproc_corr.npy\n"
     ]
    },
    {
     "name": "stderr",
     "output_type": "stream",
     "text": [
      "Parallel Processing:  68%|██████▊   | 753/1112 [2:44:40<1:21:23, 13.60s/it]"
     ]
    },
    {
     "name": "stdout",
     "output_type": "stream",
     "text": [
      "Saved: correlation_matrices/NYU_0051068_func_preproc_corr.npy\n"
     ]
    },
    {
     "name": "stderr",
     "output_type": "stream",
     "text": [
      "Parallel Processing:  68%|██████▊   | 754/1112 [2:44:41<1:05:33, 10.99s/it]"
     ]
    },
    {
     "name": "stdout",
     "output_type": "stream",
     "text": [
      "Saved: correlation_matrices/NYU_0051069_func_preproc_corr.npy\n"
     ]
    },
    {
     "name": "stderr",
     "output_type": "stream",
     "text": [
      "Parallel Processing:  68%|██████▊   | 755/1112 [2:44:42<51:40,  8.68s/it]  "
     ]
    },
    {
     "name": "stdout",
     "output_type": "stream",
     "text": [
      "Saved: correlation_matrices/NYU_0051070_func_preproc_corr.npy\n"
     ]
    },
    {
     "name": "stderr",
     "output_type": "stream",
     "text": [
      "Parallel Processing:  68%|██████▊   | 756/1112 [2:45:29<1:48:06, 18.22s/it]"
     ]
    },
    {
     "name": "stdout",
     "output_type": "stream",
     "text": [
      "Saved: correlation_matrices/NYU_0051071_func_preproc_corr.npy\n",
      "Saved: correlation_matrices/NYU_0051073_func_preproc_corr.npy\n"
     ]
    },
    {
     "name": "stderr",
     "output_type": "stream",
     "text": [
      "Parallel Processing:  68%|██████▊   | 757/1112 [2:45:30<1:20:51, 13.67s/it]"
     ]
    },
    {
     "name": "stdout",
     "output_type": "stream",
     "text": [
      "Saved: correlation_matrices/NYU_0051072_func_preproc_corr.npy\n"
     ]
    },
    {
     "name": "stderr",
     "output_type": "stream",
     "text": [
      "Parallel Processing:  68%|██████▊   | 759/1112 [2:45:31<47:00,  7.99s/it]  "
     ]
    },
    {
     "name": "stdout",
     "output_type": "stream",
     "text": [
      "Saved: correlation_matrices/NYU_0051074_func_preproc_corr.npy\n"
     ]
    },
    {
     "name": "stderr",
     "output_type": "stream",
     "text": [
      "Parallel Processing:  68%|██████▊   | 760/1112 [2:46:31<1:59:00, 20.28s/it]"
     ]
    },
    {
     "name": "stdout",
     "output_type": "stream",
     "text": [
      "Saved: correlation_matrices/NYU_0051075_func_preproc_corr.npy\n"
     ]
    },
    {
     "name": "stderr",
     "output_type": "stream",
     "text": [
      "Parallel Processing:  68%|██████▊   | 761/1112 [2:46:32<1:29:16, 15.26s/it]"
     ]
    },
    {
     "name": "stdout",
     "output_type": "stream",
     "text": [
      "Saved: correlation_matrices/NYU_0051076_func_preproc_corr.npy\n"
     ]
    },
    {
     "name": "stderr",
     "output_type": "stream",
     "text": [
      "Parallel Processing:  69%|██████▊   | 762/1112 [2:46:32<1:05:58, 11.31s/it]"
     ]
    },
    {
     "name": "stdout",
     "output_type": "stream",
     "text": [
      "Saved: correlation_matrices/NYU_0051077_func_preproc_corr.npy\n"
     ]
    },
    {
     "name": "stderr",
     "output_type": "stream",
     "text": [
      "Parallel Processing:  69%|██████▊   | 763/1112 [2:46:33<49:08,  8.45s/it]  "
     ]
    },
    {
     "name": "stdout",
     "output_type": "stream",
     "text": [
      "Saved: correlation_matrices/NYU_0051078_func_preproc_corr.npy\n",
      "Saved: correlation_matrices/NYU_0051080_func_preproc_corr.npy\n"
     ]
    },
    {
     "name": "stderr",
     "output_type": "stream",
     "text": [
      "Parallel Processing:  69%|██████▊   | 764/1112 [2:47:20<1:53:07, 19.50s/it]"
     ]
    },
    {
     "name": "stdout",
     "output_type": "stream",
     "text": [
      "Saved: correlation_matrices/NYU_0051079_func_preproc_corr.npy\n",
      "Saved: correlation_matrices/NYU_0051081_func_preproc_corr.npy\n"
     ]
    },
    {
     "name": "stderr",
     "output_type": "stream",
     "text": [
      "Parallel Processing:  69%|██████▉   | 767/1112 [2:47:21<48:03,  8.36s/it]  "
     ]
    },
    {
     "name": "stdout",
     "output_type": "stream",
     "text": [
      "Saved: correlation_matrices/NYU_0051082_func_preproc_corr.npy\n"
     ]
    },
    {
     "name": "stderr",
     "output_type": "stream",
     "text": [
      "Parallel Processing:  69%|██████▉   | 768/1112 [2:48:08<1:44:28, 18.22s/it]"
     ]
    },
    {
     "name": "stdout",
     "output_type": "stream",
     "text": [
      "Saved: correlation_matrices/NYU_0051083_func_preproc_corr.npy\n",
      "Saved: correlation_matrices/NYU_0051085_func_preproc_corr.npy\n"
     ]
    },
    {
     "name": "stderr",
     "output_type": "stream",
     "text": [
      "Parallel Processing:  69%|██████▉   | 769/1112 [2:48:10<1:18:35, 13.75s/it]"
     ]
    },
    {
     "name": "stdout",
     "output_type": "stream",
     "text": [
      "Saved: correlation_matrices/NYU_0051086_func_preproc_corr.npy\n",
      "Saved: correlation_matrices/NYU_0051084_func_preproc_corr.npy\n"
     ]
    },
    {
     "name": "stderr",
     "output_type": "stream",
     "text": [
      "Parallel Processing:  69%|██████▉   | 772/1112 [2:48:54<1:21:15, 14.34s/it]"
     ]
    },
    {
     "name": "stdout",
     "output_type": "stream",
     "text": [
      "Saved: correlation_matrices/NYU_0051087_func_preproc_corr.npy\n",
      "Saved: correlation_matrices/NYU_0051090_func_preproc_corr.npy\n",
      "Saved: correlation_matrices/NYU_0051088_func_preproc_corr.npy\n"
     ]
    },
    {
     "name": "stderr",
     "output_type": "stream",
     "text": [
      "Parallel Processing:  70%|██████▉   | 774/1112 [2:48:56<52:04,  9.24s/it]  "
     ]
    },
    {
     "name": "stdout",
     "output_type": "stream",
     "text": [
      "Saved: correlation_matrices/NYU_0051089_func_preproc_corr.npy\n"
     ]
    },
    {
     "name": "stderr",
     "output_type": "stream",
     "text": [
      "Parallel Processing:  70%|██████▉   | 776/1112 [2:49:41<1:20:18, 14.34s/it]"
     ]
    },
    {
     "name": "stdout",
     "output_type": "stream",
     "text": [
      "Saved: correlation_matrices/NYU_0051091_func_preproc_corr.npy\n",
      "Saved: correlation_matrices/NYU_0051095_func_preproc_corr.npy\n"
     ]
    },
    {
     "name": "stderr",
     "output_type": "stream",
     "text": [
      "Parallel Processing:  70%|██████▉   | 777/1112 [2:49:43<1:04:43, 11.59s/it]"
     ]
    },
    {
     "name": "stdout",
     "output_type": "stream",
     "text": [
      "Saved: correlation_matrices/NYU_0051093_func_preproc_corr.npy\n"
     ]
    },
    {
     "name": "stderr",
     "output_type": "stream",
     "text": [
      "Parallel Processing:  70%|██████▉   | 778/1112 [2:49:43<49:49,  8.95s/it]  "
     ]
    },
    {
     "name": "stdout",
     "output_type": "stream",
     "text": [
      "Saved: correlation_matrices/NYU_0051094_func_preproc_corr.npy\n"
     ]
    },
    {
     "name": "stderr",
     "output_type": "stream",
     "text": [
      "Parallel Processing:  70%|███████   | 780/1112 [2:50:28<1:19:45, 14.41s/it]"
     ]
    },
    {
     "name": "stdout",
     "output_type": "stream",
     "text": [
      "Saved: correlation_matrices/NYU_0051096_func_preproc_corr.npy\n",
      "Saved: correlation_matrices/NYU_0051098_func_preproc_corr.npy\n"
     ]
    },
    {
     "name": "stderr",
     "output_type": "stream",
     "text": [
      "Parallel Processing:  70%|███████   | 781/1112 [2:50:30<1:03:26, 11.50s/it]"
     ]
    },
    {
     "name": "stdout",
     "output_type": "stream",
     "text": [
      "Saved: correlation_matrices/NYU_0051097_func_preproc_corr.npy\n"
     ]
    },
    {
     "name": "stderr",
     "output_type": "stream",
     "text": [
      "Parallel Processing:  70%|███████   | 783/1112 [2:50:30<38:52,  7.09s/it]  "
     ]
    },
    {
     "name": "stdout",
     "output_type": "stream",
     "text": [
      "Saved: correlation_matrices/NYU_0051099_func_preproc_corr.npy\n"
     ]
    },
    {
     "name": "stderr",
     "output_type": "stream",
     "text": [
      "Parallel Processing:  71%|███████   | 784/1112 [2:51:17<1:26:01, 15.74s/it]"
     ]
    },
    {
     "name": "stdout",
     "output_type": "stream",
     "text": [
      "Saved: correlation_matrices/NYU_0051100_func_preproc_corr.npy\n"
     ]
    },
    {
     "name": "stderr",
     "output_type": "stream",
     "text": [
      "Parallel Processing:  71%|███████   | 785/1112 [2:51:17<1:05:54, 12.09s/it]"
     ]
    },
    {
     "name": "stdout",
     "output_type": "stream",
     "text": [
      "Saved: correlation_matrices/NYU_0051101_func_preproc_corr.npy\n",
      "Saved: correlation_matrices/NYU_0051103_func_preproc_corr.npy\n"
     ]
    },
    {
     "name": "stderr",
     "output_type": "stream",
     "text": [
      "Parallel Processing:  71%|███████   | 786/1112 [2:51:18<49:57,  9.20s/it]  "
     ]
    },
    {
     "name": "stdout",
     "output_type": "stream",
     "text": [
      "Saved: correlation_matrices/NYU_0051102_func_preproc_corr.npy\n"
     ]
    },
    {
     "name": "stderr",
     "output_type": "stream",
     "text": [
      "Parallel Processing:  71%|███████   | 788/1112 [2:52:01<1:18:22, 14.51s/it]"
     ]
    },
    {
     "name": "stdout",
     "output_type": "stream",
     "text": [
      "Saved: correlation_matrices/NYU_0051104_func_preproc_corr.npy\n",
      "Error: HTTP Error 404: Not Found\n",
      "Saved: correlation_matrices/NYU_0051106_func_preproc_corr.npy\n"
     ]
    },
    {
     "name": "stderr",
     "output_type": "stream",
     "text": [
      "Parallel Processing:  71%|███████   | 789/1112 [2:52:03<1:02:08, 11.54s/it]"
     ]
    },
    {
     "name": "stdout",
     "output_type": "stream",
     "text": [
      "Saved: correlation_matrices/NYU_0051105_func_preproc_corr.npy\n"
     ]
    },
    {
     "name": "stderr",
     "output_type": "stream",
     "text": [
      "Parallel Processing:  71%|███████   | 791/1112 [2:52:04<37:50,  7.07s/it]  "
     ]
    },
    {
     "name": "stdout",
     "output_type": "stream",
     "text": [
      "Saved: correlation_matrices/NYU_0051107_func_preproc_corr.npy\n"
     ]
    },
    {
     "name": "stderr",
     "output_type": "stream",
     "text": [
      "Parallel Processing:  71%|███████▏  | 793/1112 [2:52:48<1:06:16, 12.46s/it]"
     ]
    },
    {
     "name": "stdout",
     "output_type": "stream",
     "text": [
      "Saved: correlation_matrices/NYU_0051109_func_preproc_corr.npy\n"
     ]
    },
    {
     "name": "stderr",
     "output_type": "stream",
     "text": [
      "Parallel Processing:  71%|███████▏  | 794/1112 [2:52:48<53:06, 10.02s/it]  "
     ]
    },
    {
     "name": "stdout",
     "output_type": "stream",
     "text": [
      "Saved: correlation_matrices/NYU_0051110_func_preproc_corr.npy\n"
     ]
    },
    {
     "name": "stderr",
     "output_type": "stream",
     "text": [
      "Parallel Processing:  71%|███████▏  | 795/1112 [2:52:49<41:51,  7.92s/it]"
     ]
    },
    {
     "name": "stdout",
     "output_type": "stream",
     "text": [
      "Saved: correlation_matrices/NYU_0051111_func_preproc_corr.npy\n"
     ]
    },
    {
     "name": "stderr",
     "output_type": "stream",
     "text": [
      "Parallel Processing:  72%|███████▏  | 796/1112 [2:52:49<31:53,  6.05s/it]"
     ]
    },
    {
     "name": "stdout",
     "output_type": "stream",
     "text": [
      "Saved: correlation_matrices/NYU_0051112_func_preproc_corr.npy\n",
      "Error: HTTP Error 404: Not Found\n"
     ]
    },
    {
     "name": "stderr",
     "output_type": "stream",
     "text": [
      "Parallel Processing:  72%|███████▏  | 797/1112 [2:53:35<1:25:34, 16.30s/it]"
     ]
    },
    {
     "name": "stdout",
     "output_type": "stream",
     "text": [
      "Saved: correlation_matrices/NYU_0051113_func_preproc_corr.npy\n"
     ]
    },
    {
     "name": "stderr",
     "output_type": "stream",
     "text": [
      "Parallel Processing:  72%|███████▏  | 798/1112 [2:53:35<1:03:06, 12.06s/it]"
     ]
    },
    {
     "name": "stdout",
     "output_type": "stream",
     "text": [
      "Saved: correlation_matrices/NYU_0051114_func_preproc_corr.npy\n"
     ]
    },
    {
     "name": "stderr",
     "output_type": "stream",
     "text": [
      "Parallel Processing:  72%|███████▏  | 800/1112 [2:53:36<35:49,  6.89s/it]  "
     ]
    },
    {
     "name": "stdout",
     "output_type": "stream",
     "text": [
      "Error: HTTP Error 404: Not Found\n",
      "Saved: correlation_matrices/NYU_0051116_func_preproc_corr.npy\n"
     ]
    },
    {
     "name": "stderr",
     "output_type": "stream",
     "text": [
      "Parallel Processing:  72%|███████▏  | 801/1112 [2:53:36<27:38,  5.33s/it]"
     ]
    },
    {
     "name": "stdout",
     "output_type": "stream",
     "text": [
      "Error: HTTP Error 404: Not Found\n",
      "Saved: correlation_matrices/NYU_0051117_func_preproc_corr.npy\n"
     ]
    },
    {
     "name": "stderr",
     "output_type": "stream",
     "text": [
      "Parallel Processing:  72%|███████▏  | 802/1112 [2:54:43<1:47:59, 20.90s/it]"
     ]
    },
    {
     "name": "stdout",
     "output_type": "stream",
     "text": [
      "Saved: correlation_matrices/NYU_0051118_func_preproc_corr.npy\n",
      "Saved: correlation_matrices/NYU_0051123_func_preproc_corr.npy\n",
      "Saved: correlation_matrices/NYU_0051122_func_preproc_corr.npy\n",
      "Error: HTTP Error 404: Not Found\n"
     ]
    },
    {
     "name": "stderr",
     "output_type": "stream",
     "text": [
      "Parallel Processing:  72%|███████▏  | 805/1112 [2:54:45<52:47, 10.32s/it]  "
     ]
    },
    {
     "name": "stdout",
     "output_type": "stream",
     "text": [
      "Saved: correlation_matrices/NYU_0051121_func_preproc_corr.npy\n"
     ]
    },
    {
     "name": "stderr",
     "output_type": "stream",
     "text": [
      "Parallel Processing:  73%|███████▎  | 808/1112 [2:55:31<1:03:41, 12.57s/it]"
     ]
    },
    {
     "name": "stdout",
     "output_type": "stream",
     "text": [
      "Saved: correlation_matrices/NYU_0051124_func_preproc_corr.npy\n",
      "Saved: correlation_matrices/NYU_0051127_func_preproc_corr.npy\n",
      "Saved: correlation_matrices/NYU_0051128_func_preproc_corr.npy\n"
     ]
    },
    {
     "name": "stderr",
     "output_type": "stream",
     "text": [
      "Parallel Processing:  73%|███████▎  | 810/1112 [2:55:33<46:04,  9.15s/it]  "
     ]
    },
    {
     "name": "stdout",
     "output_type": "stream",
     "text": [
      "Saved: correlation_matrices/NYU_0051126_func_preproc_corr.npy\n",
      "Saved: correlation_matrices/Trinity_0051132_func_preproc_corr.npy\n"
     ]
    },
    {
     "name": "stderr",
     "output_type": "stream",
     "text": [
      "Parallel Processing:  73%|███████▎  | 813/1112 [2:56:16<55:24, 11.12s/it]"
     ]
    },
    {
     "name": "stdout",
     "output_type": "stream",
     "text": [
      "Saved: correlation_matrices/NYU_0051129_func_preproc_corr.npy\n"
     ]
    },
    {
     "name": "stderr",
     "output_type": "stream",
     "text": [
      "Parallel Processing:  73%|███████▎  | 814/1112 [2:56:16<47:00,  9.47s/it]"
     ]
    },
    {
     "name": "stdout",
     "output_type": "stream",
     "text": [
      "Saved: correlation_matrices/NYU_0051130_func_preproc_corr.npy\n"
     ]
    },
    {
     "name": "stderr",
     "output_type": "stream",
     "text": [
      "Parallel Processing:  73%|███████▎  | 815/1112 [2:56:18<40:22,  8.16s/it]"
     ]
    },
    {
     "name": "stdout",
     "output_type": "stream",
     "text": [
      "Saved: correlation_matrices/NYU_0051131_func_preproc_corr.npy\n"
     ]
    },
    {
     "name": "stderr",
     "output_type": "stream",
     "text": [
      "Parallel Processing:  73%|███████▎  | 817/1112 [2:56:49<52:21, 10.65s/it]"
     ]
    },
    {
     "name": "stdout",
     "output_type": "stream",
     "text": [
      "Saved: correlation_matrices/Trinity_0051133_func_preproc_corr.npy\n",
      "Saved: correlation_matrices/Trinity_0051135_func_preproc_corr.npy\n",
      "Saved: correlation_matrices/Trinity_0051136_func_preproc_corr.npy\n"
     ]
    },
    {
     "name": "stderr",
     "output_type": "stream",
     "text": [
      "Parallel Processing:  74%|███████▎  | 818/1112 [2:56:55<47:42,  9.74s/it]"
     ]
    },
    {
     "name": "stdout",
     "output_type": "stream",
     "text": [
      "Saved: correlation_matrices/Trinity_0051134_func_preproc_corr.npy\n"
     ]
    },
    {
     "name": "stderr",
     "output_type": "stream",
     "text": [
      "Parallel Processing:  74%|███████▍  | 821/1112 [2:57:25<47:51,  9.87s/it]"
     ]
    },
    {
     "name": "stdout",
     "output_type": "stream",
     "text": [
      "Saved: correlation_matrices/Trinity_0051137_func_preproc_corr.npy\n"
     ]
    },
    {
     "name": "stderr",
     "output_type": "stream",
     "text": [
      "Parallel Processing:  74%|███████▍  | 822/1112 [2:57:33<45:58,  9.51s/it]"
     ]
    },
    {
     "name": "stdout",
     "output_type": "stream",
     "text": [
      "Saved: correlation_matrices/Trinity_0051138_func_preproc_corr.npy\n",
      "Saved: correlation_matrices/Trinity_0051139_func_preproc_corr.npy\n"
     ]
    },
    {
     "name": "stderr",
     "output_type": "stream",
     "text": [
      "Parallel Processing:  74%|███████▍  | 824/1112 [2:57:34<28:33,  5.95s/it]"
     ]
    },
    {
     "name": "stdout",
     "output_type": "stream",
     "text": [
      "Saved: correlation_matrices/Trinity_0051140_func_preproc_corr.npy\n"
     ]
    },
    {
     "name": "stderr",
     "output_type": "stream",
     "text": [
      "Parallel Processing:  74%|███████▍  | 825/1112 [2:57:56<47:58, 10.03s/it]"
     ]
    },
    {
     "name": "stdout",
     "output_type": "stream",
     "text": [
      "Saved: correlation_matrices/Trinity_0051141_func_preproc_corr.npy\n"
     ]
    },
    {
     "name": "stderr",
     "output_type": "stream",
     "text": [
      "Parallel Processing:  74%|███████▍  | 826/1112 [2:58:12<54:29, 11.43s/it]"
     ]
    },
    {
     "name": "stdout",
     "output_type": "stream",
     "text": [
      "Saved: correlation_matrices/Trinity_0051142_func_preproc_corr.npy\n"
     ]
    },
    {
     "name": "stderr",
     "output_type": "stream",
     "text": [
      "Parallel Processing:  74%|███████▍  | 827/1112 [2:58:17<46:28,  9.79s/it]"
     ]
    },
    {
     "name": "stdout",
     "output_type": "stream",
     "text": [
      "Saved: correlation_matrices/NYU_0051146_func_preproc_corr.npy\n"
     ]
    },
    {
     "name": "stderr",
     "output_type": "stream",
     "text": [
      "Parallel Processing:  74%|███████▍  | 828/1112 [2:58:19<35:18,  7.46s/it]"
     ]
    },
    {
     "name": "stdout",
     "output_type": "stream",
     "text": [
      "Saved: correlation_matrices/NYU_0051147_func_preproc_corr.npy\n"
     ]
    },
    {
     "name": "stderr",
     "output_type": "stream",
     "text": [
      "Parallel Processing:  75%|███████▍  | 829/1112 [2:58:34<46:16,  9.81s/it]"
     ]
    },
    {
     "name": "stdout",
     "output_type": "stream",
     "text": [
      "Saved: correlation_matrices/NYU_0051148_func_preproc_corr.npy\n"
     ]
    },
    {
     "name": "stderr",
     "output_type": "stream",
     "text": [
      "Parallel Processing:  75%|███████▍  | 830/1112 [2:58:55<1:00:25, 12.86s/it]"
     ]
    },
    {
     "name": "stdout",
     "output_type": "stream",
     "text": [
      "Saved: correlation_matrices/NYU_0051149_func_preproc_corr.npy\n",
      "Saved: correlation_matrices/NYU_0051150_func_preproc_corr.npy\n"
     ]
    },
    {
     "name": "stderr",
     "output_type": "stream",
     "text": [
      "Parallel Processing:  75%|███████▍  | 832/1112 [2:59:02<38:11,  8.18s/it]"
     ]
    },
    {
     "name": "stdout",
     "output_type": "stream",
     "text": [
      "Saved: correlation_matrices/NYU_0051151_func_preproc_corr.npy\n"
     ]
    },
    {
     "name": "stderr",
     "output_type": "stream",
     "text": [
      "Parallel Processing:  75%|███████▍  | 833/1112 [2:59:13<41:00,  8.82s/it]"
     ]
    },
    {
     "name": "stdout",
     "output_type": "stream",
     "text": [
      "Saved: correlation_matrices/NYU_0051152_func_preproc_corr.npy\n"
     ]
    },
    {
     "name": "stderr",
     "output_type": "stream",
     "text": [
      "Parallel Processing:  75%|███████▌  | 834/1112 [2:59:36<1:01:28, 13.27s/it]"
     ]
    },
    {
     "name": "stdout",
     "output_type": "stream",
     "text": [
      "Saved: correlation_matrices/NYU_0051153_func_preproc_corr.npy\n"
     ]
    },
    {
     "name": "stderr",
     "output_type": "stream",
     "text": [
      "Parallel Processing:  75%|███████▌  | 835/1112 [2:59:44<54:00, 11.70s/it]  "
     ]
    },
    {
     "name": "stdout",
     "output_type": "stream",
     "text": [
      "Saved: correlation_matrices/NYU_0051154_func_preproc_corr.npy\n"
     ]
    },
    {
     "name": "stderr",
     "output_type": "stream",
     "text": [
      "Parallel Processing:  75%|███████▌  | 836/1112 [2:59:46<39:43,  8.64s/it]"
     ]
    },
    {
     "name": "stdout",
     "output_type": "stream",
     "text": [
      "Saved: correlation_matrices/NYU_0051155_func_preproc_corr.npy\n"
     ]
    },
    {
     "name": "stderr",
     "output_type": "stream",
     "text": [
      "Parallel Processing:  75%|███████▌  | 837/1112 [2:59:51<34:40,  7.57s/it]"
     ]
    },
    {
     "name": "stdout",
     "output_type": "stream",
     "text": [
      "Saved: correlation_matrices/NYU_0051156_func_preproc_corr.npy\n"
     ]
    },
    {
     "name": "stderr",
     "output_type": "stream",
     "text": [
      "Parallel Processing:  75%|███████▌  | 838/1112 [3:00:16<58:07, 12.73s/it]"
     ]
    },
    {
     "name": "stdout",
     "output_type": "stream",
     "text": [
      "Saved: correlation_matrices/NYU_0051159_func_preproc_corr.npy\n",
      "Saved: correlation_matrices/Stanford_0051161_func_preproc_corr.npy\n"
     ]
    },
    {
     "name": "stderr",
     "output_type": "stream",
     "text": [
      "Parallel Processing:  75%|███████▌  | 839/1112 [3:00:33<1:04:11, 14.11s/it]"
     ]
    },
    {
     "name": "stdout",
     "output_type": "stream",
     "text": [
      "Saved: correlation_matrices/Stanford_0051160_func_preproc_corr.npy\n"
     ]
    },
    {
     "name": "stderr",
     "output_type": "stream",
     "text": [
      "Parallel Processing:  76%|███████▌  | 841/1112 [3:00:36<37:45,  8.36s/it]  "
     ]
    },
    {
     "name": "stdout",
     "output_type": "stream",
     "text": [
      "Saved: correlation_matrices/Stanford_0051162_func_preproc_corr.npy\n"
     ]
    },
    {
     "name": "stderr",
     "output_type": "stream",
     "text": [
      "Parallel Processing:  76%|███████▌  | 842/1112 [3:00:55<49:08, 10.92s/it]"
     ]
    },
    {
     "name": "stdout",
     "output_type": "stream",
     "text": [
      "Saved: correlation_matrices/Stanford_0051163_func_preproc_corr.npy\n"
     ]
    },
    {
     "name": "stderr",
     "output_type": "stream",
     "text": [
      "Parallel Processing:  76%|███████▌  | 843/1112 [3:01:21<1:06:42, 14.88s/it]"
     ]
    },
    {
     "name": "stdout",
     "output_type": "stream",
     "text": [
      "Saved: correlation_matrices/Stanford_0051164_func_preproc_corr.npy\n"
     ]
    },
    {
     "name": "stderr",
     "output_type": "stream",
     "text": [
      "Parallel Processing:  76%|███████▌  | 844/1112 [3:01:23<50:57, 11.41s/it]  "
     ]
    },
    {
     "name": "stdout",
     "output_type": "stream",
     "text": [
      "Saved: correlation_matrices/Stanford_0051165_func_preproc_corr.npy\n"
     ]
    },
    {
     "name": "stderr",
     "output_type": "stream",
     "text": [
      "Parallel Processing:  76%|███████▌  | 845/1112 [3:01:36<52:55, 11.89s/it]"
     ]
    },
    {
     "name": "stdout",
     "output_type": "stream",
     "text": [
      "Saved: correlation_matrices/Stanford_0051166_func_preproc_corr.npy\n"
     ]
    },
    {
     "name": "stderr",
     "output_type": "stream",
     "text": [
      "Parallel Processing:  76%|███████▌  | 846/1112 [3:01:38<39:44,  8.97s/it]"
     ]
    },
    {
     "name": "stdout",
     "output_type": "stream",
     "text": [
      "Saved: correlation_matrices/Stanford_0051167_func_preproc_corr.npy\n"
     ]
    },
    {
     "name": "stderr",
     "output_type": "stream",
     "text": [
      "Parallel Processing:  76%|███████▌  | 847/1112 [3:02:04<1:01:19, 13.89s/it]"
     ]
    },
    {
     "name": "stdout",
     "output_type": "stream",
     "text": [
      "Saved: correlation_matrices/Stanford_0051168_func_preproc_corr.npy\n"
     ]
    },
    {
     "name": "stderr",
     "output_type": "stream",
     "text": [
      "Parallel Processing:  76%|███████▋  | 848/1112 [3:02:07<47:12, 10.73s/it]  "
     ]
    },
    {
     "name": "stdout",
     "output_type": "stream",
     "text": [
      "Saved: correlation_matrices/Stanford_0051169_func_preproc_corr.npy\n"
     ]
    },
    {
     "name": "stderr",
     "output_type": "stream",
     "text": [
      "Parallel Processing:  76%|███████▋  | 849/1112 [3:02:22<52:44, 12.03s/it]"
     ]
    },
    {
     "name": "stdout",
     "output_type": "stream",
     "text": [
      "Saved: correlation_matrices/Stanford_0051170_func_preproc_corr.npy\n"
     ]
    },
    {
     "name": "stderr",
     "output_type": "stream",
     "text": [
      "Parallel Processing:  76%|███████▋  | 850/1112 [3:02:23<38:07,  8.73s/it]"
     ]
    },
    {
     "name": "stdout",
     "output_type": "stream",
     "text": [
      "Saved: correlation_matrices/Stanford_0051171_func_preproc_corr.npy\n"
     ]
    },
    {
     "name": "stderr",
     "output_type": "stream",
     "text": [
      "Parallel Processing:  77%|███████▋  | 851/1112 [3:02:46<56:22, 12.96s/it]"
     ]
    },
    {
     "name": "stdout",
     "output_type": "stream",
     "text": [
      "Saved: correlation_matrices/Stanford_0051172_func_preproc_corr.npy\n",
      "Error: HTTP Error 404: Not Found\n"
     ]
    },
    {
     "name": "stderr",
     "output_type": "stream",
     "text": [
      "Parallel Processing:  77%|███████▋  | 852/1112 [3:02:51<46:24, 10.71s/it]"
     ]
    },
    {
     "name": "stdout",
     "output_type": "stream",
     "text": [
      "Saved: correlation_matrices/Stanford_0051173_func_preproc_corr.npy\n",
      "Saved: correlation_matrices/Stanford_0051175_func_preproc_corr.npy\n"
     ]
    },
    {
     "name": "stderr",
     "output_type": "stream",
     "text": [
      "Parallel Processing:  77%|███████▋  | 853/1112 [3:03:21<1:11:05, 16.47s/it]"
     ]
    },
    {
     "name": "stdout",
     "output_type": "stream",
     "text": [
      "Saved: correlation_matrices/Stanford_0051174_func_preproc_corr.npy\n"
     ]
    },
    {
     "name": "stderr",
     "output_type": "stream",
     "text": [
      "Parallel Processing:  77%|███████▋  | 856/1112 [3:03:30<37:45,  8.85s/it]  "
     ]
    },
    {
     "name": "stdout",
     "output_type": "stream",
     "text": [
      "Saved: correlation_matrices/Stanford_0051177_func_preproc_corr.npy\n"
     ]
    },
    {
     "name": "stderr",
     "output_type": "stream",
     "text": [
      "Parallel Processing:  77%|███████▋  | 857/1112 [3:03:34<32:55,  7.75s/it]"
     ]
    },
    {
     "name": "stdout",
     "output_type": "stream",
     "text": [
      "Saved: correlation_matrices/Stanford_0051178_func_preproc_corr.npy\n"
     ]
    },
    {
     "name": "stderr",
     "output_type": "stream",
     "text": [
      "Parallel Processing:  77%|███████▋  | 858/1112 [3:03:51<42:03,  9.94s/it]"
     ]
    },
    {
     "name": "stdout",
     "output_type": "stream",
     "text": [
      "Saved: correlation_matrices/Stanford_0051179_func_preproc_corr.npy\n"
     ]
    },
    {
     "name": "stderr",
     "output_type": "stream",
     "text": [
      "Parallel Processing:  77%|███████▋  | 859/1112 [3:04:22<1:04:04, 15.19s/it]"
     ]
    },
    {
     "name": "stdout",
     "output_type": "stream",
     "text": [
      "Saved: correlation_matrices/Stanford_0051180_func_preproc_corr.npy\n"
     ]
    },
    {
     "name": "stderr",
     "output_type": "stream",
     "text": [
      "Parallel Processing:  77%|███████▋  | 860/1112 [3:04:36<1:02:05, 14.78s/it]"
     ]
    },
    {
     "name": "stdout",
     "output_type": "stream",
     "text": [
      "Saved: correlation_matrices/Stanford_0051181_func_preproc_corr.npy\n",
      "Saved: correlation_matrices/Stanford_0051182_func_preproc_corr.npy\n"
     ]
    },
    {
     "name": "stderr",
     "output_type": "stream",
     "text": [
      "Parallel Processing:  78%|███████▊  | 862/1112 [3:05:16<1:16:40, 18.40s/it]"
     ]
    },
    {
     "name": "stdout",
     "output_type": "stream",
     "text": [
      "Saved: correlation_matrices/Stanford_0051183_func_preproc_corr.npy\n"
     ]
    },
    {
     "name": "stderr",
     "output_type": "stream",
     "text": [
      "Parallel Processing:  78%|███████▊  | 863/1112 [3:05:51<1:36:02, 23.14s/it]"
     ]
    },
    {
     "name": "stdout",
     "output_type": "stream",
     "text": [
      "Saved: correlation_matrices/Stanford_0051184_func_preproc_corr.npy\n"
     ]
    },
    {
     "name": "stderr",
     "output_type": "stream",
     "text": [
      "Parallel Processing:  78%|███████▊  | 864/1112 [3:06:02<1:21:25, 19.70s/it]"
     ]
    },
    {
     "name": "stdout",
     "output_type": "stream",
     "text": [
      "Saved: correlation_matrices/Stanford_0051185_func_preproc_corr.npy\n"
     ]
    },
    {
     "name": "stderr",
     "output_type": "stream",
     "text": [
      "Parallel Processing:  78%|███████▊  | 865/1112 [3:06:03<58:01, 14.10s/it]  "
     ]
    },
    {
     "name": "stdout",
     "output_type": "stream",
     "text": [
      "Saved: correlation_matrices/Stanford_0051186_func_preproc_corr.npy\n"
     ]
    },
    {
     "name": "stderr",
     "output_type": "stream",
     "text": [
      "Parallel Processing:  78%|███████▊  | 866/1112 [3:06:14<54:55, 13.40s/it]"
     ]
    },
    {
     "name": "stdout",
     "output_type": "stream",
     "text": [
      "Saved: correlation_matrices/Stanford_0051187_func_preproc_corr.npy\n"
     ]
    },
    {
     "name": "stderr",
     "output_type": "stream",
     "text": [
      "Parallel Processing:  78%|███████▊  | 867/1112 [3:06:48<1:19:33, 19.48s/it]"
     ]
    },
    {
     "name": "stdout",
     "output_type": "stream",
     "text": [
      "Saved: correlation_matrices/Stanford_0051188_func_preproc_corr.npy\n",
      "Saved: correlation_matrices/Stanford_0051190_func_preproc_corr.npy\n"
     ]
    },
    {
     "name": "stderr",
     "output_type": "stream",
     "text": [
      "Parallel Processing:  78%|███████▊  | 868/1112 [3:07:02<1:12:33, 17.84s/it]"
     ]
    },
    {
     "name": "stdout",
     "output_type": "stream",
     "text": [
      "Saved: correlation_matrices/Stanford_0051189_func_preproc_corr.npy\n"
     ]
    },
    {
     "name": "stderr",
     "output_type": "stream",
     "text": [
      "Parallel Processing:  78%|███████▊  | 870/1112 [3:07:11<47:05, 11.67s/it]  "
     ]
    },
    {
     "name": "stdout",
     "output_type": "stream",
     "text": [
      "Saved: correlation_matrices/Stanford_0051191_func_preproc_corr.npy\n",
      "Saved: correlation_matrices/Stanford_0051192_func_preproc_corr.npy\n"
     ]
    },
    {
     "name": "stderr",
     "output_type": "stream",
     "text": [
      "Parallel Processing:  78%|███████▊  | 871/1112 [3:07:44<1:07:59, 16.93s/it]"
     ]
    },
    {
     "name": "stdout",
     "output_type": "stream",
     "text": [
      "Saved: correlation_matrices/Stanford_0051194_func_preproc_corr.npy\n"
     ]
    },
    {
     "name": "stderr",
     "output_type": "stream",
     "text": [
      "Parallel Processing:  78%|███████▊  | 872/1112 [3:08:02<1:08:55, 17.23s/it]"
     ]
    },
    {
     "name": "stdout",
     "output_type": "stream",
     "text": [
      "Saved: correlation_matrices/Stanford_0051193_func_preproc_corr.npy\n"
     ]
    },
    {
     "name": "stderr",
     "output_type": "stream",
     "text": [
      "Parallel Processing:  79%|███████▊  | 874/1112 [3:08:07<43:19, 10.92s/it]  "
     ]
    },
    {
     "name": "stdout",
     "output_type": "stream",
     "text": [
      "Saved: correlation_matrices/Stanford_0051195_func_preproc_corr.npy\n"
     ]
    },
    {
     "name": "stderr",
     "output_type": "stream",
     "text": [
      "Parallel Processing:  79%|███████▊  | 875/1112 [3:08:39<1:02:17, 15.77s/it]"
     ]
    },
    {
     "name": "stdout",
     "output_type": "stream",
     "text": [
      "Saved: correlation_matrices/Stanford_0051196_func_preproc_corr.npy\n"
     ]
    },
    {
     "name": "stderr",
     "output_type": "stream",
     "text": [
      "Parallel Processing:  79%|███████▉  | 876/1112 [3:09:07<1:14:46, 19.01s/it]"
     ]
    },
    {
     "name": "stdout",
     "output_type": "stream",
     "text": [
      "Saved: correlation_matrices/Stanford_0051197_func_preproc_corr.npy\n",
      "Saved: correlation_matrices/Stanford_0051198_func_preproc_corr.npy\n"
     ]
    },
    {
     "name": "stderr",
     "output_type": "stream",
     "text": [
      "Parallel Processing:  79%|███████▉  | 877/1112 [3:09:08<54:58, 14.04s/it]  "
     ]
    },
    {
     "name": "stdout",
     "output_type": "stream",
     "text": [
      "Saved: correlation_matrices/UCLA_1_0051201_func_preproc_corr.npy\n"
     ]
    },
    {
     "name": "stderr",
     "output_type": "stream",
     "text": [
      "Parallel Processing:  79%|███████▉  | 878/1112 [3:09:09<41:34, 10.66s/it]"
     ]
    },
    {
     "name": "stdout",
     "output_type": "stream",
     "text": [
      "Saved: correlation_matrices/Stanford_0051199_func_preproc_corr.npy\n"
     ]
    },
    {
     "name": "stderr",
     "output_type": "stream",
     "text": [
      "Parallel Processing:  79%|███████▉  | 880/1112 [3:09:41<50:15, 13.00s/it]"
     ]
    },
    {
     "name": "stdout",
     "output_type": "stream",
     "text": [
      "Saved: correlation_matrices/UCLA_1_0051202_func_preproc_corr.npy\n"
     ]
    },
    {
     "name": "stderr",
     "output_type": "stream",
     "text": [
      "Parallel Processing:  79%|███████▉  | 881/1112 [3:09:42<38:31, 10.01s/it]"
     ]
    },
    {
     "name": "stdout",
     "output_type": "stream",
     "text": [
      "Saved: correlation_matrices/UCLA_1_0051203_func_preproc_corr.npy\n"
     ]
    },
    {
     "name": "stderr",
     "output_type": "stream",
     "text": [
      "Parallel Processing:  79%|███████▉  | 882/1112 [3:09:42<28:54,  7.54s/it]"
     ]
    },
    {
     "name": "stdout",
     "output_type": "stream",
     "text": [
      "Saved: correlation_matrices/UCLA_1_0051204_func_preproc_corr.npy\n"
     ]
    },
    {
     "name": "stderr",
     "output_type": "stream",
     "text": [
      "Parallel Processing:  79%|███████▉  | 883/1112 [3:09:42<21:27,  5.62s/it]"
     ]
    },
    {
     "name": "stdout",
     "output_type": "stream",
     "text": [
      "Saved: correlation_matrices/UCLA_1_0051205_func_preproc_corr.npy\n",
      "Saved: correlation_matrices/UCLA_1_0051207_func_preproc_corr.npy\n"
     ]
    },
    {
     "name": "stderr",
     "output_type": "stream",
     "text": [
      "Parallel Processing:  79%|███████▉  | 884/1112 [3:10:15<49:16, 12.97s/it]"
     ]
    },
    {
     "name": "stdout",
     "output_type": "stream",
     "text": [
      "Saved: correlation_matrices/UCLA_1_0051206_func_preproc_corr.npy\n"
     ]
    },
    {
     "name": "stderr",
     "output_type": "stream",
     "text": [
      "Parallel Processing:  80%|███████▉  | 886/1112 [3:10:15<27:34,  7.32s/it]"
     ]
    },
    {
     "name": "stdout",
     "output_type": "stream",
     "text": [
      "Saved: correlation_matrices/UCLA_1_0051208_func_preproc_corr.npy\n"
     ]
    },
    {
     "name": "stderr",
     "output_type": "stream",
     "text": [
      "Parallel Processing:  80%|███████▉  | 887/1112 [3:10:15<21:17,  5.68s/it]"
     ]
    },
    {
     "name": "stdout",
     "output_type": "stream",
     "text": [
      "Saved: correlation_matrices/UCLA_1_0051209_func_preproc_corr.npy\n"
     ]
    },
    {
     "name": "stderr",
     "output_type": "stream",
     "text": [
      "Parallel Processing:  80%|███████▉  | 888/1112 [3:10:47<46:08, 12.36s/it]"
     ]
    },
    {
     "name": "stdout",
     "output_type": "stream",
     "text": [
      "Saved: correlation_matrices/UCLA_1_0051210_func_preproc_corr.npy\n"
     ]
    },
    {
     "name": "stderr",
     "output_type": "stream",
     "text": [
      "Parallel Processing:  80%|███████▉  | 889/1112 [3:10:48<34:04,  9.17s/it]"
     ]
    },
    {
     "name": "stdout",
     "output_type": "stream",
     "text": [
      "Saved: correlation_matrices/UCLA_1_0051211_func_preproc_corr.npy\n"
     ]
    },
    {
     "name": "stderr",
     "output_type": "stream",
     "text": [
      "Parallel Processing:  80%|████████  | 890/1112 [3:10:48<24:50,  6.72s/it]"
     ]
    },
    {
     "name": "stdout",
     "output_type": "stream",
     "text": [
      "Saved: correlation_matrices/UCLA_1_0051212_func_preproc_corr.npy\n"
     ]
    },
    {
     "name": "stderr",
     "output_type": "stream",
     "text": [
      "Parallel Processing:  80%|████████  | 891/1112 [3:10:48<18:10,  4.94s/it]"
     ]
    },
    {
     "name": "stdout",
     "output_type": "stream",
     "text": [
      "Saved: correlation_matrices/UCLA_1_0051213_func_preproc_corr.npy\n",
      "Saved: correlation_matrices/UCLA_1_0051215_func_preproc_corr.npy\n"
     ]
    },
    {
     "name": "stderr",
     "output_type": "stream",
     "text": [
      "Parallel Processing:  80%|████████  | 892/1112 [3:11:21<47:00, 12.82s/it]"
     ]
    },
    {
     "name": "stdout",
     "output_type": "stream",
     "text": [
      "Saved: correlation_matrices/UCLA_1_0051214_func_preproc_corr.npy\n",
      "Saved: correlation_matrices/UCLA_1_0051216_func_preproc_corr.npy\n"
     ]
    },
    {
     "name": "stderr",
     "output_type": "stream",
     "text": [
      "Parallel Processing:  80%|████████  | 895/1112 [3:11:22<19:57,  5.52s/it]"
     ]
    },
    {
     "name": "stdout",
     "output_type": "stream",
     "text": [
      "Saved: correlation_matrices/UCLA_1_0051217_func_preproc_corr.npy\n"
     ]
    },
    {
     "name": "stderr",
     "output_type": "stream",
     "text": [
      "Parallel Processing:  81%|████████  | 896/1112 [3:11:52<43:14, 12.01s/it]"
     ]
    },
    {
     "name": "stdout",
     "output_type": "stream",
     "text": [
      "Saved: correlation_matrices/UCLA_1_0051218_func_preproc_corr.npy\n",
      "Saved: correlation_matrices/UCLA_1_0051220_func_preproc_corr.npy\n"
     ]
    },
    {
     "name": "stderr",
     "output_type": "stream",
     "text": [
      "Parallel Processing:  81%|████████  | 897/1112 [3:11:54<32:45,  9.14s/it]"
     ]
    },
    {
     "name": "stdout",
     "output_type": "stream",
     "text": [
      "Saved: correlation_matrices/UCLA_1_0051219_func_preproc_corr.npy\n"
     ]
    },
    {
     "name": "stderr",
     "output_type": "stream",
     "text": [
      "Parallel Processing:  81%|████████  | 899/1112 [3:11:54<18:30,  5.22s/it]"
     ]
    },
    {
     "name": "stdout",
     "output_type": "stream",
     "text": [
      "Saved: correlation_matrices/UCLA_1_0051221_func_preproc_corr.npy\n"
     ]
    },
    {
     "name": "stderr",
     "output_type": "stream",
     "text": [
      "Parallel Processing:  81%|████████  | 900/1112 [3:12:25<40:18, 11.41s/it]"
     ]
    },
    {
     "name": "stdout",
     "output_type": "stream",
     "text": [
      "Saved: correlation_matrices/UCLA_1_0051222_func_preproc_corr.npy\n"
     ]
    },
    {
     "name": "stderr",
     "output_type": "stream",
     "text": [
      "Parallel Processing:  81%|████████  | 901/1112 [3:12:26<30:53,  8.78s/it]"
     ]
    },
    {
     "name": "stdout",
     "output_type": "stream",
     "text": [
      "Saved: correlation_matrices/UCLA_1_0051223_func_preproc_corr.npy\n",
      "Saved: correlation_matrices/UCLA_1_0051224_func_preproc_corr.npy\n"
     ]
    },
    {
     "name": "stderr",
     "output_type": "stream",
     "text": [
      "Parallel Processing:  81%|████████  | 903/1112 [3:12:27<16:34,  4.76s/it]"
     ]
    },
    {
     "name": "stdout",
     "output_type": "stream",
     "text": [
      "Saved: correlation_matrices/UCLA_1_0051225_func_preproc_corr.npy\n"
     ]
    },
    {
     "name": "stderr",
     "output_type": "stream",
     "text": [
      "Parallel Processing:  81%|████████▏ | 904/1112 [3:12:58<42:22, 12.22s/it]"
     ]
    },
    {
     "name": "stdout",
     "output_type": "stream",
     "text": [
      "Saved: correlation_matrices/UCLA_1_0051226_func_preproc_corr.npy\n",
      "Saved: correlation_matrices/UCLA_1_0051229_func_preproc_corr.npy\n",
      "Saved: correlation_matrices/UCLA_1_0051227_func_preproc_corr.npy\n"
     ]
    },
    {
     "name": "stderr",
     "output_type": "stream",
     "text": [
      "Parallel Processing:  81%|████████▏ | 906/1112 [3:13:00<22:37,  6.59s/it]"
     ]
    },
    {
     "name": "stdout",
     "output_type": "stream",
     "text": [
      "Error: HTTP Error 404: Not Found\n",
      "Saved: correlation_matrices/UCLA_1_0051228_func_preproc_corr.npy\n",
      "Error: HTTP Error 404: Not Found\n"
     ]
    },
    {
     "name": "stderr",
     "output_type": "stream",
     "text": [
      "Parallel Processing:  82%|████████▏ | 908/1112 [3:13:29<35:08, 10.34s/it]"
     ]
    },
    {
     "name": "stdout",
     "output_type": "stream",
     "text": [
      "Saved: correlation_matrices/UCLA_1_0051230_func_preproc_corr.npy\n"
     ]
    },
    {
     "name": "stderr",
     "output_type": "stream",
     "text": [
      "Parallel Processing:  82%|████████▏ | 909/1112 [3:13:32<28:34,  8.45s/it]"
     ]
    },
    {
     "name": "stdout",
     "output_type": "stream",
     "text": [
      "Saved: correlation_matrices/UCLA_1_0051235_func_preproc_corr.npy\n",
      "Saved: correlation_matrices/UCLA_1_0051234_func_preproc_corr.npy\n",
      "Saved: correlation_matrices/UCLA_1_0051231_func_preproc_corr.npy\n"
     ]
    },
    {
     "name": "stderr",
     "output_type": "stream",
     "text": [
      "Parallel Processing:  82%|████████▏ | 914/1112 [3:14:01<22:17,  6.75s/it]"
     ]
    },
    {
     "name": "stdout",
     "output_type": "stream",
     "text": [
      "Saved: correlation_matrices/UCLA_1_0051236_func_preproc_corr.npy\n"
     ]
    },
    {
     "name": "stderr",
     "output_type": "stream",
     "text": [
      "Parallel Processing:  82%|████████▏ | 915/1112 [3:14:03<19:44,  6.01s/it]"
     ]
    },
    {
     "name": "stdout",
     "output_type": "stream",
     "text": [
      "Saved: correlation_matrices/UCLA_1_0051237_func_preproc_corr.npy\n"
     ]
    },
    {
     "name": "stderr",
     "output_type": "stream",
     "text": [
      "Parallel Processing:  82%|████████▏ | 916/1112 [3:14:04<16:39,  5.10s/it]"
     ]
    },
    {
     "name": "stdout",
     "output_type": "stream",
     "text": [
      "Saved: correlation_matrices/UCLA_1_0051239_func_preproc_corr.npy\n",
      "Saved: correlation_matrices/UCLA_1_0051238_func_preproc_corr.npy\n",
      "Error: HTTP Error 404: Not Found\n",
      "Error: HTTP Error 404: Not Found\n",
      "Error: HTTP Error 404: Not Found\n",
      "Error: HTTP Error 404: Not Found\n",
      "Error: HTTP Error 404: Not Found\n",
      "Error: HTTP Error 404: Not Found\n"
     ]
    },
    {
     "name": "stderr",
     "output_type": "stream",
     "text": [
      "Parallel Processing:  83%|████████▎ | 918/1112 [3:14:34<27:22,  8.47s/it]"
     ]
    },
    {
     "name": "stdout",
     "output_type": "stream",
     "text": [
      "Saved: correlation_matrices/UCLA_1_0051240_func_preproc_corr.npy\n"
     ]
    },
    {
     "name": "stderr",
     "output_type": "stream",
     "text": [
      "Parallel Processing:  83%|████████▎ | 919/1112 [3:14:35<22:56,  7.13s/it]"
     ]
    },
    {
     "name": "stdout",
     "output_type": "stream",
     "text": [
      "Saved: correlation_matrices/UCLA_1_0051241_func_preproc_corr.npy\n"
     ]
    },
    {
     "name": "stderr",
     "output_type": "stream",
     "text": [
      "Parallel Processing:  83%|████████▎ | 926/1112 [3:14:37<07:49,  2.53s/it]"
     ]
    },
    {
     "name": "stdout",
     "output_type": "stream",
     "text": [
      "Saved: correlation_matrices/UCLA_1_0051248_func_preproc_corr.npy\n"
     ]
    },
    {
     "name": "stderr",
     "output_type": "stream",
     "text": [
      "Parallel Processing:  83%|████████▎ | 927/1112 [3:14:37<07:04,  2.29s/it]"
     ]
    },
    {
     "name": "stdout",
     "output_type": "stream",
     "text": [
      "Saved: correlation_matrices/UCLA_1_0051249_func_preproc_corr.npy\n"
     ]
    },
    {
     "name": "stderr",
     "output_type": "stream",
     "text": [
      "Parallel Processing:  83%|████████▎ | 928/1112 [3:15:04<17:59,  5.87s/it]"
     ]
    },
    {
     "name": "stdout",
     "output_type": "stream",
     "text": [
      "Saved: correlation_matrices/UCLA_1_0051250_func_preproc_corr.npy\n"
     ]
    },
    {
     "name": "stderr",
     "output_type": "stream",
     "text": [
      "Parallel Processing:  84%|████████▎ | 929/1112 [3:15:07<16:31,  5.42s/it]"
     ]
    },
    {
     "name": "stdout",
     "output_type": "stream",
     "text": [
      "Saved: correlation_matrices/UCLA_1_0051251_func_preproc_corr.npy\n",
      "Saved: correlation_matrices/UCLA_1_0051253_func_preproc_corr.npy\n"
     ]
    },
    {
     "name": "stderr",
     "output_type": "stream",
     "text": [
      "Parallel Processing:  84%|████████▎ | 930/1112 [3:15:10<14:31,  4.79s/it]"
     ]
    },
    {
     "name": "stdout",
     "output_type": "stream",
     "text": [
      "Saved: correlation_matrices/UCLA_1_0051252_func_preproc_corr.npy\n"
     ]
    },
    {
     "name": "stderr",
     "output_type": "stream",
     "text": [
      "Parallel Processing:  84%|████████▍ | 932/1112 [3:16:03<37:59, 12.66s/it]"
     ]
    },
    {
     "name": "stdout",
     "output_type": "stream",
     "text": [
      "Saved: correlation_matrices/UCLA_1_0051254_func_preproc_corr.npy\n"
     ]
    },
    {
     "name": "stderr",
     "output_type": "stream",
     "text": [
      "Parallel Processing:  84%|████████▍ | 933/1112 [3:16:07<32:49, 11.00s/it]"
     ]
    },
    {
     "name": "stdout",
     "output_type": "stream",
     "text": [
      "Saved: correlation_matrices/UCLA_1_0051255_func_preproc_corr.npy\n",
      "Error: HTTP Error 404: Not Found\n",
      "Saved: correlation_matrices/UCLA_1_0051256_func_preproc_corr.npy\n"
     ]
    },
    {
     "name": "stderr",
     "output_type": "stream",
     "text": [
      "Parallel Processing:  84%|████████▍ | 935/1112 [3:16:08<19:26,  6.59s/it]"
     ]
    },
    {
     "name": "stdout",
     "output_type": "stream",
     "text": [
      "Saved: correlation_matrices/UCLA_1_0051257_func_preproc_corr.npy\n"
     ]
    },
    {
     "name": "stderr",
     "output_type": "stream",
     "text": [
      "Parallel Processing:  84%|████████▍ | 936/1112 [3:16:34<34:13, 11.67s/it]"
     ]
    },
    {
     "name": "stdout",
     "output_type": "stream",
     "text": [
      "Saved: correlation_matrices/UCLA_1_0051258_func_preproc_corr.npy\n"
     ]
    },
    {
     "name": "stderr",
     "output_type": "stream",
     "text": [
      "Parallel Processing:  84%|████████▍ | 938/1112 [3:16:41<23:13,  8.01s/it]"
     ]
    },
    {
     "name": "stdout",
     "output_type": "stream",
     "text": [
      "Saved: correlation_matrices/UCLA_1_0051260_func_preproc_corr.npy\n"
     ]
    },
    {
     "name": "stderr",
     "output_type": "stream",
     "text": [
      "Parallel Processing:  84%|████████▍ | 939/1112 [3:16:41<18:04,  6.27s/it]"
     ]
    },
    {
     "name": "stdout",
     "output_type": "stream",
     "text": [
      "Saved: correlation_matrices/UCLA_1_0051261_func_preproc_corr.npy\n"
     ]
    },
    {
     "name": "stderr",
     "output_type": "stream",
     "text": [
      "Parallel Processing:  85%|████████▍ | 940/1112 [3:16:41<13:45,  4.80s/it]"
     ]
    },
    {
     "name": "stdout",
     "output_type": "stream",
     "text": [
      "Saved: correlation_matrices/UCLA_1_0051262_func_preproc_corr.npy\n"
     ]
    },
    {
     "name": "stderr",
     "output_type": "stream",
     "text": [
      "Parallel Processing:  85%|████████▍ | 941/1112 [3:17:01<24:36,  8.64s/it]"
     ]
    },
    {
     "name": "stdout",
     "output_type": "stream",
     "text": [
      "Saved: correlation_matrices/UCLA_1_0051263_func_preproc_corr.npy\n"
     ]
    },
    {
     "name": "stderr",
     "output_type": "stream",
     "text": [
      "Parallel Processing:  85%|████████▍ | 942/1112 [3:17:12<26:07,  9.22s/it]"
     ]
    },
    {
     "name": "stdout",
     "output_type": "stream",
     "text": [
      "Saved: correlation_matrices/UCLA_1_0051264_func_preproc_corr.npy\n"
     ]
    },
    {
     "name": "stderr",
     "output_type": "stream",
     "text": [
      "Parallel Processing:  85%|████████▍ | 943/1112 [3:17:13<19:30,  6.93s/it]"
     ]
    },
    {
     "name": "stdout",
     "output_type": "stream",
     "text": [
      "Saved: correlation_matrices/UCLA_1_0051265_func_preproc_corr.npy\n",
      "Saved: correlation_matrices/UCLA_1_0051266_func_preproc_corr.npy\n"
     ]
    },
    {
     "name": "stderr",
     "output_type": "stream",
     "text": [
      "Parallel Processing:  85%|████████▍ | 944/1112 [3:17:13<13:59,  5.00s/it]"
     ]
    },
    {
     "name": "stdout",
     "output_type": "stream",
     "text": [
      "Error: HTTP Error 404: Not Found\n"
     ]
    },
    {
     "name": "stderr",
     "output_type": "stream",
     "text": [
      "Parallel Processing:  85%|████████▍ | 945/1112 [3:17:27<21:35,  7.76s/it]"
     ]
    },
    {
     "name": "stdout",
     "output_type": "stream",
     "text": [
      "Saved: correlation_matrices/UCLA_1_0051267_func_preproc_corr.npy\n"
     ]
    },
    {
     "name": "stderr",
     "output_type": "stream",
     "text": [
      "Parallel Processing:  85%|████████▌ | 946/1112 [3:17:44<28:45, 10.40s/it]"
     ]
    },
    {
     "name": "stdout",
     "output_type": "stream",
     "text": [
      "Saved: correlation_matrices/UCLA_1_0051268_func_preproc_corr.npy\n",
      "Saved: correlation_matrices/UCLA_1_0051271_func_preproc_corr.npy\n"
     ]
    },
    {
     "name": "stderr",
     "output_type": "stream",
     "text": [
      "Parallel Processing:  85%|████████▌ | 947/1112 [3:17:45<20:41,  7.53s/it]"
     ]
    },
    {
     "name": "stdout",
     "output_type": "stream",
     "text": [
      "Saved: correlation_matrices/UCLA_1_0051269_func_preproc_corr.npy\n"
     ]
    },
    {
     "name": "stderr",
     "output_type": "stream",
     "text": [
      "Parallel Processing:  85%|████████▌ | 950/1112 [3:17:53<13:04,  4.84s/it]"
     ]
    },
    {
     "name": "stdout",
     "output_type": "stream",
     "text": [
      "Saved: correlation_matrices/UCLA_1_0051272_func_preproc_corr.npy\n",
      "Saved: correlation_matrices/UCLA_1_0051275_func_preproc_corr.npy\n",
      "Saved: correlation_matrices/UCLA_1_0051274_func_preproc_corr.npy\n"
     ]
    },
    {
     "name": "stderr",
     "output_type": "stream",
     "text": [
      "Parallel Processing:  86%|████████▌ | 951/1112 [3:18:17<23:55,  8.91s/it]"
     ]
    },
    {
     "name": "stdout",
     "output_type": "stream",
     "text": [
      "Saved: correlation_matrices/UCLA_1_0051273_func_preproc_corr.npy\n"
     ]
    },
    {
     "name": "stderr",
     "output_type": "stream",
     "text": [
      "Parallel Processing:  86%|████████▌ | 954/1112 [3:18:21<14:03,  5.34s/it]"
     ]
    },
    {
     "name": "stdout",
     "output_type": "stream",
     "text": [
      "Saved: correlation_matrices/UCLA_1_0051276_func_preproc_corr.npy\n",
      "Saved: correlation_matrices/UCLA_1_0051279_func_preproc_corr.npy\n",
      "Saved: correlation_matrices/UCLA_1_0051277_func_preproc_corr.npy\n"
     ]
    },
    {
     "name": "stderr",
     "output_type": "stream",
     "text": [
      "Parallel Processing:  86%|████████▌ | 956/1112 [3:18:49<19:35,  7.54s/it]"
     ]
    },
    {
     "name": "stdout",
     "output_type": "stream",
     "text": [
      "Saved: correlation_matrices/UCLA_1_0051278_func_preproc_corr.npy\n"
     ]
    },
    {
     "name": "stderr",
     "output_type": "stream",
     "text": [
      "Parallel Processing:  86%|████████▌ | 958/1112 [3:18:51<13:03,  5.09s/it]"
     ]
    },
    {
     "name": "stdout",
     "output_type": "stream",
     "text": [
      "Saved: correlation_matrices/UCLA_1_0051280_func_preproc_corr.npy\n"
     ]
    },
    {
     "name": "stderr",
     "output_type": "stream",
     "text": [
      "Parallel Processing:  86%|████████▌ | 959/1112 [3:19:20<25:49, 10.13s/it]"
     ]
    },
    {
     "name": "stdout",
     "output_type": "stream",
     "text": [
      "Saved: correlation_matrices/UCLA_1_0051281_func_preproc_corr.npy\n"
     ]
    },
    {
     "name": "stderr",
     "output_type": "stream",
     "text": [
      "Parallel Processing:  86%|████████▋ | 960/1112 [3:19:21<20:18,  8.01s/it]"
     ]
    },
    {
     "name": "stdout",
     "output_type": "stream",
     "text": [
      "Saved: correlation_matrices/UCLA_1_0051282_func_preproc_corr.npy\n"
     ]
    },
    {
     "name": "stderr",
     "output_type": "stream",
     "text": [
      "Parallel Processing:  86%|████████▋ | 961/1112 [3:19:21<15:22,  6.11s/it]"
     ]
    },
    {
     "name": "stdout",
     "output_type": "stream",
     "text": [
      "Saved: correlation_matrices/UCLA_2_0051291_func_preproc_corr.npy\n"
     ]
    },
    {
     "name": "stderr",
     "output_type": "stream",
     "text": [
      "Parallel Processing:  87%|████████▋ | 962/1112 [3:19:22<11:47,  4.72s/it]"
     ]
    },
    {
     "name": "stdout",
     "output_type": "stream",
     "text": [
      "Saved: correlation_matrices/UCLA_2_0051292_func_preproc_corr.npy\n"
     ]
    },
    {
     "name": "stderr",
     "output_type": "stream",
     "text": [
      "Parallel Processing:  87%|████████▋ | 963/1112 [3:19:53<29:29, 11.88s/it]"
     ]
    },
    {
     "name": "stdout",
     "output_type": "stream",
     "text": [
      "Saved: correlation_matrices/UCLA_2_0051293_func_preproc_corr.npy\n",
      "Saved: correlation_matrices/UCLA_2_0051295_func_preproc_corr.npy\n",
      "Saved: correlation_matrices/UCLA_2_0051294_func_preproc_corr.npy\n"
     ]
    },
    {
     "name": "stderr",
     "output_type": "stream",
     "text": [
      "Parallel Processing:  87%|████████▋ | 966/1112 [3:19:55<12:22,  5.09s/it]"
     ]
    },
    {
     "name": "stdout",
     "output_type": "stream",
     "text": [
      "Saved: correlation_matrices/UCLA_2_0051296_func_preproc_corr.npy\n"
     ]
    },
    {
     "name": "stderr",
     "output_type": "stream",
     "text": [
      "Parallel Processing:  87%|████████▋ | 967/1112 [3:20:25<26:35, 11.01s/it]"
     ]
    },
    {
     "name": "stdout",
     "output_type": "stream",
     "text": [
      "Saved: correlation_matrices/UCLA_2_0051297_func_preproc_corr.npy\n",
      "Saved: correlation_matrices/UCLA_2_0051299_func_preproc_corr.npy\n",
      "Saved: correlation_matrices/UCLA_2_0051300_func_preproc_corr.npy\n"
     ]
    },
    {
     "name": "stderr",
     "output_type": "stream",
     "text": [
      "Parallel Processing:  87%|████████▋ | 968/1112 [3:20:28<21:16,  8.86s/it]"
     ]
    },
    {
     "name": "stdout",
     "output_type": "stream",
     "text": [
      "Saved: correlation_matrices/UCLA_2_0051298_func_preproc_corr.npy\n"
     ]
    },
    {
     "name": "stderr",
     "output_type": "stream",
     "text": [
      "Parallel Processing:  87%|████████▋ | 971/1112 [3:20:55<21:18,  9.07s/it]"
     ]
    },
    {
     "name": "stdout",
     "output_type": "stream",
     "text": [
      "Saved: correlation_matrices/UCLA_2_0051301_func_preproc_corr.npy\n",
      "Saved: correlation_matrices/UCLA_2_0051303_func_preproc_corr.npy\n"
     ]
    },
    {
     "name": "stderr",
     "output_type": "stream",
     "text": [
      "Parallel Processing:  87%|████████▋ | 972/1112 [3:20:59<18:52,  8.09s/it]"
     ]
    },
    {
     "name": "stdout",
     "output_type": "stream",
     "text": [
      "Saved: correlation_matrices/UCLA_2_0051302_func_preproc_corr.npy\n"
     ]
    },
    {
     "name": "stderr",
     "output_type": "stream",
     "text": [
      "Parallel Processing:  88%|████████▊ | 974/1112 [3:21:00<12:04,  5.25s/it]"
     ]
    },
    {
     "name": "stdout",
     "output_type": "stream",
     "text": [
      "Saved: correlation_matrices/UCLA_2_0051304_func_preproc_corr.npy\n"
     ]
    },
    {
     "name": "stderr",
     "output_type": "stream",
     "text": [
      "Parallel Processing:  88%|████████▊ | 975/1112 [3:21:23<20:28,  8.97s/it]"
     ]
    },
    {
     "name": "stdout",
     "output_type": "stream",
     "text": [
      "Saved: correlation_matrices/UCLA_2_0051305_func_preproc_corr.npy\n"
     ]
    },
    {
     "name": "stderr",
     "output_type": "stream",
     "text": [
      "Parallel Processing:  88%|████████▊ | 976/1112 [3:21:30<19:20,  8.53s/it]"
     ]
    },
    {
     "name": "stdout",
     "output_type": "stream",
     "text": [
      "Saved: correlation_matrices/UCLA_2_0051306_func_preproc_corr.npy\n",
      "Error: HTTP Error 404: Not Found\n"
     ]
    },
    {
     "name": "stderr",
     "output_type": "stream",
     "text": [
      "Parallel Processing:  88%|████████▊ | 977/1112 [3:21:31<14:55,  6.63s/it]"
     ]
    },
    {
     "name": "stdout",
     "output_type": "stream",
     "text": [
      "Saved: correlation_matrices/UCLA_2_0051307_func_preproc_corr.npy\n"
     ]
    },
    {
     "name": "stderr",
     "output_type": "stream",
     "text": [
      "Parallel Processing:  88%|████████▊ | 978/1112 [3:21:32<11:17,  5.06s/it]"
     ]
    },
    {
     "name": "stdout",
     "output_type": "stream",
     "text": [
      "Saved: correlation_matrices/UCLA_2_0051308_func_preproc_corr.npy\n"
     ]
    },
    {
     "name": "stderr",
     "output_type": "stream",
     "text": [
      "Parallel Processing:  88%|████████▊ | 979/1112 [3:21:48<18:08,  8.18s/it]"
     ]
    },
    {
     "name": "stdout",
     "output_type": "stream",
     "text": [
      "Saved: correlation_matrices/UCLA_2_0051309_func_preproc_corr.npy\n",
      "Saved: correlation_matrices/UCLA_2_0051312_func_preproc_corr.npy\n",
      "Saved: correlation_matrices/UCLA_2_0051313_func_preproc_corr.npy\n",
      "Saved: correlation_matrices/UCLA_2_0051311_func_preproc_corr.npy\n"
     ]
    },
    {
     "name": "stderr",
     "output_type": "stream",
     "text": [
      "Parallel Processing:  88%|████████▊ | 984/1112 [3:22:15<12:35,  5.90s/it]"
     ]
    },
    {
     "name": "stdout",
     "output_type": "stream",
     "text": [
      "Saved: correlation_matrices/UCLA_2_0051314_func_preproc_corr.npy\n"
     ]
    },
    {
     "name": "stderr",
     "output_type": "stream",
     "text": [
      "Parallel Processing:  89%|████████▊ | 985/1112 [3:22:35<18:18,  8.65s/it]"
     ]
    },
    {
     "name": "stdout",
     "output_type": "stream",
     "text": [
      "Saved: correlation_matrices/UCLA_2_0051315_func_preproc_corr.npy\n",
      "Saved: correlation_matrices/UCLA_2_0051316_func_preproc_corr.npy\n"
     ]
    },
    {
     "name": "stderr",
     "output_type": "stream",
     "text": [
      "Parallel Processing:  89%|████████▉ | 987/1112 [3:22:36<11:07,  5.34s/it]"
     ]
    },
    {
     "name": "stdout",
     "output_type": "stream",
     "text": [
      "Saved: correlation_matrices/UCLA_2_0051317_func_preproc_corr.npy\n"
     ]
    },
    {
     "name": "stderr",
     "output_type": "stream",
     "text": [
      "Parallel Processing:  89%|████████▉ | 988/1112 [3:22:41<10:42,  5.18s/it]"
     ]
    },
    {
     "name": "stdout",
     "output_type": "stream",
     "text": [
      "Saved: correlation_matrices/MaxMun_a_0051318_func_preproc_corr.npy\n"
     ]
    },
    {
     "name": "stderr",
     "output_type": "stream",
     "text": [
      "Parallel Processing:  89%|████████▉ | 989/1112 [3:23:08<22:17, 10.88s/it]"
     ]
    },
    {
     "name": "stdout",
     "output_type": "stream",
     "text": [
      "Saved: correlation_matrices/MaxMun_a_0051319_func_preproc_corr.npy\n",
      "Saved: correlation_matrices/MaxMun_a_0051321_func_preproc_corr.npy\n",
      "Saved: correlation_matrices/MaxMun_a_0051320_func_preproc_corr.npy\n"
     ]
    },
    {
     "name": "stderr",
     "output_type": "stream",
     "text": [
      "Parallel Processing:  89%|████████▉ | 992/1112 [3:23:10<10:00,  5.00s/it]"
     ]
    },
    {
     "name": "stdout",
     "output_type": "stream",
     "text": [
      "Saved: correlation_matrices/MaxMun_b_0051322_func_preproc_corr.npy\n"
     ]
    },
    {
     "name": "stderr",
     "output_type": "stream",
     "text": [
      "Parallel Processing:  89%|████████▉ | 993/1112 [3:23:38<20:52, 10.52s/it]"
     ]
    },
    {
     "name": "stdout",
     "output_type": "stream",
     "text": [
      "Saved: correlation_matrices/MaxMun_b_0051323_func_preproc_corr.npy\n"
     ]
    },
    {
     "name": "stderr",
     "output_type": "stream",
     "text": [
      "Parallel Processing:  89%|████████▉ | 994/1112 [3:23:39<15:51,  8.06s/it]"
     ]
    },
    {
     "name": "stdout",
     "output_type": "stream",
     "text": [
      "Saved: correlation_matrices/MaxMun_b_0051325_func_preproc_corr.npy\n",
      "Saved: correlation_matrices/MaxMun_b_0051324_func_preproc_corr.npy\n"
     ]
    },
    {
     "name": "stderr",
     "output_type": "stream",
     "text": [
      "Parallel Processing:  90%|████████▉ | 996/1112 [3:23:40<09:25,  4.87s/it]"
     ]
    },
    {
     "name": "stdout",
     "output_type": "stream",
     "text": [
      "Saved: correlation_matrices/MaxMun_b_0051326_func_preproc_corr.npy\n"
     ]
    },
    {
     "name": "stderr",
     "output_type": "stream",
     "text": [
      "Parallel Processing:  90%|████████▉ | 997/1112 [3:24:10<20:14, 10.56s/it]"
     ]
    },
    {
     "name": "stdout",
     "output_type": "stream",
     "text": [
      "Saved: correlation_matrices/MaxMun_b_0051327_func_preproc_corr.npy\n"
     ]
    },
    {
     "name": "stderr",
     "output_type": "stream",
     "text": [
      "Parallel Processing:  90%|████████▉ | 998/1112 [3:24:10<15:23,  8.10s/it]"
     ]
    },
    {
     "name": "stdout",
     "output_type": "stream",
     "text": [
      "Saved: correlation_matrices/MaxMun_c_0051328_func_preproc_corr.npy\n"
     ]
    },
    {
     "name": "stderr",
     "output_type": "stream",
     "text": [
      "Parallel Processing:  90%|████████▉ | 999/1112 [3:24:29<20:13, 10.74s/it]"
     ]
    },
    {
     "name": "stdout",
     "output_type": "stream",
     "text": [
      "Saved: correlation_matrices/MaxMun_d_0051329_func_preproc_corr.npy\n"
     ]
    },
    {
     "name": "stderr",
     "output_type": "stream",
     "text": [
      "Parallel Processing:  90%|████████▉ | 1000/1112 [3:24:30<15:18,  8.20s/it]"
     ]
    },
    {
     "name": "stdout",
     "output_type": "stream",
     "text": [
      "Saved: correlation_matrices/MaxMun_d_0051330_func_preproc_corr.npy\n",
      "Saved: correlation_matrices/MaxMun_c_0051332_func_preproc_corr.npy\n"
     ]
    },
    {
     "name": "stderr",
     "output_type": "stream",
     "text": [
      "Parallel Processing:  90%|█████████ | 1001/1112 [3:24:56<24:10, 13.07s/it]"
     ]
    },
    {
     "name": "stdout",
     "output_type": "stream",
     "text": [
      "Saved: correlation_matrices/MaxMun_d_0051331_func_preproc_corr.npy\n"
     ]
    },
    {
     "name": "stderr",
     "output_type": "stream",
     "text": [
      "Parallel Processing:  90%|█████████ | 1003/1112 [3:24:57<13:53,  7.64s/it]"
     ]
    },
    {
     "name": "stdout",
     "output_type": "stream",
     "text": [
      "Saved: correlation_matrices/MaxMun_c_0051333_func_preproc_corr.npy\n"
     ]
    },
    {
     "name": "stderr",
     "output_type": "stream",
     "text": [
      "Parallel Processing:  90%|█████████ | 1004/1112 [3:24:58<10:35,  5.89s/it]"
     ]
    },
    {
     "name": "stdout",
     "output_type": "stream",
     "text": [
      "Saved: correlation_matrices/MaxMun_c_0051334_func_preproc_corr.npy\n"
     ]
    },
    {
     "name": "stderr",
     "output_type": "stream",
     "text": [
      "Parallel Processing:  90%|█████████ | 1005/1112 [3:25:02<09:45,  5.47s/it]"
     ]
    },
    {
     "name": "stdout",
     "output_type": "stream",
     "text": [
      "Saved: correlation_matrices/MaxMun_c_0051335_func_preproc_corr.npy\n"
     ]
    },
    {
     "name": "stderr",
     "output_type": "stream",
     "text": [
      "Parallel Processing:  90%|█████████ | 1006/1112 [3:25:25<18:11, 10.30s/it]"
     ]
    },
    {
     "name": "stdout",
     "output_type": "stream",
     "text": [
      "Saved: correlation_matrices/MaxMun_c_0051336_func_preproc_corr.npy\n",
      "Saved: correlation_matrices/MaxMun_c_0051339_func_preproc_corr.npy\n"
     ]
    },
    {
     "name": "stderr",
     "output_type": "stream",
     "text": [
      "Parallel Processing:  91%|█████████ | 1007/1112 [3:25:28<14:13,  8.13s/it]"
     ]
    },
    {
     "name": "stdout",
     "output_type": "stream",
     "text": [
      "Saved: correlation_matrices/MaxMun_c_0051338_func_preproc_corr.npy\n"
     ]
    },
    {
     "name": "stderr",
     "output_type": "stream",
     "text": [
      "Parallel Processing:  91%|█████████ | 1009/1112 [3:25:29<08:24,  4.90s/it]"
     ]
    },
    {
     "name": "stdout",
     "output_type": "stream",
     "text": [
      "Saved: correlation_matrices/MaxMun_c_0051340_func_preproc_corr.npy\n"
     ]
    },
    {
     "name": "stderr",
     "output_type": "stream",
     "text": [
      "Parallel Processing:  91%|█████████ | 1010/1112 [3:25:58<18:09, 10.68s/it]"
     ]
    },
    {
     "name": "stdout",
     "output_type": "stream",
     "text": [
      "Saved: correlation_matrices/MaxMun_c_0051341_func_preproc_corr.npy\n"
     ]
    },
    {
     "name": "stderr",
     "output_type": "stream",
     "text": [
      "Parallel Processing:  91%|█████████ | 1011/1112 [3:26:13<19:46, 11.75s/it]"
     ]
    },
    {
     "name": "stdout",
     "output_type": "stream",
     "text": [
      "Saved: correlation_matrices/MaxMun_c_0051342_func_preproc_corr.npy\n"
     ]
    },
    {
     "name": "stderr",
     "output_type": "stream",
     "text": [
      "Parallel Processing:  91%|█████████ | 1012/1112 [3:26:14<14:44,  8.85s/it]"
     ]
    },
    {
     "name": "stdout",
     "output_type": "stream",
     "text": [
      "Saved: correlation_matrices/MaxMun_c_0051343_func_preproc_corr.npy\n"
     ]
    },
    {
     "name": "stderr",
     "output_type": "stream",
     "text": [
      "Parallel Processing:  91%|█████████ | 1013/1112 [3:26:15<10:59,  6.66s/it]"
     ]
    },
    {
     "name": "stdout",
     "output_type": "stream",
     "text": [
      "Saved: correlation_matrices/MaxMun_c_0051344_func_preproc_corr.npy\n"
     ]
    },
    {
     "name": "stderr",
     "output_type": "stream",
     "text": [
      "Parallel Processing:  91%|█████████ | 1014/1112 [3:26:48<23:06, 14.15s/it]"
     ]
    },
    {
     "name": "stdout",
     "output_type": "stream",
     "text": [
      "Saved: correlation_matrices/MaxMun_c_0051345_func_preproc_corr.npy\n"
     ]
    },
    {
     "name": "stderr",
     "output_type": "stream",
     "text": [
      "Parallel Processing:  91%|█████████▏| 1015/1112 [3:26:55<19:23, 11.99s/it]"
     ]
    },
    {
     "name": "stdout",
     "output_type": "stream",
     "text": [
      "Saved: correlation_matrices/MaxMun_c_0051346_func_preproc_corr.npy\n"
     ]
    },
    {
     "name": "stderr",
     "output_type": "stream",
     "text": [
      "Parallel Processing:  91%|█████████▏| 1016/1112 [3:26:55<13:47,  8.62s/it]"
     ]
    },
    {
     "name": "stdout",
     "output_type": "stream",
     "text": [
      "Saved: correlation_matrices/MaxMun_c_0051347_func_preproc_corr.npy\n"
     ]
    },
    {
     "name": "stderr",
     "output_type": "stream",
     "text": [
      "Parallel Processing:  91%|█████████▏| 1017/1112 [3:26:56<10:05,  6.37s/it]"
     ]
    },
    {
     "name": "stdout",
     "output_type": "stream",
     "text": [
      "Saved: correlation_matrices/MaxMun_c_0051348_func_preproc_corr.npy\n"
     ]
    },
    {
     "name": "stderr",
     "output_type": "stream",
     "text": [
      "Parallel Processing:  92%|█████████▏| 1018/1112 [3:27:39<26:42, 17.05s/it]"
     ]
    },
    {
     "name": "stdout",
     "output_type": "stream",
     "text": [
      "Saved: correlation_matrices/MaxMun_d_0051349_func_preproc_corr.npy\n",
      "Saved: correlation_matrices/MaxMun_d_0051352_func_preproc_corr.npy\n",
      "Saved: correlation_matrices/MaxMun_d_0051351_func_preproc_corr.npy\n"
     ]
    },
    {
     "name": "stderr",
     "output_type": "stream",
     "text": [
      "Parallel Processing:  92%|█████████▏| 1019/1112 [3:27:52<24:45, 15.97s/it]"
     ]
    },
    {
     "name": "stdout",
     "output_type": "stream",
     "text": [
      "Saved: correlation_matrices/MaxMun_d_0051350_func_preproc_corr.npy\n"
     ]
    },
    {
     "name": "stderr",
     "output_type": "stream",
     "text": [
      "Parallel Processing:  92%|█████████▏| 1022/1112 [3:28:24<19:28, 12.98s/it]"
     ]
    },
    {
     "name": "stdout",
     "output_type": "stream",
     "text": [
      "Saved: correlation_matrices/MaxMun_d_0051353_func_preproc_corr.npy\n",
      "Saved: correlation_matrices/MaxMun_d_0051355_func_preproc_corr.npy\n"
     ]
    },
    {
     "name": "stderr",
     "output_type": "stream",
     "text": [
      "Parallel Processing:  92%|█████████▏| 1023/1112 [3:28:43<21:01, 14.17s/it]"
     ]
    },
    {
     "name": "stdout",
     "output_type": "stream",
     "text": [
      "Saved: correlation_matrices/MaxMun_d_0051354_func_preproc_corr.npy\n"
     ]
    },
    {
     "name": "stderr",
     "output_type": "stream",
     "text": [
      "Parallel Processing:  92%|█████████▏| 1025/1112 [3:28:43<12:59,  8.96s/it]"
     ]
    },
    {
     "name": "stdout",
     "output_type": "stream",
     "text": [
      "Saved: correlation_matrices/MaxMun_d_0051356_func_preproc_corr.npy\n"
     ]
    },
    {
     "name": "stderr",
     "output_type": "stream",
     "text": [
      "Parallel Processing:  92%|█████████▏| 1026/1112 [3:29:08<17:36, 12.28s/it]"
     ]
    },
    {
     "name": "stdout",
     "output_type": "stream",
     "text": [
      "Saved: correlation_matrices/MaxMun_d_0051357_func_preproc_corr.npy\n",
      "Saved: correlation_matrices/MaxMun_d_0051360_func_preproc_corr.npy\n"
     ]
    },
    {
     "name": "stderr",
     "output_type": "stream",
     "text": [
      "Parallel Processing:  92%|█████████▏| 1027/1112 [3:29:35<22:09, 15.64s/it]"
     ]
    },
    {
     "name": "stdout",
     "output_type": "stream",
     "text": [
      "Saved: correlation_matrices/MaxMun_d_0051358_func_preproc_corr.npy\n"
     ]
    },
    {
     "name": "stderr",
     "output_type": "stream",
     "text": [
      "Parallel Processing:  92%|█████████▏| 1028/1112 [3:29:35<16:35, 11.85s/it]"
     ]
    },
    {
     "name": "stdout",
     "output_type": "stream",
     "text": [
      "Saved: correlation_matrices/MaxMun_d_0051359_func_preproc_corr.npy\n"
     ]
    },
    {
     "name": "stderr",
     "output_type": "stream",
     "text": [
      "Parallel Processing:  93%|█████████▎| 1030/1112 [3:29:51<13:50, 10.13s/it]"
     ]
    },
    {
     "name": "stdout",
     "output_type": "stream",
     "text": [
      "Saved: correlation_matrices/MaxMun_d_0051361_func_preproc_corr.npy\n"
     ]
    },
    {
     "name": "stderr",
     "output_type": "stream",
     "text": [
      "Parallel Processing:  93%|█████████▎| 1031/1112 [3:30:05<14:55, 11.06s/it]"
     ]
    },
    {
     "name": "stdout",
     "output_type": "stream",
     "text": [
      "Saved: correlation_matrices/MaxMun_a_0051362_func_preproc_corr.npy\n",
      "Saved: correlation_matrices/MaxMun_a_0051364_func_preproc_corr.npy\n",
      "Error: HTTP Error 404: Not Found\n"
     ]
    },
    {
     "name": "stderr",
     "output_type": "stream",
     "text": [
      "Parallel Processing:  93%|█████████▎| 1032/1112 [3:30:06<11:20,  8.51s/it]"
     ]
    },
    {
     "name": "stdout",
     "output_type": "stream",
     "text": [
      "Saved: correlation_matrices/MaxMun_a_0051363_func_preproc_corr.npy\n",
      "Error: HTTP Error 404: Not Found\n",
      "Error: HTTP Error 404: Not Found\n",
      "Error: HTTP Error 404: Not Found\n",
      "Error: HTTP Error 404: Not Found\n"
     ]
    },
    {
     "name": "stderr",
     "output_type": "stream",
     "text": [
      "Parallel Processing:  93%|█████████▎| 1034/1112 [3:30:14<08:39,  6.65s/it]"
     ]
    },
    {
     "name": "stdout",
     "output_type": "stream",
     "text": [
      "Saved: correlation_matrices/MaxMun_a_0051365_func_preproc_corr.npy\n"
     ]
    },
    {
     "name": "stderr",
     "output_type": "stream",
     "text": [
      "Parallel Processing:  93%|█████████▎| 1038/1112 [3:30:43<08:39,  7.03s/it]"
     ]
    },
    {
     "name": "stdout",
     "output_type": "stream",
     "text": [
      "Saved: correlation_matrices/MaxMun_a_0051369_func_preproc_corr.npy\n"
     ]
    },
    {
     "name": "stderr",
     "output_type": "stream",
     "text": [
      "Parallel Processing:  93%|█████████▎| 1039/1112 [3:30:43<07:14,  5.95s/it]"
     ]
    },
    {
     "name": "stdout",
     "output_type": "stream",
     "text": [
      "Saved: correlation_matrices/MaxMun_a_0051370_func_preproc_corr.npy\n"
     ]
    },
    {
     "name": "stderr",
     "output_type": "stream",
     "text": [
      "Parallel Processing:  94%|█████████▎| 1042/1112 [3:30:45<04:20,  3.72s/it]"
     ]
    },
    {
     "name": "stdout",
     "output_type": "stream",
     "text": [
      "Saved: correlation_matrices/MaxMun_a_0051373_func_preproc_corr.npy\n"
     ]
    },
    {
     "name": "stderr",
     "output_type": "stream",
     "text": [
      "/usr/local/lib/python3.11/dist-packages/numpy/lib/function_base.py:2897: RuntimeWarning: divide by zero encountered in divide\n",
      "  c /= stddev[:, None]\n",
      "/usr/local/lib/python3.11/dist-packages/numpy/lib/function_base.py:2897: RuntimeWarning: invalid value encountered in divide\n",
      "  c /= stddev[:, None]\n",
      "/usr/local/lib/python3.11/dist-packages/numpy/lib/function_base.py:2898: RuntimeWarning: divide by zero encountered in divide\n",
      "  c /= stddev[None, :]\n",
      "/usr/local/lib/python3.11/dist-packages/numpy/lib/function_base.py:2898: RuntimeWarning: invalid value encountered in divide\n",
      "  c /= stddev[None, :]\n",
      "Parallel Processing:  94%|█████████▍| 1043/1112 [3:30:50<04:37,  4.02s/it]"
     ]
    },
    {
     "name": "stdout",
     "output_type": "stream",
     "text": [
      "Saved: correlation_matrices/Caltech_0051456_func_preproc_corr.npy\n",
      "Saved: correlation_matrices/Caltech_0051458_func_preproc_corr.npy\n"
     ]
    },
    {
     "name": "stderr",
     "output_type": "stream",
     "text": [
      "Parallel Processing:  94%|█████████▍| 1044/1112 [3:31:16<09:09,  8.07s/it]"
     ]
    },
    {
     "name": "stdout",
     "output_type": "stream",
     "text": [
      "Saved: correlation_matrices/Caltech_0051457_func_preproc_corr.npy\n",
      "Saved: correlation_matrices/Caltech_0051460_func_preproc_corr.npy\n"
     ]
    },
    {
     "name": "stderr",
     "output_type": "stream",
     "text": [
      "Parallel Processing:  94%|█████████▍| 1046/1112 [3:31:26<07:45,  7.05s/it]"
     ]
    },
    {
     "name": "stdout",
     "output_type": "stream",
     "text": [
      "Saved: correlation_matrices/Caltech_0051459_func_preproc_corr.npy\n"
     ]
    },
    {
     "name": "stderr",
     "output_type": "stream",
     "text": [
      "Parallel Processing:  94%|█████████▍| 1048/1112 [3:31:47<08:46,  8.22s/it]"
     ]
    },
    {
     "name": "stdout",
     "output_type": "stream",
     "text": [
      "Saved: correlation_matrices/Caltech_0051461_func_preproc_corr.npy\n"
     ]
    },
    {
     "name": "stderr",
     "output_type": "stream",
     "text": [
      "Parallel Processing:  94%|█████████▍| 1049/1112 [3:31:49<07:17,  6.94s/it]"
     ]
    },
    {
     "name": "stdout",
     "output_type": "stream",
     "text": [
      "Saved: correlation_matrices/Caltech_0051462_func_preproc_corr.npy\n"
     ]
    },
    {
     "name": "stderr",
     "output_type": "stream",
     "text": [
      "Parallel Processing:  94%|█████████▍| 1050/1112 [3:31:57<07:26,  7.20s/it]"
     ]
    },
    {
     "name": "stdout",
     "output_type": "stream",
     "text": [
      "Saved: correlation_matrices/Caltech_0051463_func_preproc_corr.npy\n"
     ]
    },
    {
     "name": "stderr",
     "output_type": "stream",
     "text": [
      "/usr/local/lib/python3.11/dist-packages/numpy/lib/function_base.py:2897: RuntimeWarning: invalid value encountered in divide\n",
      "  c /= stddev[:, None]\n",
      "/usr/local/lib/python3.11/dist-packages/numpy/lib/function_base.py:2898: RuntimeWarning: divide by zero encountered in divide\n",
      "  c /= stddev[None, :]\n",
      "/usr/local/lib/python3.11/dist-packages/numpy/lib/function_base.py:2898: RuntimeWarning: invalid value encountered in divide\n",
      "  c /= stddev[None, :]\n",
      "Parallel Processing:  95%|█████████▍| 1051/1112 [3:31:58<05:49,  5.72s/it]"
     ]
    },
    {
     "name": "stdout",
     "output_type": "stream",
     "text": [
      "Saved: correlation_matrices/Caltech_0051464_func_preproc_corr.npy\n",
      "Saved: correlation_matrices/Caltech_0051466_func_preproc_corr.npy\n"
     ]
    },
    {
     "name": "stderr",
     "output_type": "stream",
     "text": [
      "Parallel Processing:  95%|█████████▍| 1052/1112 [3:32:23<10:43, 10.72s/it]"
     ]
    },
    {
     "name": "stdout",
     "output_type": "stream",
     "text": [
      "Saved: correlation_matrices/Caltech_0051465_func_preproc_corr.npy\n"
     ]
    },
    {
     "name": "stderr",
     "output_type": "stream",
     "text": [
      "Parallel Processing:  95%|█████████▍| 1054/1112 [3:32:28<07:01,  7.27s/it]"
     ]
    },
    {
     "name": "stdout",
     "output_type": "stream",
     "text": [
      "Saved: correlation_matrices/Caltech_0051467_func_preproc_corr.npy\n"
     ]
    },
    {
     "name": "stderr",
     "output_type": "stream",
     "text": [
      "Parallel Processing:  95%|█████████▍| 1055/1112 [3:32:29<05:23,  5.68s/it]"
     ]
    },
    {
     "name": "stdout",
     "output_type": "stream",
     "text": [
      "Saved: correlation_matrices/Caltech_0051468_func_preproc_corr.npy\n"
     ]
    },
    {
     "name": "stderr",
     "output_type": "stream",
     "text": [
      "/usr/local/lib/python3.11/dist-packages/numpy/lib/function_base.py:2897: RuntimeWarning: divide by zero encountered in divide\n",
      "  c /= stddev[:, None]\n",
      "/usr/local/lib/python3.11/dist-packages/numpy/lib/function_base.py:2897: RuntimeWarning: invalid value encountered in divide\n",
      "  c /= stddev[:, None]\n",
      "/usr/local/lib/python3.11/dist-packages/numpy/lib/function_base.py:2898: RuntimeWarning: divide by zero encountered in divide\n",
      "  c /= stddev[None, :]\n",
      "/usr/local/lib/python3.11/dist-packages/numpy/lib/function_base.py:2898: RuntimeWarning: invalid value encountered in divide\n",
      "  c /= stddev[None, :]\n",
      "Parallel Processing:  95%|█████████▍| 1056/1112 [3:32:55<10:06, 10.82s/it]"
     ]
    },
    {
     "name": "stdout",
     "output_type": "stream",
     "text": [
      "Saved: correlation_matrices/Caltech_0051469_func_preproc_corr.npy\n"
     ]
    },
    {
     "name": "stderr",
     "output_type": "stream",
     "text": [
      "Parallel Processing:  95%|█████████▌| 1057/1112 [3:32:58<07:57,  8.68s/it]"
     ]
    },
    {
     "name": "stdout",
     "output_type": "stream",
     "text": [
      "Saved: correlation_matrices/Caltech_0051470_func_preproc_corr.npy\n",
      "Saved: correlation_matrices/Caltech_0051472_func_preproc_corr.npy\n"
     ]
    },
    {
     "name": "stderr",
     "output_type": "stream",
     "text": [
      "Parallel Processing:  95%|█████████▌| 1058/1112 [3:33:02<06:46,  7.53s/it]"
     ]
    },
    {
     "name": "stdout",
     "output_type": "stream",
     "text": [
      "Error: HTTP Error 404: Not Found\n",
      "Saved: correlation_matrices/Caltech_0051471_func_preproc_corr.npy\n"
     ]
    },
    {
     "name": "stderr",
     "output_type": "stream",
     "text": [
      "Parallel Processing:  95%|█████████▌| 1060/1112 [3:33:27<08:21,  9.64s/it]"
     ]
    },
    {
     "name": "stdout",
     "output_type": "stream",
     "text": [
      "Saved: correlation_matrices/Caltech_0051473_func_preproc_corr.npy\n"
     ]
    },
    {
     "name": "stderr",
     "output_type": "stream",
     "text": [
      "Parallel Processing:  95%|█████████▌| 1061/1112 [3:33:31<07:05,  8.34s/it]"
     ]
    },
    {
     "name": "stdout",
     "output_type": "stream",
     "text": [
      "Saved: correlation_matrices/Caltech_0051474_func_preproc_corr.npy\n"
     ]
    },
    {
     "name": "stderr",
     "output_type": "stream",
     "text": [
      "Parallel Processing:  96%|█████████▌| 1063/1112 [3:33:37<05:02,  6.18s/it]"
     ]
    },
    {
     "name": "stdout",
     "output_type": "stream",
     "text": [
      "Saved: correlation_matrices/Caltech_0051476_func_preproc_corr.npy\n",
      "Saved: correlation_matrices/Caltech_0051477_func_preproc_corr.npy\n"
     ]
    },
    {
     "name": "stderr",
     "output_type": "stream",
     "text": [
      "/usr/local/lib/python3.11/dist-packages/numpy/lib/function_base.py:2897: RuntimeWarning: divide by zero encountered in divide\n",
      "  c /= stddev[:, None]\n",
      "/usr/local/lib/python3.11/dist-packages/numpy/lib/function_base.py:2897: RuntimeWarning: invalid value encountered in divide\n",
      "  c /= stddev[:, None]\n",
      "/usr/local/lib/python3.11/dist-packages/numpy/lib/function_base.py:2898: RuntimeWarning: divide by zero encountered in divide\n",
      "  c /= stddev[None, :]\n",
      "/usr/local/lib/python3.11/dist-packages/numpy/lib/function_base.py:2898: RuntimeWarning: invalid value encountered in divide\n",
      "  c /= stddev[None, :]\n",
      "Parallel Processing:  96%|█████████▌| 1065/1112 [3:33:53<05:18,  6.78s/it]"
     ]
    },
    {
     "name": "stdout",
     "output_type": "stream",
     "text": [
      "Saved: correlation_matrices/Caltech_0051478_func_preproc_corr.npy\n"
     ]
    },
    {
     "name": "stderr",
     "output_type": "stream",
     "text": [
      "Parallel Processing:  96%|█████████▌| 1066/1112 [3:34:07<06:32,  8.53s/it]"
     ]
    },
    {
     "name": "stdout",
     "output_type": "stream",
     "text": [
      "Saved: correlation_matrices/Caltech_0051479_func_preproc_corr.npy\n",
      "Saved: correlation_matrices/Caltech_0051481_func_preproc_corr.npy\n"
     ]
    },
    {
     "name": "stderr",
     "output_type": "stream",
     "text": [
      "Parallel Processing:  96%|█████████▌| 1067/1112 [3:34:12<05:50,  7.79s/it]"
     ]
    },
    {
     "name": "stdout",
     "output_type": "stream",
     "text": [
      "Saved: correlation_matrices/Caltech_0051480_func_preproc_corr.npy\n"
     ]
    },
    {
     "name": "stderr",
     "output_type": "stream",
     "text": [
      "Parallel Processing:  96%|█████████▌| 1069/1112 [3:34:24<05:01,  7.01s/it]"
     ]
    },
    {
     "name": "stdout",
     "output_type": "stream",
     "text": [
      "Saved: correlation_matrices/Caltech_0051482_func_preproc_corr.npy\n"
     ]
    },
    {
     "name": "stderr",
     "output_type": "stream",
     "text": [
      "Parallel Processing:  96%|█████████▌| 1070/1112 [3:34:38<06:00,  8.59s/it]"
     ]
    },
    {
     "name": "stdout",
     "output_type": "stream",
     "text": [
      "Saved: correlation_matrices/Caltech_0051483_func_preproc_corr.npy\n",
      "Saved: correlation_matrices/Caltech_0051485_func_preproc_corr.npy\n"
     ]
    },
    {
     "name": "stderr",
     "output_type": "stream",
     "text": [
      "Parallel Processing:  96%|█████████▋| 1071/1112 [3:34:47<05:57,  8.72s/it]"
     ]
    },
    {
     "name": "stdout",
     "output_type": "stream",
     "text": [
      "Saved: correlation_matrices/Caltech_0051484_func_preproc_corr.npy\n"
     ]
    },
    {
     "name": "stderr",
     "output_type": "stream",
     "text": [
      "Parallel Processing:  96%|█████████▋| 1073/1112 [3:34:56<04:29,  6.91s/it]"
     ]
    },
    {
     "name": "stdout",
     "output_type": "stream",
     "text": [
      "Saved: correlation_matrices/Caltech_0051486_func_preproc_corr.npy\n"
     ]
    },
    {
     "name": "stderr",
     "output_type": "stream",
     "text": [
      "Parallel Processing:  97%|█████████▋| 1074/1112 [3:35:09<05:21,  8.45s/it]"
     ]
    },
    {
     "name": "stdout",
     "output_type": "stream",
     "text": [
      "Saved: correlation_matrices/Caltech_0051487_func_preproc_corr.npy\n"
     ]
    },
    {
     "name": "stderr",
     "output_type": "stream",
     "text": [
      "Parallel Processing:  97%|█████████▋| 1075/1112 [3:35:20<05:27,  8.86s/it]"
     ]
    },
    {
     "name": "stdout",
     "output_type": "stream",
     "text": [
      "Saved: correlation_matrices/Caltech_0051488_func_preproc_corr.npy\n"
     ]
    },
    {
     "name": "stderr",
     "output_type": "stream",
     "text": [
      "Parallel Processing:  97%|█████████▋| 1076/1112 [3:35:21<04:04,  6.80s/it]"
     ]
    },
    {
     "name": "stdout",
     "output_type": "stream",
     "text": [
      "Saved: correlation_matrices/Caltech_0051489_func_preproc_corr.npy\n"
     ]
    },
    {
     "name": "stderr",
     "output_type": "stream",
     "text": [
      "Parallel Processing:  97%|█████████▋| 1077/1112 [3:35:27<03:53,  6.68s/it]"
     ]
    },
    {
     "name": "stdout",
     "output_type": "stream",
     "text": [
      "Saved: correlation_matrices/Caltech_0051490_func_preproc_corr.npy\n"
     ]
    },
    {
     "name": "stderr",
     "output_type": "stream",
     "text": [
      "Parallel Processing:  97%|█████████▋| 1078/1112 [3:35:42<05:06,  9.03s/it]"
     ]
    },
    {
     "name": "stdout",
     "output_type": "stream",
     "text": [
      "Saved: correlation_matrices/Caltech_0051491_func_preproc_corr.npy\n"
     ]
    },
    {
     "name": "stderr",
     "output_type": "stream",
     "text": [
      "Parallel Processing:  97%|█████████▋| 1079/1112 [3:35:53<05:18,  9.64s/it]"
     ]
    },
    {
     "name": "stdout",
     "output_type": "stream",
     "text": [
      "Saved: correlation_matrices/Caltech_0051492_func_preproc_corr.npy\n"
     ]
    },
    {
     "name": "stderr",
     "output_type": "stream",
     "text": [
      "Parallel Processing:  97%|█████████▋| 1080/1112 [3:35:55<03:55,  7.35s/it]"
     ]
    },
    {
     "name": "stdout",
     "output_type": "stream",
     "text": [
      "Saved: correlation_matrices/Caltech_0051493_func_preproc_corr.npy\n"
     ]
    },
    {
     "name": "stderr",
     "output_type": "stream",
     "text": [
      "Parallel Processing:  97%|█████████▋| 1081/1112 [3:36:12<05:15, 10.19s/it]"
     ]
    },
    {
     "name": "stdout",
     "output_type": "stream",
     "text": [
      "Saved: correlation_matrices/SBL_0051556_func_preproc_corr.npy\n"
     ]
    },
    {
     "name": "stderr",
     "output_type": "stream",
     "text": [
      "Parallel Processing:  97%|█████████▋| 1082/1112 [3:36:28<05:54, 11.82s/it]"
     ]
    },
    {
     "name": "stdout",
     "output_type": "stream",
     "text": [
      "Saved: correlation_matrices/SBL_0051557_func_preproc_corr.npy\n"
     ]
    },
    {
     "name": "stderr",
     "output_type": "stream",
     "text": [
      "Parallel Processing:  97%|█████████▋| 1083/1112 [3:36:42<06:02, 12.51s/it]"
     ]
    },
    {
     "name": "stdout",
     "output_type": "stream",
     "text": [
      "Saved: correlation_matrices/SBL_0051558_func_preproc_corr.npy\n"
     ]
    },
    {
     "name": "stderr",
     "output_type": "stream",
     "text": [
      "Parallel Processing:  97%|█████████▋| 1084/1112 [3:36:47<04:45, 10.21s/it]"
     ]
    },
    {
     "name": "stdout",
     "output_type": "stream",
     "text": [
      "Saved: correlation_matrices/SBL_0051559_func_preproc_corr.npy\n"
     ]
    },
    {
     "name": "stderr",
     "output_type": "stream",
     "text": [
      "Parallel Processing:  98%|█████████▊| 1085/1112 [3:37:19<07:35, 16.86s/it]"
     ]
    },
    {
     "name": "stdout",
     "output_type": "stream",
     "text": [
      "Saved: correlation_matrices/SBL_0051560_func_preproc_corr.npy\n"
     ]
    },
    {
     "name": "stderr",
     "output_type": "stream",
     "text": [
      "Parallel Processing:  98%|█████████▊| 1086/1112 [3:37:41<07:56, 18.35s/it]"
     ]
    },
    {
     "name": "stdout",
     "output_type": "stream",
     "text": [
      "Saved: correlation_matrices/SBL_0051561_func_preproc_corr.npy\n"
     ]
    },
    {
     "name": "stderr",
     "output_type": "stream",
     "text": [
      "Parallel Processing:  98%|█████████▊| 1087/1112 [3:37:47<06:09, 14.79s/it]"
     ]
    },
    {
     "name": "stdout",
     "output_type": "stream",
     "text": [
      "Saved: correlation_matrices/SBL_0051562_func_preproc_corr.npy\n"
     ]
    },
    {
     "name": "stderr",
     "output_type": "stream",
     "text": [
      "Parallel Processing:  98%|█████████▊| 1088/1112 [3:37:52<04:44, 11.87s/it]"
     ]
    },
    {
     "name": "stdout",
     "output_type": "stream",
     "text": [
      "Saved: correlation_matrices/SBL_0051563_func_preproc_corr.npy\n"
     ]
    },
    {
     "name": "stderr",
     "output_type": "stream",
     "text": [
      "Parallel Processing:  98%|█████████▊| 1089/1112 [3:38:04<04:31, 11.81s/it]"
     ]
    },
    {
     "name": "stdout",
     "output_type": "stream",
     "text": [
      "Saved: correlation_matrices/SBL_0051564_func_preproc_corr.npy\n"
     ]
    },
    {
     "name": "stderr",
     "output_type": "stream",
     "text": [
      "Parallel Processing:  98%|█████████▊| 1090/1112 [3:38:27<05:33, 15.15s/it]"
     ]
    },
    {
     "name": "stdout",
     "output_type": "stream",
     "text": [
      "Saved: correlation_matrices/SBL_0051565_func_preproc_corr.npy\n"
     ]
    },
    {
     "name": "stderr",
     "output_type": "stream",
     "text": [
      "Parallel Processing:  98%|█████████▊| 1091/1112 [3:38:32<04:14, 12.13s/it]"
     ]
    },
    {
     "name": "stdout",
     "output_type": "stream",
     "text": [
      "Saved: correlation_matrices/SBL_0051566_func_preproc_corr.npy\n"
     ]
    },
    {
     "name": "stderr",
     "output_type": "stream",
     "text": [
      "Parallel Processing:  98%|█████████▊| 1092/1112 [3:38:39<03:29, 10.46s/it]"
     ]
    },
    {
     "name": "stdout",
     "output_type": "stream",
     "text": [
      "Saved: correlation_matrices/SBL_0051567_func_preproc_corr.npy\n"
     ]
    },
    {
     "name": "stderr",
     "output_type": "stream",
     "text": [
      "Parallel Processing:  98%|█████████▊| 1093/1112 [3:38:48<03:12, 10.12s/it]"
     ]
    },
    {
     "name": "stdout",
     "output_type": "stream",
     "text": [
      "Saved: correlation_matrices/SBL_0051568_func_preproc_corr.npy\n"
     ]
    },
    {
     "name": "stderr",
     "output_type": "stream",
     "text": [
      "Parallel Processing:  98%|█████████▊| 1094/1112 [3:39:12<04:15, 14.20s/it]"
     ]
    },
    {
     "name": "stdout",
     "output_type": "stream",
     "text": [
      "Saved: correlation_matrices/SBL_0051569_func_preproc_corr.npy\n"
     ]
    },
    {
     "name": "stderr",
     "output_type": "stream",
     "text": [
      "Parallel Processing:  98%|█████████▊| 1095/1112 [3:39:18<03:19, 11.75s/it]"
     ]
    },
    {
     "name": "stdout",
     "output_type": "stream",
     "text": [
      "Saved: correlation_matrices/SBL_0051570_func_preproc_corr.npy\n"
     ]
    },
    {
     "name": "stderr",
     "output_type": "stream",
     "text": [
      "Parallel Processing:  99%|█████████▊| 1096/1112 [3:39:23<02:35,  9.73s/it]"
     ]
    },
    {
     "name": "stdout",
     "output_type": "stream",
     "text": [
      "Saved: correlation_matrices/SBL_0051571_func_preproc_corr.npy\n"
     ]
    },
    {
     "name": "stderr",
     "output_type": "stream",
     "text": [
      "Parallel Processing:  99%|█████████▊| 1097/1112 [3:39:31<02:19,  9.31s/it]"
     ]
    },
    {
     "name": "stdout",
     "output_type": "stream",
     "text": [
      "Saved: correlation_matrices/SBL_0051572_func_preproc_corr.npy\n"
     ]
    },
    {
     "name": "stderr",
     "output_type": "stream",
     "text": [
      "Parallel Processing:  99%|█████████▊| 1098/1112 [3:39:55<03:13, 13.81s/it]"
     ]
    },
    {
     "name": "stdout",
     "output_type": "stream",
     "text": [
      "Saved: correlation_matrices/SBL_0051573_func_preproc_corr.npy\n"
     ]
    },
    {
     "name": "stderr",
     "output_type": "stream",
     "text": [
      "Parallel Processing:  99%|█████████▉| 1099/1112 [3:40:04<02:40, 12.37s/it]"
     ]
    },
    {
     "name": "stdout",
     "output_type": "stream",
     "text": [
      "Saved: correlation_matrices/SBL_0051574_func_preproc_corr.npy\n"
     ]
    },
    {
     "name": "stderr",
     "output_type": "stream",
     "text": [
      "Parallel Processing:  99%|█████████▉| 1100/1112 [3:40:07<01:52,  9.35s/it]"
     ]
    },
    {
     "name": "stdout",
     "output_type": "stream",
     "text": [
      "Saved: correlation_matrices/SBL_0051575_func_preproc_corr.npy\n"
     ]
    },
    {
     "name": "stderr",
     "output_type": "stream",
     "text": [
      "Parallel Processing:  99%|█████████▉| 1101/1112 [3:40:14<01:35,  8.73s/it]"
     ]
    },
    {
     "name": "stdout",
     "output_type": "stream",
     "text": [
      "Saved: correlation_matrices/SBL_0051576_func_preproc_corr.npy\n"
     ]
    },
    {
     "name": "stderr",
     "output_type": "stream",
     "text": [
      "Parallel Processing:  99%|█████████▉| 1102/1112 [3:40:38<02:13, 13.33s/it]"
     ]
    },
    {
     "name": "stdout",
     "output_type": "stream",
     "text": [
      "Saved: correlation_matrices/SBL_0051577_func_preproc_corr.npy\n"
     ]
    },
    {
     "name": "stderr",
     "output_type": "stream",
     "text": [
      "Parallel Processing:  99%|█████████▉| 1103/1112 [3:40:51<01:59, 13.23s/it]"
     ]
    },
    {
     "name": "stdout",
     "output_type": "stream",
     "text": [
      "Saved: correlation_matrices/SBL_0051578_func_preproc_corr.npy\n"
     ]
    },
    {
     "name": "stderr",
     "output_type": "stream",
     "text": [
      "Parallel Processing:  99%|█████████▉| 1104/1112 [3:40:53<01:18,  9.86s/it]"
     ]
    },
    {
     "name": "stdout",
     "output_type": "stream",
     "text": [
      "Saved: correlation_matrices/SBL_0051579_func_preproc_corr.npy\n"
     ]
    },
    {
     "name": "stderr",
     "output_type": "stream",
     "text": [
      "Parallel Processing:  99%|█████████▉| 1105/1112 [3:40:58<00:57,  8.25s/it]"
     ]
    },
    {
     "name": "stdout",
     "output_type": "stream",
     "text": [
      "Saved: correlation_matrices/SBL_0051580_func_preproc_corr.npy\n"
     ]
    },
    {
     "name": "stderr",
     "output_type": "stream",
     "text": [
      "Parallel Processing:  99%|█████████▉| 1106/1112 [3:41:22<01:18, 13.09s/it]"
     ]
    },
    {
     "name": "stdout",
     "output_type": "stream",
     "text": [
      "Saved: correlation_matrices/SBL_0051581_func_preproc_corr.npy\n"
     ]
    },
    {
     "name": "stderr",
     "output_type": "stream",
     "text": [
      "Parallel Processing: 100%|█████████▉| 1107/1112 [3:41:39<01:10, 14.18s/it]"
     ]
    },
    {
     "name": "stdout",
     "output_type": "stream",
     "text": [
      "Saved: correlation_matrices/SBL_0051582_func_preproc_corr.npy\n"
     ]
    },
    {
     "name": "stderr",
     "output_type": "stream",
     "text": [
      "Parallel Processing: 100%|█████████▉| 1108/1112 [3:41:41<00:42, 10.59s/it]"
     ]
    },
    {
     "name": "stdout",
     "output_type": "stream",
     "text": [
      "Saved: correlation_matrices/SBL_0051583_func_preproc_corr.npy\n"
     ]
    },
    {
     "name": "stderr",
     "output_type": "stream",
     "text": [
      "Parallel Processing: 100%|█████████▉| 1109/1112 [3:41:44<00:24,  8.22s/it]"
     ]
    },
    {
     "name": "stdout",
     "output_type": "stream",
     "text": [
      "Saved: correlation_matrices/SBL_0051584_func_preproc_corr.npy\n"
     ]
    },
    {
     "name": "stderr",
     "output_type": "stream",
     "text": [
      "Parallel Processing: 100%|█████████▉| 1110/1112 [3:42:00<00:21, 10.68s/it]"
     ]
    },
    {
     "name": "stdout",
     "output_type": "stream",
     "text": [
      "Saved: correlation_matrices/SBL_0051585_func_preproc_corr.npy\n"
     ]
    },
    {
     "name": "stderr",
     "output_type": "stream",
     "text": [
      "Parallel Processing: 100%|█████████▉| 1111/1112 [3:42:01<00:07,  7.85s/it]"
     ]
    },
    {
     "name": "stdout",
     "output_type": "stream",
     "text": [
      "Saved: correlation_matrices/MaxMun_a_0051606_func_preproc_corr.npy\n"
     ]
    },
    {
     "name": "stderr",
     "output_type": "stream",
     "text": [
      "Parallel Processing: 100%|██████████| 1112/1112 [3:42:02<00:00, 11.98s/it]"
     ]
    },
    {
     "name": "stdout",
     "output_type": "stream",
     "text": [
      "Saved: correlation_matrices/MaxMun_a_0051607_func_preproc_corr.npy\n"
     ]
    },
    {
     "name": "stderr",
     "output_type": "stream",
     "text": [
      "\n"
     ]
    }
   ],
   "source": [
    "from concurrent.futures import ThreadPoolExecutor\n",
    "from tqdm import tqdm\n",
    "import os\n",
    "import urllib.request as request\n",
    "\n",
    "def process_row(pheno_row):\n",
    "    try:\n",
    "        cs_row = pheno_row.decode().split(',')\n",
    "        row_file_id = cs_row[file_idx]\n",
    "        filename = f\"{row_file_id}_func_preproc.nii.gz\"\n",
    "        s3_path = '/'.join([s3_prefix, 'Outputs', \"cpac\", \"nofilt_noglobal\", \"func_preproc\", filename])\n",
    "        \n",
    "        rel_path = s3_path.lstrip(s3_prefix)\n",
    "        download_file = os.path.join(\".\", rel_path)\n",
    "        download_dir = os.path.dirname(download_file)\n",
    "\n",
    "\n",
    "        os.makedirs(download_dir, exist_ok=True)\n",
    "\n",
    "        if not os.path.exists(download_file):\n",
    "            request.urlretrieve(s3_path, download_file)\n",
    "        corr(download_file)\n",
    "        os.remove(download_file)\n",
    "\n",
    "    except Exception as e:\n",
    "        print(f\"Error: {e}\")\n",
    "\n",
    "with ThreadPoolExecutor(max_workers=4) as executor:\n",
    "    list(tqdm(executor.map(process_row, pheno_list[1:]), total=len(pheno_list[1:]), desc=\"Parallel Processing\"))\n"
   ]
  }
 ],
 "metadata": {
  "kaggle": {
   "accelerator": "none",
   "dataSources": [],
   "dockerImageVersionId": 31012,
   "isGpuEnabled": false,
   "isInternetEnabled": true,
   "language": "python",
   "sourceType": "notebook"
  },
  "kernelspec": {
   "display_name": "Python 3",
   "language": "python",
   "name": "python3"
  },
  "language_info": {
   "codemirror_mode": {
    "name": "ipython",
    "version": 3
   },
   "file_extension": ".py",
   "mimetype": "text/x-python",
   "name": "python",
   "nbconvert_exporter": "python",
   "pygments_lexer": "ipython3",
   "version": "3.11.11"
  },
  "papermill": {
   "default_parameters": {},
   "duration": 13346.130421,
   "end_time": "2025-04-24T19:13:07.580766",
   "environment_variables": {},
   "exception": null,
   "input_path": "__notebook__.ipynb",
   "output_path": "__notebook__.ipynb",
   "parameters": {},
   "start_time": "2025-04-24T15:30:41.450345",
   "version": "2.6.0"
  }
 },
 "nbformat": 4,
 "nbformat_minor": 5
}
